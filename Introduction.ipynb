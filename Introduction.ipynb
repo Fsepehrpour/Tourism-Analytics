{
 "cells": [
  {
   "cell_type": "markdown",
   "metadata": {},
   "source": [
    "# Introduction to Tourism Analytics\n",
    "\n",
    "Collection + examination of visitor data >> to understand travel patterns to improve decision making by leveraging tools such as \"big data\", \"artificiall intelligence\", and \"Geographic Information System (GIS)\".\n",
    "\n",
    "Tourism analytics involves the process of:\n",
    "    * collecting\n",
    "    * measuring\n",
    "    * analyzing\n",
    "    * interpreting\n",
    "data to explore insights into travelers bahavior, preferences and trends.\n",
    "\n"
   ]
  }
 ],
 "metadata": {
  "language_info": {
   "name": "python"
  }
 },
 "nbformat": 4,
 "nbformat_minor": 2
}
