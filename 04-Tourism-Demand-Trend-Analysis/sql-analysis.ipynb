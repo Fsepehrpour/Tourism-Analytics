{
 "cells": [
  {
   "cell_type": "code",
   "execution_count": 1,
   "metadata": {},
   "outputs": [],
   "source": [
    "# Required package for running SQL queries: ipython-sql\n",
    "# If not installed run: !pip install ipython-sql\n",
    "\n",
    "# Load sql extention\n",
    "%load_ext sql\n",
    "\n",
    "import pandas as pd\n",
    "import sqlite3"
   ]
  },
  {
   "cell_type": "code",
   "execution_count": 2,
   "metadata": {},
   "outputs": [],
   "source": [
    "# Load cleaned data\n",
    "df = pd.read_csv('./unwto_cleaned_long.csv')\n",
    "\n",
    "# Connect to SQLIte database\n",
    "conn = sqlite3.connect('tourism.db')\n",
    "\n",
    "\n",
    "# Save dataframe to SQL table\n",
    "df.to_sql('tourism_data', conn, if_exists='replace', index=False)\n",
    "\n",
    "# Load sql extension with this connection\n",
    "%sql sqlite:///tourism.db"
   ]
  },
  {
   "cell_type": "code",
   "execution_count": 3,
   "metadata": {},
   "outputs": [],
   "source": [
    "%config SqlMagic.style = '_DEPRECATED_DEFAULT'"
   ]
  },
  {
   "cell_type": "markdown",
   "metadata": {},
   "source": [
    "#### Data Exploration"
   ]
  },
  {
   "cell_type": "code",
   "execution_count": 4,
   "metadata": {},
   "outputs": [
    {
     "name": "stdout",
     "output_type": "stream",
     "text": [
      " * sqlite:///tourism.db\n",
      "Done.\n"
     ]
    },
    {
     "data": {
      "text/html": [
       "<table>\n",
       "    <thead>\n",
       "        <tr>\n",
       "            <th>Country</th>\n",
       "            <th>Indicator</th>\n",
       "            <th>Year</th>\n",
       "            <th>Value</th>\n",
       "        </tr>\n",
       "    </thead>\n",
       "    <tbody>\n",
       "        <tr>\n",
       "            <td>ALGERIA</td>\n",
       "            <td>Number of rooms</td>\n",
       "            <td>1995</td>\n",
       "            <td>31805.0</td>\n",
       "        </tr>\n",
       "        <tr>\n",
       "            <td>ALGERIA</td>\n",
       "            <td>Number of bed-places</td>\n",
       "            <td>1995</td>\n",
       "            <td>63614.0</td>\n",
       "        </tr>\n",
       "        <tr>\n",
       "            <td>ALGERIA</td>\n",
       "            <td>Occupancy rate / bed-places</td>\n",
       "            <td>1995</td>\n",
       "            <td>33.34</td>\n",
       "        </tr>\n",
       "        <tr>\n",
       "            <td>ANGOLA</td>\n",
       "            <td>Number of rooms</td>\n",
       "            <td>1995</td>\n",
       "            <td>4943.0</td>\n",
       "        </tr>\n",
       "        <tr>\n",
       "            <td>ANGOLA</td>\n",
       "            <td>Number of bed-places</td>\n",
       "            <td>1995</td>\n",
       "            <td>6783.0</td>\n",
       "        </tr>\n",
       "    </tbody>\n",
       "</table>"
      ],
      "text/plain": [
       "[('ALGERIA', 'Number of rooms', 1995, 31805.0),\n",
       " ('ALGERIA', 'Number of bed-places', 1995, 63614.0),\n",
       " ('ALGERIA', 'Occupancy rate / bed-places', 1995, 33.34),\n",
       " ('ANGOLA', 'Number of rooms', 1995, 4943.0),\n",
       " ('ANGOLA', 'Number of bed-places', 1995, 6783.0)]"
      ]
     },
     "execution_count": 4,
     "metadata": {},
     "output_type": "execute_result"
    }
   ],
   "source": [
    "%%sql\n",
    "SELECT * FROM tourism_data LIMIT 5;"
   ]
  },
  {
   "cell_type": "code",
   "execution_count": 5,
   "metadata": {},
   "outputs": [
    {
     "name": "stdout",
     "output_type": "stream",
     "text": [
      " * sqlite:///tourism.db\n",
      "Done.\n"
     ]
    },
    {
     "data": {
      "text/html": [
       "<table>\n",
       "    <thead>\n",
       "        <tr>\n",
       "            <th>total_rows</th>\n",
       "            <th>unique_countries</th>\n",
       "        </tr>\n",
       "    </thead>\n",
       "    <tbody>\n",
       "        <tr>\n",
       "            <td>20015</td>\n",
       "            <td>215</td>\n",
       "        </tr>\n",
       "    </tbody>\n",
       "</table>"
      ],
      "text/plain": [
       "[(20015, 215)]"
      ]
     },
     "execution_count": 5,
     "metadata": {},
     "output_type": "execute_result"
    }
   ],
   "source": [
    "%%sql\n",
    "SELECT COUNT(*) AS total_rows, COUNT(DISTINCT Country) AS unique_countries FROM tourism_data;\n"
   ]
  },
  {
   "cell_type": "markdown",
   "metadata": {},
   "source": [
    "#### Find Total Bed-Places Over Time"
   ]
  },
  {
   "cell_type": "code",
   "execution_count": 6,
   "metadata": {},
   "outputs": [
    {
     "name": "stdout",
     "output_type": "stream",
     "text": [
      " * sqlite:///tourism.db\n",
      "Done.\n"
     ]
    },
    {
     "data": {
      "text/html": [
       "<table>\n",
       "    <thead>\n",
       "        <tr>\n",
       "            <th>Year</th>\n",
       "            <th>Total_Bed_Places</th>\n",
       "        </tr>\n",
       "    </thead>\n",
       "    <tbody>\n",
       "        <tr>\n",
       "            <td>1995</td>\n",
       "            <td>15720391.0</td>\n",
       "        </tr>\n",
       "        <tr>\n",
       "            <td>1996</td>\n",
       "            <td>16130980.0</td>\n",
       "        </tr>\n",
       "        <tr>\n",
       "            <td>1997</td>\n",
       "            <td>16748724.0</td>\n",
       "        </tr>\n",
       "        <tr>\n",
       "            <td>1998</td>\n",
       "            <td>17912510.0</td>\n",
       "        </tr>\n",
       "        <tr>\n",
       "            <td>1999</td>\n",
       "            <td>18697077.0</td>\n",
       "        </tr>\n",
       "        <tr>\n",
       "            <td>2000</td>\n",
       "            <td>19170642.0</td>\n",
       "        </tr>\n",
       "        <tr>\n",
       "            <td>2001</td>\n",
       "            <td>19378054.0</td>\n",
       "        </tr>\n",
       "        <tr>\n",
       "            <td>2002</td>\n",
       "            <td>19885084.0</td>\n",
       "        </tr>\n",
       "        <tr>\n",
       "            <td>2003</td>\n",
       "            <td>20573073.0</td>\n",
       "        </tr>\n",
       "        <tr>\n",
       "            <td>2004</td>\n",
       "            <td>21711195.0</td>\n",
       "        </tr>\n",
       "        <tr>\n",
       "            <td>2005</td>\n",
       "            <td>22340321.0</td>\n",
       "        </tr>\n",
       "        <tr>\n",
       "            <td>2006</td>\n",
       "            <td>22927559.0</td>\n",
       "        </tr>\n",
       "        <tr>\n",
       "            <td>2007</td>\n",
       "            <td>23769928.0</td>\n",
       "        </tr>\n",
       "        <tr>\n",
       "            <td>2008</td>\n",
       "            <td>26523341.416899018</td>\n",
       "        </tr>\n",
       "        <tr>\n",
       "            <td>2009</td>\n",
       "            <td>27458557.25361317</td>\n",
       "        </tr>\n",
       "        <tr>\n",
       "            <td>2010</td>\n",
       "            <td>29288008.451183785</td>\n",
       "        </tr>\n",
       "        <tr>\n",
       "            <td>2011</td>\n",
       "            <td>30318056.624465834</td>\n",
       "        </tr>\n",
       "        <tr>\n",
       "            <td>2012</td>\n",
       "            <td>30462745.646093633</td>\n",
       "        </tr>\n",
       "        <tr>\n",
       "            <td>2013</td>\n",
       "            <td>29856760.0</td>\n",
       "        </tr>\n",
       "        <tr>\n",
       "            <td>2014</td>\n",
       "            <td>32498936.0</td>\n",
       "        </tr>\n",
       "        <tr>\n",
       "            <td>2015</td>\n",
       "            <td>33560889.0</td>\n",
       "        </tr>\n",
       "        <tr>\n",
       "            <td>2016</td>\n",
       "            <td>36993732.0</td>\n",
       "        </tr>\n",
       "        <tr>\n",
       "            <td>2017</td>\n",
       "            <td>32962421.0</td>\n",
       "        </tr>\n",
       "        <tr>\n",
       "            <td>2018</td>\n",
       "            <td>33591277.0</td>\n",
       "        </tr>\n",
       "        <tr>\n",
       "            <td>2019</td>\n",
       "            <td>33182311.37919086</td>\n",
       "        </tr>\n",
       "        <tr>\n",
       "            <td>2020</td>\n",
       "            <td>32754837.0</td>\n",
       "        </tr>\n",
       "        <tr>\n",
       "            <td>2021</td>\n",
       "            <td>33047891.0</td>\n",
       "        </tr>\n",
       "        <tr>\n",
       "            <td>2022</td>\n",
       "            <td>31601573.0</td>\n",
       "        </tr>\n",
       "    </tbody>\n",
       "</table>"
      ],
      "text/plain": [
       "[(1995, 15720391.0),\n",
       " (1996, 16130980.0),\n",
       " (1997, 16748724.0),\n",
       " (1998, 17912510.0),\n",
       " (1999, 18697077.0),\n",
       " (2000, 19170642.0),\n",
       " (2001, 19378054.0),\n",
       " (2002, 19885084.0),\n",
       " (2003, 20573073.0),\n",
       " (2004, 21711195.0),\n",
       " (2005, 22340321.0),\n",
       " (2006, 22927559.0),\n",
       " (2007, 23769928.0),\n",
       " (2008, 26523341.416899018),\n",
       " (2009, 27458557.25361317),\n",
       " (2010, 29288008.451183785),\n",
       " (2011, 30318056.624465834),\n",
       " (2012, 30462745.646093633),\n",
       " (2013, 29856760.0),\n",
       " (2014, 32498936.0),\n",
       " (2015, 33560889.0),\n",
       " (2016, 36993732.0),\n",
       " (2017, 32962421.0),\n",
       " (2018, 33591277.0),\n",
       " (2019, 33182311.37919086),\n",
       " (2020, 32754837.0),\n",
       " (2021, 33047891.0),\n",
       " (2022, 31601573.0)]"
      ]
     },
     "execution_count": 6,
     "metadata": {},
     "output_type": "execute_result"
    }
   ],
   "source": [
    "%%sql\n",
    "\n",
    "SELECT YEAR, SUM(Value) AS Total_Bed_Places\n",
    "FROM tourism_data\n",
    "WHERE Indicator = 'Number of bed-places'\n",
    "GROUP BY YEAR\n",
    "ORDER BY YEAR"
   ]
  },
  {
   "cell_type": "code",
   "execution_count": 7,
   "metadata": {},
   "outputs": [],
   "source": [
    "# Visualization"
   ]
  },
  {
   "cell_type": "code",
   "execution_count": 8,
   "metadata": {},
   "outputs": [
    {
     "name": "stdout",
     "output_type": "stream",
     "text": [
      " * sqlite:///tourism.db\n",
      "Done.\n"
     ]
    }
   ],
   "source": [
    "result = %sql SELECT YEAR, SUM(Value) AS Total_Bed_Places \\\n",
    "              FROM tourism_data \\\n",
    "              WHERE Indicator = 'Number of bed-places' \\\n",
    "              GROUP BY YEAR \\\n",
    "              ORDER BY YEAR\n",
    "\n",
    "df_bed_places = result.DataFrame()"
   ]
  },
  {
   "cell_type": "code",
   "execution_count": 9,
   "metadata": {},
   "outputs": [
    {
     "data": {
      "image/png": "[encoded data removed]",
      "text/plain": [
       "<Figure size 1000x500 with 1 Axes>"
      ]
     },
     "metadata": {},
     "output_type": "display_data"
    }
   ],
   "source": [
    "import matplotlib.pyplot as plt\n",
    "\n",
    "plt.figure(figsize=(10, 5))\n",
    "plt.plot(df_bed_places['Year'], df_bed_places['Total_Bed_Places'], marker='o')\n",
    "plt.title('Total Number of Bed-places Over Years')\n",
    "plt.xlabel('Year')\n",
    "plt.ylabel('Total Bed Places')\n",
    "plt.grid(True)\n",
    "\n",
    "# Annotation for 2008 Financial Crisis\n",
    "value_2008 = df_bed_places[df_bed_places['Year'] == 2008]['Total_Bed_Places'].values[0]\n",
    "plt.annotate('2008 Financial Crisis',\n",
    "             xy=(2008, value_2008),\n",
    "             xytext=(2005, value_2008 + 5e6),\n",
    "             arrowprops=dict(arrowstyle='->', color='green'))\n",
    "\n",
    "# Annotation for 2020 COVID-19 Pandemic\n",
    "value_2020 = df_bed_places[df_bed_places['Year'] == 2020]['Total_Bed_Places'].values[0]\n",
    "plt.annotate('2020 COVID-19 Pandemic',\n",
    "             xy=(2020, value_2020),\n",
    "             xytext=(2017, value_2020 + 5e6),\n",
    "             arrowprops=dict(arrowstyle='->', color='green'))\n",
    "\n",
    "plt.tight_layout()\n",
    "plt.show()"
   ]
  },
  {
   "cell_type": "code",
   "execution_count": 10,
   "metadata": {},
   "outputs": [
    {
     "data": {
      "application/vnd.plotly.v1+json": {
       "config": {
        "plotlyServerURL": "https://plot.ly"
       },
       "data": [
        {
         "hovertemplate": "Year=%{x}<br>Total Bed Places=%{y}<extra></extra>",
         "legendgroup": "",
         "line": {
          "color": "#636efa",
          "dash": "solid"
         },
         "marker": {
          "symbol": "circle"
         },
         "mode": "lines",
         "name": "",
         "orientation": "v",
         "showlegend": false,
         "type": "scatter",
         "x": [
          1995,
          1996,
          1997,
          1998,
          1999,
          2000,
          2001,
          2002,
          2003,
          2004,
          2005,
          2006,
          2007,
          2008,
          2009,
          2010,
          2011,
          2012,
          2013,
          2014,
          2015,
          2016,
          2017,
          2018,
          2019,
          2020,
          2021,
          2022
         ],
         "xaxis": "x",
         "y": [
          15720391,
          16130980,
          16748724,
          17912510,
          18697077,
          19170642,
          19378054,
          19885084,
          20573073,
          21711195,
          22340321,
          22927559,
          23769928,
          26523341.416899018,
          27458557.25361317,
          29288008.451183785,
          30318056.624465834,
          30462745.646093633,
          29856760,
          32498936,
          33560889,
          36993732,
          32962421,
          33591277,
          33182311.37919086,
          32754837,
          33047891,
          31601573
         ],
         "yaxis": "y"
        }
       ],
       "layout": {
        "annotations": [
         {
          "arrowhead": 2,
          "ax": 0,
          "ay": -60,
          "showarrow": true,
          "text": "2008 Financial Crisis",
          "x": 2008,
          "y": 26523341.416899018
         },
         {
          "arrowhead": 2,
          "ax": 0,
          "ay": -60,
          "showarrow": true,
          "text": "2020 COVID-19 Pandemic",
          "x": 2020,
          "y": 32754837
         }
        ],
        "legend": {
         "tracegroupgap": 0
        },
        "template": {
         "data": {
          "bar": [
           {
            "error_x": {
             "color": "#2a3f5f"
            },
            "error_y": {
             "color": "#2a3f5f"
            },
            "marker": {
             "line": {
              "color": "#E5ECF6",
              "width": 0.5
             },
             "pattern": {
              "fillmode": "overlay",
              "size": 10,
              "solidity": 0.2
             }
            },
            "type": "bar"
           }
          ],
          "barpolar": [
           {
            "marker": {
             "line": {
              "color": "#E5ECF6",
              "width": 0.5
             },
             "pattern": {
              "fillmode": "overlay",
              "size": 10,
              "solidity": 0.2
             }
            },
            "type": "barpolar"
           }
          ],
          "carpet": [
           {
            "aaxis": {
             "endlinecolor": "#2a3f5f",
             "gridcolor": "white",
             "linecolor": "white",
             "minorgridcolor": "white",
             "startlinecolor": "#2a3f5f"
            },
            "baxis": {
             "endlinecolor": "#2a3f5f",
             "gridcolor": "white",
             "linecolor": "white",
             "minorgridcolor": "white",
             "startlinecolor": "#2a3f5f"
            },
            "type": "carpet"
           }
          ],
          "choropleth": [
           {
            "colorbar": {
             "outlinewidth": 0,
             "ticks": ""
            },
            "type": "choropleth"
           }
          ],
          "contour": [
           {
            "colorbar": {
             "outlinewidth": 0,
             "ticks": ""
            },
            "colorscale": [
             [
              0,
              "#0d0887"
             ],
             [
              0.1111111111111111,
              "#46039f"
             ],
             [
              0.2222222222222222,
              "#7201a8"
             ],
             [
              0.3333333333333333,
              "#9c179e"
             ],
             [
              0.4444444444444444,
              "#bd3786"
             ],
             [
              0.5555555555555556,
              "#d8576b"
             ],
             [
              0.6666666666666666,
              "#ed7953"
             ],
             [
              0.7777777777777778,
              "#fb9f3a"
             ],
             [
              0.8888888888888888,
              "#fdca26"
             ],
             [
              1,
              "#f0f921"
             ]
            ],
            "type": "contour"
           }
          ],
          "contourcarpet": [
           {
            "colorbar": {
             "outlinewidth": 0,
             "ticks": ""
            },
            "type": "contourcarpet"
           }
          ],
          "heatmap": [
           {
            "colorbar": {
             "outlinewidth": 0,
             "ticks": ""
            },
            "colorscale": [
             [
              0,
              "#0d0887"
             ],
             [
              0.1111111111111111,
              "#46039f"
             ],
             [
              0.2222222222222222,
              "#7201a8"
             ],
             [
              0.3333333333333333,
              "#9c179e"
             ],
             [
              0.4444444444444444,
              "#bd3786"
             ],
             [
              0.5555555555555556,
              "#d8576b"
             ],
             [
              0.6666666666666666,
              "#ed7953"
             ],
             [
              0.7777777777777778,
              "#fb9f3a"
             ],
             [
              0.8888888888888888,
              "#fdca26"
             ],
             [
              1,
              "#f0f921"
             ]
            ],
            "type": "heatmap"
           }
          ],
          "heatmapgl": [
           {
            "colorbar": {
             "outlinewidth": 0,
             "ticks": ""
            },
            "colorscale": [
             [
              0,
              "#0d0887"
             ],
             [
              0.1111111111111111,
              "#46039f"
             ],
             [
              0.2222222222222222,
              "#7201a8"
             ],
             [
              0.3333333333333333,
              "#9c179e"
             ],
             [
              0.4444444444444444,
              "#bd3786"
             ],
             [
              0.5555555555555556,
              "#d8576b"
             ],
             [
              0.6666666666666666,
              "#ed7953"
             ],
             [
              0.7777777777777778,
              "#fb9f3a"
             ],
             [
              0.8888888888888888,
              "#fdca26"
             ],
             [
              1,
              "#f0f921"
             ]
            ],
            "type": "heatmapgl"
           }
          ],
          "histogram": [
           {
            "marker": {
             "pattern": {
              "fillmode": "overlay",
              "size": 10,
              "solidity": 0.2
             }
            },
            "type": "histogram"
           }
          ],
          "histogram2d": [
           {
            "colorbar": {
             "outlinewidth": 0,
             "ticks": ""
            },
            "colorscale": [
             [
              0,
              "#0d0887"
             ],
             [
              0.1111111111111111,
              "#46039f"
             ],
             [
              0.2222222222222222,
              "#7201a8"
             ],
             [
              0.3333333333333333,
              "#9c179e"
             ],
             [
              0.4444444444444444,
              "#bd3786"
             ],
             [
              0.5555555555555556,
              "#d8576b"
             ],
             [
              0.6666666666666666,
              "#ed7953"
             ],
             [
              0.7777777777777778,
              "#fb9f3a"
             ],
             [
              0.8888888888888888,
              "#fdca26"
             ],
             [
              1,
              "#f0f921"
             ]
            ],
            "type": "histogram2d"
           }
          ],
          "histogram2dcontour": [
           {
            "colorbar": {
             "outlinewidth": 0,
             "ticks": ""
            },
            "colorscale": [
             [
              0,
              "#0d0887"
             ],
             [
              0.1111111111111111,
              "#46039f"
             ],
             [
              0.2222222222222222,
              "#7201a8"
             ],
             [
              0.3333333333333333,
              "#9c179e"
             ],
             [
              0.4444444444444444,
              "#bd3786"
             ],
             [
              0.5555555555555556,
              "#d8576b"
             ],
             [
              0.6666666666666666,
              "#ed7953"
             ],
             [
              0.7777777777777778,
              "#fb9f3a"
             ],
             [
              0.8888888888888888,
              "#fdca26"
             ],
             [
              1,
              "#f0f921"
             ]
            ],
            "type": "histogram2dcontour"
           }
          ],
          "mesh3d": [
           {
            "colorbar": {
             "outlinewidth": 0,
             "ticks": ""
            },
            "type": "mesh3d"
           }
          ],
          "parcoords": [
           {
            "line": {
             "colorbar": {
              "outlinewidth": 0,
              "ticks": ""
             }
            },
            "type": "parcoords"
           }
          ],
          "pie": [
           {
            "automargin": true,
            "type": "pie"
           }
          ],
          "scatter": [
           {
            "fillpattern": {
             "fillmode": "overlay",
             "size": 10,
             "solidity": 0.2
            },
            "type": "scatter"
           }
          ],
          "scatter3d": [
           {
            "line": {
             "colorbar": {
              "outlinewidth": 0,
              "ticks": ""
             }
            },
            "marker": {
             "colorbar": {
              "outlinewidth": 0,
              "ticks": ""
             }
            },
            "type": "scatter3d"
           }
          ],
          "scattercarpet": [
           {
            "marker": {
             "colorbar": {
              "outlinewidth": 0,
              "ticks": ""
             }
            },
            "type": "scattercarpet"
           }
          ],
          "scattergeo": [
           {
            "marker": {
             "colorbar": {
              "outlinewidth": 0,
              "ticks": ""
             }
            },
            "type": "scattergeo"
           }
          ],
          "scattergl": [
           {
            "marker": {
             "colorbar": {
              "outlinewidth": 0,
              "ticks": ""
             }
            },
            "type": "scattergl"
           }
          ],
          "scattermapbox": [
           {
            "marker": {
             "colorbar": {
              "outlinewidth": 0,
              "ticks": ""
             }
            },
            "type": "scattermapbox"
           }
          ],
          "scatterpolar": [
           {
            "marker": {
             "colorbar": {
              "outlinewidth": 0,
              "ticks": ""
             }
            },
            "type": "scatterpolar"
           }
          ],
          "scatterpolargl": [
           {
            "marker": {
             "colorbar": {
              "outlinewidth": 0,
              "ticks": ""
             }
            },
            "type": "scatterpolargl"
           }
          ],
          "scatterternary": [
           {
            "marker": {
             "colorbar": {
              "outlinewidth": 0,
              "ticks": ""
             }
            },
            "type": "scatterternary"
           }
          ],
          "surface": [
           {
            "colorbar": {
             "outlinewidth": 0,
             "ticks": ""
            },
            "colorscale": [
             [
              0,
              "#0d0887"
             ],
             [
              0.1111111111111111,
              "#46039f"
             ],
             [
              0.2222222222222222,
              "#7201a8"
             ],
             [
              0.3333333333333333,
              "#9c179e"
             ],
             [
              0.4444444444444444,
              "#bd3786"
             ],
             [
              0.5555555555555556,
              "#d8576b"
             ],
             [
              0.6666666666666666,
              "#ed7953"
             ],
             [
              0.7777777777777778,
              "#fb9f3a"
             ],
             [
              0.8888888888888888,
              "#fdca26"
             ],
             [
              1,
              "#f0f921"
             ]
            ],
            "type": "surface"
           }
          ],
          "table": [
           {
            "cells": {
             "fill": {
              "color": "#EBF0F8"
             },
             "line": {
              "color": "white"
             }
            },
            "header": {
             "fill": {
              "color": "#C8D4E3"
             },
             "line": {
              "color": "white"
             }
            },
            "type": "table"
           }
          ]
         },
         "layout": {
          "annotationdefaults": {
           "arrowcolor": "#2a3f5f",
           "arrowhead": 0,
           "arrowwidth": 1
          },
          "autotypenumbers": "strict",
          "coloraxis": {
           "colorbar": {
            "outlinewidth": 0,
            "ticks": ""
           }
          },
          "colorscale": {
           "diverging": [
            [
             0,
             "#8e0152"
            ],
            [
             0.1,
             "#c51b7d"
            ],
            [
             0.2,
             "#de77ae"
            ],
            [
             0.3,
             "#f1b6da"
            ],
            [
             0.4,
             "#fde0ef"
            ],
            [
             0.5,
             "#f7f7f7"
            ],
            [
             0.6,
             "#e6f5d0"
            ],
            [
             0.7,
             "#b8e186"
            ],
            [
             0.8,
             "#7fbc41"
            ],
            [
             0.9,
             "#4d9221"
            ],
            [
             1,
             "#276419"
            ]
           ],
           "sequential": [
            [
             0,
             "#0d0887"
            ],
            [
             0.1111111111111111,
             "#46039f"
            ],
            [
             0.2222222222222222,
             "#7201a8"
            ],
            [
             0.3333333333333333,
             "#9c179e"
            ],
            [
             0.4444444444444444,
             "#bd3786"
            ],
            [
             0.5555555555555556,
             "#d8576b"
            ],
            [
             0.6666666666666666,
             "#ed7953"
            ],
            [
             0.7777777777777778,
             "#fb9f3a"
            ],
            [
             0.8888888888888888,
             "#fdca26"
            ],
            [
             1,
             "#f0f921"
            ]
           ],
           "sequentialminus": [
            [
             0,
             "#0d0887"
            ],
            [
             0.1111111111111111,
             "#46039f"
            ],
            [
             0.2222222222222222,
             "#7201a8"
            ],
            [
             0.3333333333333333,
             "#9c179e"
            ],
            [
             0.4444444444444444,
             "#bd3786"
            ],
            [
             0.5555555555555556,
             "#d8576b"
            ],
            [
             0.6666666666666666,
             "#ed7953"
            ],
            [
             0.7777777777777778,
             "#fb9f3a"
            ],
            [
             0.8888888888888888,
             "#fdca26"
            ],
            [
             1,
             "#f0f921"
            ]
           ]
          },
          "colorway": [
           "#636efa",
           "#EF553B",
           "#00cc96",
           "#ab63fa",
           "#FFA15A",
           "#19d3f3",
           "#FF6692",
           "#B6E880",
           "#FF97FF",
           "#FECB52"
          ],
          "font": {
           "color": "#2a3f5f"
          },
          "geo": {
           "bgcolor": "white",
           "lakecolor": "white",
           "landcolor": "#E5ECF6",
           "showlakes": true,
           "showland": true,
           "subunitcolor": "white"
          },
          "hoverlabel": {
           "align": "left"
          },
          "hovermode": "closest",
          "mapbox": {
           "style": "light"
          },
          "paper_bgcolor": "white",
          "plot_bgcolor": "#E5ECF6",
          "polar": {
           "angularaxis": {
            "gridcolor": "white",
            "linecolor": "white",
            "ticks": ""
           },
           "bgcolor": "#E5ECF6",
           "radialaxis": {
            "gridcolor": "white",
            "linecolor": "white",
            "ticks": ""
           }
          },
          "scene": {
           "xaxis": {
            "backgroundcolor": "#E5ECF6",
            "gridcolor": "white",
            "gridwidth": 2,
            "linecolor": "white",
            "showbackground": true,
            "ticks": "",
            "zerolinecolor": "white"
           },
           "yaxis": {
            "backgroundcolor": "#E5ECF6",
            "gridcolor": "white",
            "gridwidth": 2,
            "linecolor": "white",
            "showbackground": true,
            "ticks": "",
            "zerolinecolor": "white"
           },
           "zaxis": {
            "backgroundcolor": "#E5ECF6",
            "gridcolor": "white",
            "gridwidth": 2,
            "linecolor": "white",
            "showbackground": true,
            "ticks": "",
            "zerolinecolor": "white"
           }
          },
          "shapedefaults": {
           "line": {
            "color": "#2a3f5f"
           }
          },
          "ternary": {
           "aaxis": {
            "gridcolor": "white",
            "linecolor": "white",
            "ticks": ""
           },
           "baxis": {
            "gridcolor": "white",
            "linecolor": "white",
            "ticks": ""
           },
           "bgcolor": "#E5ECF6",
           "caxis": {
            "gridcolor": "white",
            "linecolor": "white",
            "ticks": ""
           }
          },
          "title": {
           "x": 0.05
          },
          "xaxis": {
           "automargin": true,
           "gridcolor": "white",
           "linecolor": "white",
           "ticks": "",
           "title": {
            "standoff": 15
           },
           "zerolinecolor": "white",
           "zerolinewidth": 2
          },
          "yaxis": {
           "automargin": true,
           "gridcolor": "white",
           "linecolor": "white",
           "ticks": "",
           "title": {
            "standoff": 15
           },
           "zerolinecolor": "white",
           "zerolinewidth": 2
          }
         }
        },
        "title": {
         "text": "Total Number of Bed-places Over Years"
        },
        "xaxis": {
         "anchor": "y",
         "domain": [
          0,
          1
         ],
         "title": {
          "text": "Year"
         }
        },
        "yaxis": {
         "anchor": "x",
         "domain": [
          0,
          1
         ],
         "title": {
          "text": "Total Bed Places"
         }
        }
       }
      }
     },
     "metadata": {},
     "output_type": "display_data"
    }
   ],
   "source": [
    "import plotly.express as px\n",
    "\n",
    "fig = px.line(df_bed_places, x='Year', y='Total_Bed_Places',\n",
    "              title='Total Number of Bed-places Over Years',\n",
    "              labels={'Year': 'Year', 'Total_Bed_Places': 'Total Bed Places'})\n",
    "\n",
    "# Add annotations for global events\n",
    "fig.add_annotation(x=2008, y=df_bed_places[df_bed_places['Year'] == 2008]['Total_Bed_Places'].values[0],\n",
    "                   text=\"2008 Financial Crisis\",\n",
    "                   showarrow=True,\n",
    "                   arrowhead=2,\n",
    "                   ax=0,\n",
    "                   ay=-60)\n",
    "\n",
    "fig.add_annotation(x=2020, y=df_bed_places[df_bed_places['Year'] == 2020]['Total_Bed_Places'].values[0],\n",
    "                   text=\"2020 COVID-19 Pandemic\",\n",
    "                   showarrow=True,\n",
    "                   arrowhead=2,\n",
    "                   ax=0,\n",
    "                   ay=-60)\n",
    "\n",
    "\n",
    "fig.show()\n"
   ]
  },
  {
   "cell_type": "markdown",
   "metadata": {},
   "source": [
    "### Insight:\n",
    "- **1995–2015: Strong Growth Phase**\n",
    "From 1995 to 2015, there is a steady and significant increase in total bed capacity, almost doubling over two decades.\n",
    "\n",
    "- This indicates:\n",
    "\n",
    "    - Growing investment in tourism infrastructure\n",
    "    - Likely rising demand for accommodations (possibly aligned with increased international arrivals, budget travel, and policy shifts).\n",
    "\n",
    "- **2015 Peak:**\n",
    "    - The number of bed-places peaks around 2015–2016.\n",
    "    - This may reflect a saturation point or a boom in hotel and lodging development.\n",
    "    - It could also relate to:\n",
    "        - **Large international events**\n",
    "        - **Economic optimism**\n",
    "        - Growth of **alternative accommodations** like hostels and Airbnb listings, depending on how “bed-places” were defined.\n",
    "\n",
    "- **2017–2023: Gradual Decline**\n",
    "    - From 2016 onward, the number begins to plateau and then decline.\n",
    "    - Specially after **2019–2020**, this trend becomes more noticeable, likely due to:\n",
    "        - The **COVID-19 pandemic**: shutdowns, bankruptcies, and reduced tourism activity\n",
    "        - Shifts in tourism demand toward **short-term rentals**, **informal stays**, or **reduced capacity for health compliance**\n",
    "        - **Economic instability**, discouraging new infrastructure investment"
   ]
  },
  {
   "cell_type": "markdown",
   "metadata": {},
   "source": [
    "#### Growth & Decline Contributors\n",
    "Top 20 countries contributing to:\n",
    "- **Growth** in bed-places from 1995 to 2022\n",
    "- **Decline** in bed-places from 2015 to 2022"
   ]
  },
  {
   "cell_type": "code",
   "execution_count": 11,
   "metadata": {},
   "outputs": [
    {
     "name": "stdout",
     "output_type": "stream",
     "text": [
      " * sqlite:///tourism.db\n",
      "Done.\n"
     ]
    },
    {
     "data": {
      "text/html": [
       "<table>\n",
       "    <thead>\n",
       "        <tr>\n",
       "            <th>Country</th>\n",
       "            <th>Bed_Places_2022</th>\n",
       "            <th>Bed_Places_1995</th>\n",
       "            <th>Growth</th>\n",
       "        </tr>\n",
       "    </thead>\n",
       "    <tbody>\n",
       "        <tr>\n",
       "            <td>TÜRKIYE</td>\n",
       "            <td>1724987.0</td>\n",
       "            <td>280463.0</td>\n",
       "            <td>1444524.0</td>\n",
       "        </tr>\n",
       "        <tr>\n",
       "            <td>CHINA</td>\n",
       "            <td>2046700.0</td>\n",
       "            <td>987275.0</td>\n",
       "            <td>1059425.0</td>\n",
       "        </tr>\n",
       "        <tr>\n",
       "            <td>MEXICO</td>\n",
       "            <td>1762044.0</td>\n",
       "            <td>740596.0</td>\n",
       "            <td>1021448.0</td>\n",
       "        </tr>\n",
       "        <tr>\n",
       "            <td>SPAIN</td>\n",
       "            <td>1992394.0</td>\n",
       "            <td>1074017.0</td>\n",
       "            <td>918377.0</td>\n",
       "        </tr>\n",
       "        <tr>\n",
       "            <td>INDONESIA</td>\n",
       "            <td>1169006.0</td>\n",
       "            <td>334856.0</td>\n",
       "            <td>834150.0</td>\n",
       "        </tr>\n",
       "        <tr>\n",
       "            <td>COLOMBIA</td>\n",
       "            <td>606446.0</td>\n",
       "            <td>93303.0</td>\n",
       "            <td>513143.0</td>\n",
       "        </tr>\n",
       "        <tr>\n",
       "            <td>ITALY</td>\n",
       "            <td>2241988.0</td>\n",
       "            <td>1738031.0</td>\n",
       "            <td>503957.0</td>\n",
       "        </tr>\n",
       "        <tr>\n",
       "            <td>GERMANY</td>\n",
       "            <td>1971314.0</td>\n",
       "            <td>1484275.0</td>\n",
       "            <td>487039.0</td>\n",
       "        </tr>\n",
       "        <tr>\n",
       "            <td>IRAN, ISLAMIC REPUBLIC OF</td>\n",
       "            <td>468593.0</td>\n",
       "            <td>41935.0</td>\n",
       "            <td>426658.0</td>\n",
       "        </tr>\n",
       "        <tr>\n",
       "            <td>GREECE</td>\n",
       "            <td>880624.0</td>\n",
       "            <td>533812.0</td>\n",
       "            <td>346812.0</td>\n",
       "        </tr>\n",
       "        <tr>\n",
       "            <td>EGYPT</td>\n",
       "            <td>425178.0</td>\n",
       "            <td>128957.0</td>\n",
       "            <td>296221.0</td>\n",
       "        </tr>\n",
       "        <tr>\n",
       "            <td>POLAND</td>\n",
       "            <td>381104.0</td>\n",
       "            <td>93309.0</td>\n",
       "            <td>287795.0</td>\n",
       "        </tr>\n",
       "        <tr>\n",
       "            <td>CZECH REPUBLIC (CZECHIA)</td>\n",
       "            <td>413801.0</td>\n",
       "            <td>131152.0</td>\n",
       "            <td>282649.0</td>\n",
       "        </tr>\n",
       "        <tr>\n",
       "            <td>PORTUGAL</td>\n",
       "            <td>457818.0</td>\n",
       "            <td>204051.0</td>\n",
       "            <td>253767.0</td>\n",
       "        </tr>\n",
       "        <tr>\n",
       "            <td>MOROCCO</td>\n",
       "            <td>289321.0</td>\n",
       "            <td>90511.0</td>\n",
       "            <td>198810.0</td>\n",
       "        </tr>\n",
       "        <tr>\n",
       "            <td>NETHERLANDS</td>\n",
       "            <td>327449.0</td>\n",
       "            <td>142516.0</td>\n",
       "            <td>184933.0</td>\n",
       "        </tr>\n",
       "        <tr>\n",
       "            <td>BULGARIA</td>\n",
       "            <td>294183.0</td>\n",
       "            <td>114164.0</td>\n",
       "            <td>180019.0</td>\n",
       "        </tr>\n",
       "        <tr>\n",
       "            <td>MYANMAR</td>\n",
       "            <td>189720.0</td>\n",
       "            <td>15230.0</td>\n",
       "            <td>174490.0</td>\n",
       "        </tr>\n",
       "        <tr>\n",
       "            <td>ECUADOR</td>\n",
       "            <td>198114.0</td>\n",
       "            <td>60104.0</td>\n",
       "            <td>138010.0</td>\n",
       "        </tr>\n",
       "        <tr>\n",
       "            <td>ROMANIA</td>\n",
       "            <td>344277.0</td>\n",
       "            <td>212313.0</td>\n",
       "            <td>131964.0</td>\n",
       "        </tr>\n",
       "    </tbody>\n",
       "</table>"
      ],
      "text/plain": [
       "[('TÜRKIYE', 1724987.0, 280463.0, 1444524.0),\n",
       " ('CHINA', 2046700.0, 987275.0, 1059425.0),\n",
       " ('MEXICO', 1762044.0, 740596.0, 1021448.0),\n",
       " ('SPAIN', 1992394.0, 1074017.0, 918377.0),\n",
       " ('INDONESIA', 1169006.0, 334856.0, 834150.0),\n",
       " ('COLOMBIA', 606446.0, 93303.0, 513143.0),\n",
       " ('ITALY', 2241988.0, 1738031.0, 503957.0),\n",
       " ('GERMANY', 1971314.0, 1484275.0, 487039.0),\n",
       " ('IRAN, ISLAMIC REPUBLIC OF', 468593.0, 41935.0, 426658.0),\n",
       " ('GREECE', 880624.0, 533812.0, 346812.0),\n",
       " ('EGYPT', 425178.0, 128957.0, 296221.0),\n",
       " ('POLAND', 381104.0, 93309.0, 287795.0),\n",
       " ('CZECH REPUBLIC (CZECHIA)', 413801.0, 131152.0, 282649.0),\n",
       " ('PORTUGAL', 457818.0, 204051.0, 253767.0),\n",
       " ('MOROCCO', 289321.0, 90511.0, 198810.0),\n",
       " ('NETHERLANDS', 327449.0, 142516.0, 184933.0),\n",
       " ('BULGARIA', 294183.0, 114164.0, 180019.0),\n",
       " ('MYANMAR', 189720.0, 15230.0, 174490.0),\n",
       " ('ECUADOR', 198114.0, 60104.0, 138010.0),\n",
       " ('ROMANIA', 344277.0, 212313.0, 131964.0)]"
      ]
     },
     "execution_count": 11,
     "metadata": {},
     "output_type": "execute_result"
    }
   ],
   "source": [
    "%%sql\n",
    "\n",
    "SELECT\n",
    "    Country,\n",
    "    SUM(CASE WHEN Year = 2022 THEN Value ELSE 0 END) AS Bed_Places_2022,\n",
    "    SUM(CASE WHEN Year = 1995 THEN Value ELSE 0 END) AS Bed_Places_1995,\n",
    "    SUM(CASE WHEN Year = 2022 THEN Value ELSE 0 END) -\n",
    "    SUM(CASE WHEN Year = 1995 THEN Value ELSE 0 END) AS Growth\n",
    "FROM tourism_data\n",
    "WHERE Indicator = 'Number of bed-places'\n",
    "    AND Year IN (1995, 2022)\n",
    "GROUP BY Country\n",
    "HAVING Bed_Places_1995 > 0\n",
    "ORDER BY Growth DESC\n",
    "LIMIT 20;"
   ]
  },
  {
   "cell_type": "code",
   "execution_count": 12,
   "metadata": {},
   "outputs": [
    {
     "name": "stdout",
     "output_type": "stream",
     "text": [
      " * sqlite:///tourism.db\n",
      "Done.\n"
     ]
    }
   ],
   "source": [
    "# Visualization:\n",
    "# Assign the result of the SQL query to a variable\n",
    "growth_result = %sql \\\n",
    "SELECT Country, \\\n",
    "       SUM(CASE WHEN Year = 2022 THEN Value ELSE 0 END) AS Bed_Places_2022, \\\n",
    "       SUM(CASE WHEN Year = 1995 THEN Value ELSE 0 END) AS Bed_Places_1995, \\\n",
    "       SUM(CASE WHEN Year = 2022 THEN Value ELSE 0 END) - \\\n",
    "       SUM(CASE WHEN Year = 1995 THEN Value ELSE 0 END) AS Growth \\\n",
    "FROM tourism_data \\\n",
    "WHERE Indicator = 'Number of bed-places' \\\n",
    "  AND Year IN (1995, 2022) \\\n",
    "GROUP BY Country \\\n",
    "HAVING Bed_Places_1995 > 0 \\\n",
    "ORDER BY Growth DESC \\\n",
    "LIMIT 20;\n",
    "\n",
    "# Convert to DataFrame\n",
    "df_growth = growth_result.DataFrame()"
   ]
  },
  {
   "cell_type": "code",
   "execution_count": 13,
   "metadata": {},
   "outputs": [
    {
     "data": {
      "application/vnd.plotly.v1+json": {
       "config": {
        "plotlyServerURL": "https://plot.ly"
       },
       "data": [
        {
         "alignmentgroup": "True",
         "hovertemplate": "Growth in Bed-Places=%{x}<br>Country=%{y}<extra></extra>",
         "legendgroup": "",
         "marker": {
          "color": "#636efa",
          "pattern": {
           "shape": ""
          }
         },
         "name": "",
         "offsetgroup": "",
         "orientation": "h",
         "showlegend": false,
         "textposition": "auto",
         "type": "bar",
         "x": [
          1444524,
          1059425,
          1021448,
          918377,
          834150,
          513143,
          503957,
          487039,
          426658,
          346812,
          296221,
          287795,
          282649,
          253767,
          198810,
          184933,
          180019,
          174490,
          138010,
          131964
         ],
         "xaxis": "x",
         "y": [
          "TÜRKIYE",
          "CHINA",
          "MEXICO",
          "SPAIN",
          "INDONESIA",
          "COLOMBIA",
          "ITALY",
          "GERMANY",
          "IRAN, ISLAMIC REPUBLIC OF",
          "GREECE",
          "EGYPT",
          "POLAND",
          "CZECH REPUBLIC (CZECHIA)",
          "PORTUGAL",
          "MOROCCO",
          "NETHERLANDS",
          "BULGARIA",
          "MYANMAR",
          "ECUADOR",
          "ROMANIA"
         ],
         "yaxis": "y"
        }
       ],
       "layout": {
        "barmode": "relative",
        "height": 800,
        "legend": {
         "tracegroupgap": 0
        },
        "template": {
         "data": {
          "bar": [
           {
            "error_x": {
             "color": "#2a3f5f"
            },
            "error_y": {
             "color": "#2a3f5f"
            },
            "marker": {
             "line": {
              "color": "#E5ECF6",
              "width": 0.5
             },
             "pattern": {
              "fillmode": "overlay",
              "size": 10,
              "solidity": 0.2
             }
            },
            "type": "bar"
           }
          ],
          "barpolar": [
           {
            "marker": {
             "line": {
              "color": "#E5ECF6",
              "width": 0.5
             },
             "pattern": {
              "fillmode": "overlay",
              "size": 10,
              "solidity": 0.2
             }
            },
            "type": "barpolar"
           }
          ],
          "carpet": [
           {
            "aaxis": {
             "endlinecolor": "#2a3f5f",
             "gridcolor": "white",
             "linecolor": "white",
             "minorgridcolor": "white",
             "startlinecolor": "#2a3f5f"
            },
            "baxis": {
             "endlinecolor": "#2a3f5f",
             "gridcolor": "white",
             "linecolor": "white",
             "minorgridcolor": "white",
             "startlinecolor": "#2a3f5f"
            },
            "type": "carpet"
           }
          ],
          "choropleth": [
           {
            "colorbar": {
             "outlinewidth": 0,
             "ticks": ""
            },
            "type": "choropleth"
           }
          ],
          "contour": [
           {
            "colorbar": {
             "outlinewidth": 0,
             "ticks": ""
            },
            "colorscale": [
             [
              0,
              "#0d0887"
             ],
             [
              0.1111111111111111,
              "#46039f"
             ],
             [
              0.2222222222222222,
              "#7201a8"
             ],
             [
              0.3333333333333333,
              "#9c179e"
             ],
             [
              0.4444444444444444,
              "#bd3786"
             ],
             [
              0.5555555555555556,
              "#d8576b"
             ],
             [
              0.6666666666666666,
              "#ed7953"
             ],
             [
              0.7777777777777778,
              "#fb9f3a"
             ],
             [
              0.8888888888888888,
              "#fdca26"
             ],
             [
              1,
              "#f0f921"
             ]
            ],
            "type": "contour"
           }
          ],
          "contourcarpet": [
           {
            "colorbar": {
             "outlinewidth": 0,
             "ticks": ""
            },
            "type": "contourcarpet"
           }
          ],
          "heatmap": [
           {
            "colorbar": {
             "outlinewidth": 0,
             "ticks": ""
            },
            "colorscale": [
             [
              0,
              "#0d0887"
             ],
             [
              0.1111111111111111,
              "#46039f"
             ],
             [
              0.2222222222222222,
              "#7201a8"
             ],
             [
              0.3333333333333333,
              "#9c179e"
             ],
             [
              0.4444444444444444,
              "#bd3786"
             ],
             [
              0.5555555555555556,
              "#d8576b"
             ],
             [
              0.6666666666666666,
              "#ed7953"
             ],
             [
              0.7777777777777778,
              "#fb9f3a"
             ],
             [
              0.8888888888888888,
              "#fdca26"
             ],
             [
              1,
              "#f0f921"
             ]
            ],
            "type": "heatmap"
           }
          ],
          "heatmapgl": [
           {
            "colorbar": {
             "outlinewidth": 0,
             "ticks": ""
            },
            "colorscale": [
             [
              0,
              "#0d0887"
             ],
             [
              0.1111111111111111,
              "#46039f"
             ],
             [
              0.2222222222222222,
              "#7201a8"
             ],
             [
              0.3333333333333333,
              "#9c179e"
             ],
             [
              0.4444444444444444,
              "#bd3786"
             ],
             [
              0.5555555555555556,
              "#d8576b"
             ],
             [
              0.6666666666666666,
              "#ed7953"
             ],
             [
              0.7777777777777778,
              "#fb9f3a"
             ],
             [
              0.8888888888888888,
              "#fdca26"
             ],
             [
              1,
              "#f0f921"
             ]
            ],
            "type": "heatmapgl"
           }
          ],
          "histogram": [
           {
            "marker": {
             "pattern": {
              "fillmode": "overlay",
              "size": 10,
              "solidity": 0.2
             }
            },
            "type": "histogram"
           }
          ],
          "histogram2d": [
           {
            "colorbar": {
             "outlinewidth": 0,
             "ticks": ""
            },
            "colorscale": [
             [
              0,
              "#0d0887"
             ],
             [
              0.1111111111111111,
              "#46039f"
             ],
             [
              0.2222222222222222,
              "#7201a8"
             ],
             [
              0.3333333333333333,
              "#9c179e"
             ],
             [
              0.4444444444444444,
              "#bd3786"
             ],
             [
              0.5555555555555556,
              "#d8576b"
             ],
             [
              0.6666666666666666,
              "#ed7953"
             ],
             [
              0.7777777777777778,
              "#fb9f3a"
             ],
             [
              0.8888888888888888,
              "#fdca26"
             ],
             [
              1,
              "#f0f921"
             ]
            ],
            "type": "histogram2d"
           }
          ],
          "histogram2dcontour": [
           {
            "colorbar": {
             "outlinewidth": 0,
             "ticks": ""
            },
            "colorscale": [
             [
              0,
              "#0d0887"
             ],
             [
              0.1111111111111111,
              "#46039f"
             ],
             [
              0.2222222222222222,
              "#7201a8"
             ],
             [
              0.3333333333333333,
              "#9c179e"
             ],
             [
              0.4444444444444444,
              "#bd3786"
             ],
             [
              0.5555555555555556,
              "#d8576b"
             ],
             [
              0.6666666666666666,
              "#ed7953"
             ],
             [
              0.7777777777777778,
              "#fb9f3a"
             ],
             [
              0.8888888888888888,
              "#fdca26"
             ],
             [
              1,
              "#f0f921"
             ]
            ],
            "type": "histogram2dcontour"
           }
          ],
          "mesh3d": [
           {
            "colorbar": {
             "outlinewidth": 0,
             "ticks": ""
            },
            "type": "mesh3d"
           }
          ],
          "parcoords": [
           {
            "line": {
             "colorbar": {
              "outlinewidth": 0,
              "ticks": ""
             }
            },
            "type": "parcoords"
           }
          ],
          "pie": [
           {
            "automargin": true,
            "type": "pie"
           }
          ],
          "scatter": [
           {
            "fillpattern": {
             "fillmode": "overlay",
             "size": 10,
             "solidity": 0.2
            },
            "type": "scatter"
           }
          ],
          "scatter3d": [
           {
            "line": {
             "colorbar": {
              "outlinewidth": 0,
              "ticks": ""
             }
            },
            "marker": {
             "colorbar": {
              "outlinewidth": 0,
              "ticks": ""
             }
            },
            "type": "scatter3d"
           }
          ],
          "scattercarpet": [
           {
            "marker": {
             "colorbar": {
              "outlinewidth": 0,
              "ticks": ""
             }
            },
            "type": "scattercarpet"
           }
          ],
          "scattergeo": [
           {
            "marker": {
             "colorbar": {
              "outlinewidth": 0,
              "ticks": ""
             }
            },
            "type": "scattergeo"
           }
          ],
          "scattergl": [
           {
            "marker": {
             "colorbar": {
              "outlinewidth": 0,
              "ticks": ""
             }
            },
            "type": "scattergl"
           }
          ],
          "scattermapbox": [
           {
            "marker": {
             "colorbar": {
              "outlinewidth": 0,
              "ticks": ""
             }
            },
            "type": "scattermapbox"
           }
          ],
          "scatterpolar": [
           {
            "marker": {
             "colorbar": {
              "outlinewidth": 0,
              "ticks": ""
             }
            },
            "type": "scatterpolar"
           }
          ],
          "scatterpolargl": [
           {
            "marker": {
             "colorbar": {
              "outlinewidth": 0,
              "ticks": ""
             }
            },
            "type": "scatterpolargl"
           }
          ],
          "scatterternary": [
           {
            "marker": {
             "colorbar": {
              "outlinewidth": 0,
              "ticks": ""
             }
            },
            "type": "scatterternary"
           }
          ],
          "surface": [
           {
            "colorbar": {
             "outlinewidth": 0,
             "ticks": ""
            },
            "colorscale": [
             [
              0,
              "#0d0887"
             ],
             [
              0.1111111111111111,
              "#46039f"
             ],
             [
              0.2222222222222222,
              "#7201a8"
             ],
             [
              0.3333333333333333,
              "#9c179e"
             ],
             [
              0.4444444444444444,
              "#bd3786"
             ],
             [
              0.5555555555555556,
              "#d8576b"
             ],
             [
              0.6666666666666666,
              "#ed7953"
             ],
             [
              0.7777777777777778,
              "#fb9f3a"
             ],
             [
              0.8888888888888888,
              "#fdca26"
             ],
             [
              1,
              "#f0f921"
             ]
            ],
            "type": "surface"
           }
          ],
          "table": [
           {
            "cells": {
             "fill": {
              "color": "#EBF0F8"
             },
             "line": {
              "color": "white"
             }
            },
            "header": {
             "fill": {
              "color": "#C8D4E3"
             },
             "line": {
              "color": "white"
             }
            },
            "type": "table"
           }
          ]
         },
         "layout": {
          "annotationdefaults": {
           "arrowcolor": "#2a3f5f",
           "arrowhead": 0,
           "arrowwidth": 1
          },
          "autotypenumbers": "strict",
          "coloraxis": {
           "colorbar": {
            "outlinewidth": 0,
            "ticks": ""
           }
          },
          "colorscale": {
           "diverging": [
            [
             0,
             "#8e0152"
            ],
            [
             0.1,
             "#c51b7d"
            ],
            [
             0.2,
             "#de77ae"
            ],
            [
             0.3,
             "#f1b6da"
            ],
            [
             0.4,
             "#fde0ef"
            ],
            [
             0.5,
             "#f7f7f7"
            ],
            [
             0.6,
             "#e6f5d0"
            ],
            [
             0.7,
             "#b8e186"
            ],
            [
             0.8,
             "#7fbc41"
            ],
            [
             0.9,
             "#4d9221"
            ],
            [
             1,
             "#276419"
            ]
           ],
           "sequential": [
            [
             0,
             "#0d0887"
            ],
            [
             0.1111111111111111,
             "#46039f"
            ],
            [
             0.2222222222222222,
             "#7201a8"
            ],
            [
             0.3333333333333333,
             "#9c179e"
            ],
            [
             0.4444444444444444,
             "#bd3786"
            ],
            [
             0.5555555555555556,
             "#d8576b"
            ],
            [
             0.6666666666666666,
             "#ed7953"
            ],
            [
             0.7777777777777778,
             "#fb9f3a"
            ],
            [
             0.8888888888888888,
             "#fdca26"
            ],
            [
             1,
             "#f0f921"
            ]
           ],
           "sequentialminus": [
            [
             0,
             "#0d0887"
            ],
            [
             0.1111111111111111,
             "#46039f"
            ],
            [
             0.2222222222222222,
             "#7201a8"
            ],
            [
             0.3333333333333333,
             "#9c179e"
            ],
            [
             0.4444444444444444,
             "#bd3786"
            ],
            [
             0.5555555555555556,
             "#d8576b"
            ],
            [
             0.6666666666666666,
             "#ed7953"
            ],
            [
             0.7777777777777778,
             "#fb9f3a"
            ],
            [
             0.8888888888888888,
             "#fdca26"
            ],
            [
             1,
             "#f0f921"
            ]
           ]
          },
          "colorway": [
           "#636efa",
           "#EF553B",
           "#00cc96",
           "#ab63fa",
           "#FFA15A",
           "#19d3f3",
           "#FF6692",
           "#B6E880",
           "#FF97FF",
           "#FECB52"
          ],
          "font": {
           "color": "#2a3f5f"
          },
          "geo": {
           "bgcolor": "white",
           "lakecolor": "white",
           "landcolor": "#E5ECF6",
           "showlakes": true,
           "showland": true,
           "subunitcolor": "white"
          },
          "hoverlabel": {
           "align": "left"
          },
          "hovermode": "closest",
          "mapbox": {
           "style": "light"
          },
          "paper_bgcolor": "white",
          "plot_bgcolor": "#E5ECF6",
          "polar": {
           "angularaxis": {
            "gridcolor": "white",
            "linecolor": "white",
            "ticks": ""
           },
           "bgcolor": "#E5ECF6",
           "radialaxis": {
            "gridcolor": "white",
            "linecolor": "white",
            "ticks": ""
           }
          },
          "scene": {
           "xaxis": {
            "backgroundcolor": "#E5ECF6",
            "gridcolor": "white",
            "gridwidth": 2,
            "linecolor": "white",
            "showbackground": true,
            "ticks": "",
            "zerolinecolor": "white"
           },
           "yaxis": {
            "backgroundcolor": "#E5ECF6",
            "gridcolor": "white",
            "gridwidth": 2,
            "linecolor": "white",
            "showbackground": true,
            "ticks": "",
            "zerolinecolor": "white"
           },
           "zaxis": {
            "backgroundcolor": "#E5ECF6",
            "gridcolor": "white",
            "gridwidth": 2,
            "linecolor": "white",
            "showbackground": true,
            "ticks": "",
            "zerolinecolor": "white"
           }
          },
          "shapedefaults": {
           "line": {
            "color": "#2a3f5f"
           }
          },
          "ternary": {
           "aaxis": {
            "gridcolor": "white",
            "linecolor": "white",
            "ticks": ""
           },
           "baxis": {
            "gridcolor": "white",
            "linecolor": "white",
            "ticks": ""
           },
           "bgcolor": "#E5ECF6",
           "caxis": {
            "gridcolor": "white",
            "linecolor": "white",
            "ticks": ""
           }
          },
          "title": {
           "x": 0.05
          },
          "xaxis": {
           "automargin": true,
           "gridcolor": "white",
           "linecolor": "white",
           "ticks": "",
           "title": {
            "standoff": 15
           },
           "zerolinecolor": "white",
           "zerolinewidth": 2
          },
          "yaxis": {
           "automargin": true,
           "gridcolor": "white",
           "linecolor": "white",
           "ticks": "",
           "title": {
            "standoff": 15
           },
           "zerolinecolor": "white",
           "zerolinewidth": 2
          }
         }
        },
        "title": {
         "text": "Top 20 Countries by Growth in Bed-Place between 1995 and 2022"
        },
        "xaxis": {
         "anchor": "y",
         "domain": [
          0,
          1
         ],
         "title": {
          "text": "Growth in Bed-Places"
         }
        },
        "yaxis": {
         "anchor": "x",
         "categoryorder": "total ascending",
         "domain": [
          0,
          1
         ],
         "title": {
          "text": "Country"
         }
        }
       }
      }
     },
     "metadata": {},
     "output_type": "display_data"
    }
   ],
   "source": [
    "# Visualization with Plotly\n",
    "\n",
    "fig = px.bar(df_growth,\n",
    "             x='Growth',\n",
    "             y='Country',\n",
    "             orientation='h',\n",
    "             title='Top 20 Countries by Growth in Bed-Place between 1995 and 2022',\n",
    "             labels={'Growth':'Growth in Bed-Places', 'Country':'Country'})\n",
    "fig.update_layout(\n",
    "    height=800,\n",
    "    yaxis={'categoryorder':'total ascending'})\n",
    "fig.show()"
   ]
  },
  {
   "cell_type": "markdown",
   "metadata": {},
   "source": [
    "#### Insight: Top 20 Countries by Growth in Bed-Places between 1995 and 2022\n",
    "- **Türkiye** experienced the highest absolute growth, adding ~1.44 million new bed-places. This signals major investment in tourism infrastructure and likely a booming travel sector.\n",
    "- **China**, **Mexico**, **Spain**, and **Indonesia** follow closely, each with >800K net increase in bed-places — indicating sustained and strategic development in hospitality.\n",
    "- **Colombia** and **Iran** stand out as non-traditional tourism hotspots with major growth, possibly driven by post-conflict reopening, regional policies, or domestic travel growth.\n",
    "\n",
    "##### Possible Drivers Behind the Growth\n",
    "- Emerging economies with increasing middle class and domestic travel (e.g., China, Indonesia, Iran)\n",
    "- Tourism policy shifts and aggressive marketing (e.g., Türkiye's \"Go Türkiye\" campaigns)\n",
    "- Increased foreign investment and hotel chains expanding into developing markets\n",
    "- Major global events (like Olympics, Expo, World Cup bids) prompting infrastructure buildout\n",
    "\n",
    "##### Geographic Observations\n",
    "The majority of top-growing countries are:\n",
    "- Non-Western or developing economies\n",
    "- Geographically diverse (Asia, Europe, Latin America, MENA)\n",
    "- Western Europe (Spain, Germany, Italy, Portugal, Netherlands) still shows growth but at a slower pace, suggesting more mature markets.\n",
    "\n",
    "###### Further steps for analysis:\n",
    "- Normalize by population (growth per capita)\n",
    "- Calculate % change instead of absolute\n",
    "- Add regional breakdowns (e.g., by continent)\n",
    "- Create a combined growth vs occupancy insight dashboard\n",
    "\n",
    "\n",
    "\n",
    "\n"
   ]
  },
  {
   "cell_type": "code",
   "execution_count": 14,
   "metadata": {},
   "outputs": [
    {
     "name": "stdout",
     "output_type": "stream",
     "text": [
      " * sqlite:///tourism.db\n",
      "Done.\n"
     ]
    }
   ],
   "source": [
    "# Break down the growth into two periods from 1995 to 2015 and from 2015 to 2022 to have more realistic analysis considering fast-space changes in recent years\n",
    "\n",
    "growth_1st_period = %sql \\\n",
    "SELECT Country, \\\n",
    "        SUM(CASE WHEN Year = 1995 THEN Value ELSE 0 END) AS Bed_Places_1995, \\\n",
    "        SUM(CASE WHEN Year = 2015 THEN Value ELSE 0 END) AS Bed_Places_2015, \\\n",
    "        SUM(CASE WHEN Year = 1995 THEN Value ELSE 0 END) - \\\n",
    "        SUM(CASE WHEN Year = 2015 THEN Value ELSE 0 END) AS Growth_1995_2015 \\\n",
    "FROM tourism_data \\\n",
    "WHERE Indicator = 'Number of bed-places' \\\n",
    "    AND Year IN(1995,2015) \\\n",
    "GROUP BY Country \\\n",
    "HAVING Bed_Places_1995 > 0 \\\n",
    "ORDER BY Growth_1995_2015 DESC \\\n",
    "LIMIT 20;\n"
   ]
  },
  {
   "cell_type": "code",
   "execution_count": 15,
   "metadata": {},
   "outputs": [],
   "source": [
    "# Convert to DataFrame\n",
    "df_growth_1st = growth_1st_period.DataFrame()"
   ]
  },
  {
   "cell_type": "code",
   "execution_count": 19,
   "metadata": {},
   "outputs": [
    {
     "data": {
      "application/vnd.plotly.v1+json": {
       "config": {
        "plotlyServerURL": "https://plot.ly"
       },
       "data": [
        {
         "alignmentgroup": "True",
         "hovertemplate": "Growth in Bed-Places=%{x}<br>Country=%{y}<extra></extra>",
         "legendgroup": "",
         "marker": {
          "color": "#636efa",
          "pattern": {
           "shape": ""
          }
         },
         "name": "",
         "offsetgroup": "",
         "orientation": "h",
         "showlegend": false,
         "textposition": "auto",
         "type": "bar",
         "x": [
          279100,
          117418,
          97860,
          94744,
          85608,
          53069,
          44767,
          40559,
          40265,
          34211,
          31449,
          27342,
          16979,
          13664,
          12145,
          10994,
          10229,
          9705,
          8224,
          7423
         ],
         "xaxis": "x",
         "y": [
          "BRAZIL",
          "KOREA, REPUBLIC OF",
          "VIET NAM",
          "SOUTH AFRICA",
          "SERBIA AND MONTENEGRO",
          "IRAQ",
          "PAKISTAN",
          "CROATIA",
          "UKRAINE",
          "KENYA",
          "SYRIAN ARAB REPUBLIC",
          "CONGO, DEMOCRATIC REPUBLIC OF THE",
          "HONDURAS",
          "YEMEN",
          "TANZANIA, UNITED REPUBLIC OF",
          "MARTINIQUE",
          "BARBADOS",
          "SUDAN",
          "BANGLADESH",
          "SAINT LUCIA"
         ],
         "yaxis": "y"
        }
       ],
       "layout": {
        "barmode": "relative",
        "height": 800,
        "legend": {
         "tracegroupgap": 0
        },
        "template": {
         "data": {
          "bar": [
           {
            "error_x": {
             "color": "#2a3f5f"
            },
            "error_y": {
             "color": "#2a3f5f"
            },
            "marker": {
             "line": {
              "color": "#E5ECF6",
              "width": 0.5
             },
             "pattern": {
              "fillmode": "overlay",
              "size": 10,
              "solidity": 0.2
             }
            },
            "type": "bar"
           }
          ],
          "barpolar": [
           {
            "marker": {
             "line": {
              "color": "#E5ECF6",
              "width": 0.5
             },
             "pattern": {
              "fillmode": "overlay",
              "size": 10,
              "solidity": 0.2
             }
            },
            "type": "barpolar"
           }
          ],
          "carpet": [
           {
            "aaxis": {
             "endlinecolor": "#2a3f5f",
             "gridcolor": "white",
             "linecolor": "white",
             "minorgridcolor": "white",
             "startlinecolor": "#2a3f5f"
            },
            "baxis": {
             "endlinecolor": "#2a3f5f",
             "gridcolor": "white",
             "linecolor": "white",
             "minorgridcolor": "white",
             "startlinecolor": "#2a3f5f"
            },
            "type": "carpet"
           }
          ],
          "choropleth": [
           {
            "colorbar": {
             "outlinewidth": 0,
             "ticks": ""
            },
            "type": "choropleth"
           }
          ],
          "contour": [
           {
            "colorbar": {
             "outlinewidth": 0,
             "ticks": ""
            },
            "colorscale": [
             [
              0,
              "#0d0887"
             ],
             [
              0.1111111111111111,
              "#46039f"
             ],
             [
              0.2222222222222222,
              "#7201a8"
             ],
             [
              0.3333333333333333,
              "#9c179e"
             ],
             [
              0.4444444444444444,
              "#bd3786"
             ],
             [
              0.5555555555555556,
              "#d8576b"
             ],
             [
              0.6666666666666666,
              "#ed7953"
             ],
             [
              0.7777777777777778,
              "#fb9f3a"
             ],
             [
              0.8888888888888888,
              "#fdca26"
             ],
             [
              1,
              "#f0f921"
             ]
            ],
            "type": "contour"
           }
          ],
          "contourcarpet": [
           {
            "colorbar": {
             "outlinewidth": 0,
             "ticks": ""
            },
            "type": "contourcarpet"
           }
          ],
          "heatmap": [
           {
            "colorbar": {
             "outlinewidth": 0,
             "ticks": ""
            },
            "colorscale": [
             [
              0,
              "#0d0887"
             ],
             [
              0.1111111111111111,
              "#46039f"
             ],
             [
              0.2222222222222222,
              "#7201a8"
             ],
             [
              0.3333333333333333,
              "#9c179e"
             ],
             [
              0.4444444444444444,
              "#bd3786"
             ],
             [
              0.5555555555555556,
              "#d8576b"
             ],
             [
              0.6666666666666666,
              "#ed7953"
             ],
             [
              0.7777777777777778,
              "#fb9f3a"
             ],
             [
              0.8888888888888888,
              "#fdca26"
             ],
             [
              1,
              "#f0f921"
             ]
            ],
            "type": "heatmap"
           }
          ],
          "heatmapgl": [
           {
            "colorbar": {
             "outlinewidth": 0,
             "ticks": ""
            },
            "colorscale": [
             [
              0,
              "#0d0887"
             ],
             [
              0.1111111111111111,
              "#46039f"
             ],
             [
              0.2222222222222222,
              "#7201a8"
             ],
             [
              0.3333333333333333,
              "#9c179e"
             ],
             [
              0.4444444444444444,
              "#bd3786"
             ],
             [
              0.5555555555555556,
              "#d8576b"
             ],
             [
              0.6666666666666666,
              "#ed7953"
             ],
             [
              0.7777777777777778,
              "#fb9f3a"
             ],
             [
              0.8888888888888888,
              "#fdca26"
             ],
             [
              1,
              "#f0f921"
             ]
            ],
            "type": "heatmapgl"
           }
          ],
          "histogram": [
           {
            "marker": {
             "pattern": {
              "fillmode": "overlay",
              "size": 10,
              "solidity": 0.2
             }
            },
            "type": "histogram"
           }
          ],
          "histogram2d": [
           {
            "colorbar": {
             "outlinewidth": 0,
             "ticks": ""
            },
            "colorscale": [
             [
              0,
              "#0d0887"
             ],
             [
              0.1111111111111111,
              "#46039f"
             ],
             [
              0.2222222222222222,
              "#7201a8"
             ],
             [
              0.3333333333333333,
              "#9c179e"
             ],
             [
              0.4444444444444444,
              "#bd3786"
             ],
             [
              0.5555555555555556,
              "#d8576b"
             ],
             [
              0.6666666666666666,
              "#ed7953"
             ],
             [
              0.7777777777777778,
              "#fb9f3a"
             ],
             [
              0.8888888888888888,
              "#fdca26"
             ],
             [
              1,
              "#f0f921"
             ]
            ],
            "type": "histogram2d"
           }
          ],
          "histogram2dcontour": [
           {
            "colorbar": {
             "outlinewidth": 0,
             "ticks": ""
            },
            "colorscale": [
             [
              0,
              "#0d0887"
             ],
             [
              0.1111111111111111,
              "#46039f"
             ],
             [
              0.2222222222222222,
              "#7201a8"
             ],
             [
              0.3333333333333333,
              "#9c179e"
             ],
             [
              0.4444444444444444,
              "#bd3786"
             ],
             [
              0.5555555555555556,
              "#d8576b"
             ],
             [
              0.6666666666666666,
              "#ed7953"
             ],
             [
              0.7777777777777778,
              "#fb9f3a"
             ],
             [
              0.8888888888888888,
              "#fdca26"
             ],
             [
              1,
              "#f0f921"
             ]
            ],
            "type": "histogram2dcontour"
           }
          ],
          "mesh3d": [
           {
            "colorbar": {
             "outlinewidth": 0,
             "ticks": ""
            },
            "type": "mesh3d"
           }
          ],
          "parcoords": [
           {
            "line": {
             "colorbar": {
              "outlinewidth": 0,
              "ticks": ""
             }
            },
            "type": "parcoords"
           }
          ],
          "pie": [
           {
            "automargin": true,
            "type": "pie"
           }
          ],
          "scatter": [
           {
            "fillpattern": {
             "fillmode": "overlay",
             "size": 10,
             "solidity": 0.2
            },
            "type": "scatter"
           }
          ],
          "scatter3d": [
           {
            "line": {
             "colorbar": {
              "outlinewidth": 0,
              "ticks": ""
             }
            },
            "marker": {
             "colorbar": {
              "outlinewidth": 0,
              "ticks": ""
             }
            },
            "type": "scatter3d"
           }
          ],
          "scattercarpet": [
           {
            "marker": {
             "colorbar": {
              "outlinewidth": 0,
              "ticks": ""
             }
            },
            "type": "scattercarpet"
           }
          ],
          "scattergeo": [
           {
            "marker": {
             "colorbar": {
              "outlinewidth": 0,
              "ticks": ""
             }
            },
            "type": "scattergeo"
           }
          ],
          "scattergl": [
           {
            "marker": {
             "colorbar": {
              "outlinewidth": 0,
              "ticks": ""
             }
            },
            "type": "scattergl"
           }
          ],
          "scattermapbox": [
           {
            "marker": {
             "colorbar": {
              "outlinewidth": 0,
              "ticks": ""
             }
            },
            "type": "scattermapbox"
           }
          ],
          "scatterpolar": [
           {
            "marker": {
             "colorbar": {
              "outlinewidth": 0,
              "ticks": ""
             }
            },
            "type": "scatterpolar"
           }
          ],
          "scatterpolargl": [
           {
            "marker": {
             "colorbar": {
              "outlinewidth": 0,
              "ticks": ""
             }
            },
            "type": "scatterpolargl"
           }
          ],
          "scatterternary": [
           {
            "marker": {
             "colorbar": {
              "outlinewidth": 0,
              "ticks": ""
             }
            },
            "type": "scatterternary"
           }
          ],
          "surface": [
           {
            "colorbar": {
             "outlinewidth": 0,
             "ticks": ""
            },
            "colorscale": [
             [
              0,
              "#0d0887"
             ],
             [
              0.1111111111111111,
              "#46039f"
             ],
             [
              0.2222222222222222,
              "#7201a8"
             ],
             [
              0.3333333333333333,
              "#9c179e"
             ],
             [
              0.4444444444444444,
              "#bd3786"
             ],
             [
              0.5555555555555556,
              "#d8576b"
             ],
             [
              0.6666666666666666,
              "#ed7953"
             ],
             [
              0.7777777777777778,
              "#fb9f3a"
             ],
             [
              0.8888888888888888,
              "#fdca26"
             ],
             [
              1,
              "#f0f921"
             ]
            ],
            "type": "surface"
           }
          ],
          "table": [
           {
            "cells": {
             "fill": {
              "color": "#EBF0F8"
             },
             "line": {
              "color": "white"
             }
            },
            "header": {
             "fill": {
              "color": "#C8D4E3"
             },
             "line": {
              "color": "white"
             }
            },
            "type": "table"
           }
          ]
         },
         "layout": {
          "annotationdefaults": {
           "arrowcolor": "#2a3f5f",
           "arrowhead": 0,
           "arrowwidth": 1
          },
          "autotypenumbers": "strict",
          "coloraxis": {
           "colorbar": {
            "outlinewidth": 0,
            "ticks": ""
           }
          },
          "colorscale": {
           "diverging": [
            [
             0,
             "#8e0152"
            ],
            [
             0.1,
             "#c51b7d"
            ],
            [
             0.2,
             "#de77ae"
            ],
            [
             0.3,
             "#f1b6da"
            ],
            [
             0.4,
             "#fde0ef"
            ],
            [
             0.5,
             "#f7f7f7"
            ],
            [
             0.6,
             "#e6f5d0"
            ],
            [
             0.7,
             "#b8e186"
            ],
            [
             0.8,
             "#7fbc41"
            ],
            [
             0.9,
             "#4d9221"
            ],
            [
             1,
             "#276419"
            ]
           ],
           "sequential": [
            [
             0,
             "#0d0887"
            ],
            [
             0.1111111111111111,
             "#46039f"
            ],
            [
             0.2222222222222222,
             "#7201a8"
            ],
            [
             0.3333333333333333,
             "#9c179e"
            ],
            [
             0.4444444444444444,
             "#bd3786"
            ],
            [
             0.5555555555555556,
             "#d8576b"
            ],
            [
             0.6666666666666666,
             "#ed7953"
            ],
            [
             0.7777777777777778,
             "#fb9f3a"
            ],
            [
             0.8888888888888888,
             "#fdca26"
            ],
            [
             1,
             "#f0f921"
            ]
           ],
           "sequentialminus": [
            [
             0,
             "#0d0887"
            ],
            [
             0.1111111111111111,
             "#46039f"
            ],
            [
             0.2222222222222222,
             "#7201a8"
            ],
            [
             0.3333333333333333,
             "#9c179e"
            ],
            [
             0.4444444444444444,
             "#bd3786"
            ],
            [
             0.5555555555555556,
             "#d8576b"
            ],
            [
             0.6666666666666666,
             "#ed7953"
            ],
            [
             0.7777777777777778,
             "#fb9f3a"
            ],
            [
             0.8888888888888888,
             "#fdca26"
            ],
            [
             1,
             "#f0f921"
            ]
           ]
          },
          "colorway": [
           "#636efa",
           "#EF553B",
           "#00cc96",
           "#ab63fa",
           "#FFA15A",
           "#19d3f3",
           "#FF6692",
           "#B6E880",
           "#FF97FF",
           "#FECB52"
          ],
          "font": {
           "color": "#2a3f5f"
          },
          "geo": {
           "bgcolor": "white",
           "lakecolor": "white",
           "landcolor": "#E5ECF6",
           "showlakes": true,
           "showland": true,
           "subunitcolor": "white"
          },
          "hoverlabel": {
           "align": "left"
          },
          "hovermode": "closest",
          "mapbox": {
           "style": "light"
          },
          "paper_bgcolor": "white",
          "plot_bgcolor": "#E5ECF6",
          "polar": {
           "angularaxis": {
            "gridcolor": "white",
            "linecolor": "white",
            "ticks": ""
           },
           "bgcolor": "#E5ECF6",
           "radialaxis": {
            "gridcolor": "white",
            "linecolor": "white",
            "ticks": ""
           }
          },
          "scene": {
           "xaxis": {
            "backgroundcolor": "#E5ECF6",
            "gridcolor": "white",
            "gridwidth": 2,
            "linecolor": "white",
            "showbackground": true,
            "ticks": "",
            "zerolinecolor": "white"
           },
           "yaxis": {
            "backgroundcolor": "#E5ECF6",
            "gridcolor": "white",
            "gridwidth": 2,
            "linecolor": "white",
            "showbackground": true,
            "ticks": "",
            "zerolinecolor": "white"
           },
           "zaxis": {
            "backgroundcolor": "#E5ECF6",
            "gridcolor": "white",
            "gridwidth": 2,
            "linecolor": "white",
            "showbackground": true,
            "ticks": "",
            "zerolinecolor": "white"
           }
          },
          "shapedefaults": {
           "line": {
            "color": "#2a3f5f"
           }
          },
          "ternary": {
           "aaxis": {
            "gridcolor": "white",
            "linecolor": "white",
            "ticks": ""
           },
           "baxis": {
            "gridcolor": "white",
            "linecolor": "white",
            "ticks": ""
           },
           "bgcolor": "#E5ECF6",
           "caxis": {
            "gridcolor": "white",
            "linecolor": "white",
            "ticks": ""
           }
          },
          "title": {
           "x": 0.05
          },
          "xaxis": {
           "automargin": true,
           "gridcolor": "white",
           "linecolor": "white",
           "ticks": "",
           "title": {
            "standoff": 15
           },
           "zerolinecolor": "white",
           "zerolinewidth": 2
          },
          "yaxis": {
           "automargin": true,
           "gridcolor": "white",
           "linecolor": "white",
           "ticks": "",
           "title": {
            "standoff": 15
           },
           "zerolinecolor": "white",
           "zerolinewidth": 2
          }
         }
        },
        "title": {
         "text": "Top 20 Countries by Growth in Bed-Places from 1995 to 2015"
        },
        "xaxis": {
         "anchor": "y",
         "domain": [
          0,
          1
         ],
         "title": {
          "text": "Growth in Bed-Places"
         }
        },
        "yaxis": {
         "anchor": "x",
         "categoryorder": "total ascending",
         "domain": [
          0,
          1
         ],
         "title": {
          "text": "Country"
         }
        }
       }
      }
     },
     "metadata": {},
     "output_type": "display_data"
    }
   ],
   "source": [
    "# Visualization of 1st Period\n",
    "fig = px.bar(df_growth_1st,\n",
    "             x='Growth_1995_2015',\n",
    "             y='Country',\n",
    "             orientation='h',\n",
    "             title='Top 20 Countries by Growth in Bed-Places from 1995 to 2015',\n",
    "             labels={'Growth_1995_2015':'Growth in Bed-Places', 'Country':'Country'})\n",
    "fig.update_layout(\n",
    "    height=800,\n",
    "    yaxis={'categoryorder':'total ascending'}\n",
    ")\n",
    "fig.show()"
   ]
  },
  {
   "cell_type": "code",
   "execution_count": 18,
   "metadata": {},
   "outputs": [
    {
     "name": "stdout",
     "output_type": "stream",
     "text": [
      " * sqlite:///tourism.db\n",
      "Done.\n"
     ]
    }
   ],
   "source": [
    "# Growth in 2nd Period\n",
    "growth_2nd_period = %sql \\\n",
    "SELECT Country, \\\n",
    "        SUM(CASE WHEN Year = 2015 THEN Value ELSE 0 END) AS Bed_Places_2015, \\\n",
    "        SUM(CASE WHEN Year = 2022 THEN Value ELSE 0 END) AS Bed_Places_2022, \\\n",
    "        SUM(CASE WHEN Year = 2015 THEN Value ELSE 0 END) - \\\n",
    "        SUM(CASE WHEN Year = 2022 THEN Value ELSE 0 END) AS Growth_2015_2022 \\\n",
    "FROM tourism_data \\\n",
    "WHERE Indicator = 'Number of bed-places' \\\n",
    "    AND Year IN(2015,2022) \\\n",
    "GROUP BY Country \\\n",
    "HAVING Bed_Places_2015 > 0 \\\n",
    "ORDER BY Growth_2015_2022 DESC \\\n",
    "LIMIT 20;"
   ]
  },
  {
   "cell_type": "code",
   "execution_count": 20,
   "metadata": {},
   "outputs": [
    {
     "data": {
      "application/vnd.plotly.v1+json": {
       "config": {
        "plotlyServerURL": "https://plot.ly"
       },
       "data": [
        {
         "alignmentgroup": "True",
         "hovertemplate": "Growth=%{x}<br>Country=%{y}<extra></extra>",
         "legendgroup": "",
         "marker": {
          "color": "#636efa",
          "pattern": {
           "shape": ""
          }
         },
         "name": "",
         "offsetgroup": "",
         "orientation": "h",
         "showlegend": false,
         "textposition": "auto",
         "type": "bar",
         "x": [
          1781294,
          923000,
          678361,
          546885,
          329027,
          297264,
          210090,
          208450,
          162022,
          150083,
          132203,
          120464,
          107574,
          96997,
          83395,
          81393,
          74854,
          57642,
          55984,
          49216
         ],
         "xaxis": "x",
         "y": [
          "UNITED KINGDOM",
          "RUSSIAN FEDERATION",
          "AUSTRALIA",
          "CHINA",
          "VENEZUELA, BOLIVARIAN REPUBLIC OF",
          "UNITED ARAB EMIRATES",
          "DOMINICAN REPUBLIC",
          "CHILE",
          "INDIA",
          "IRELAND",
          "UKRAINE",
          "PHILIPPINES",
          "CAMBODIA",
          "SLOVAKIA",
          "CYPRUS",
          "UGANDA",
          "ZAMBIA",
          "LAO PEOPLE´S DEMOCRATIC REPUBLIC",
          "PANAMA",
          "GHANA"
         ],
         "yaxis": "y"
        }
       ],
       "layout": {
        "barmode": "relative",
        "height": 800,
        "legend": {
         "tracegroupgap": 0
        },
        "template": {
         "data": {
          "bar": [
           {
            "error_x": {
             "color": "#2a3f5f"
            },
            "error_y": {
             "color": "#2a3f5f"
            },
            "marker": {
             "line": {
              "color": "#E5ECF6",
              "width": 0.5
             },
             "pattern": {
              "fillmode": "overlay",
              "size": 10,
              "solidity": 0.2
             }
            },
            "type": "bar"
           }
          ],
          "barpolar": [
           {
            "marker": {
             "line": {
              "color": "#E5ECF6",
              "width": 0.5
             },
             "pattern": {
              "fillmode": "overlay",
              "size": 10,
              "solidity": 0.2
             }
            },
            "type": "barpolar"
           }
          ],
          "carpet": [
           {
            "aaxis": {
             "endlinecolor": "#2a3f5f",
             "gridcolor": "white",
             "linecolor": "white",
             "minorgridcolor": "white",
             "startlinecolor": "#2a3f5f"
            },
            "baxis": {
             "endlinecolor": "#2a3f5f",
             "gridcolor": "white",
             "linecolor": "white",
             "minorgridcolor": "white",
             "startlinecolor": "#2a3f5f"
            },
            "type": "carpet"
           }
          ],
          "choropleth": [
           {
            "colorbar": {
             "outlinewidth": 0,
             "ticks": ""
            },
            "type": "choropleth"
           }
          ],
          "contour": [
           {
            "colorbar": {
             "outlinewidth": 0,
             "ticks": ""
            },
            "colorscale": [
             [
              0,
              "#0d0887"
             ],
             [
              0.1111111111111111,
              "#46039f"
             ],
             [
              0.2222222222222222,
              "#7201a8"
             ],
             [
              0.3333333333333333,
              "#9c179e"
             ],
             [
              0.4444444444444444,
              "#bd3786"
             ],
             [
              0.5555555555555556,
              "#d8576b"
             ],
             [
              0.6666666666666666,
              "#ed7953"
             ],
             [
              0.7777777777777778,
              "#fb9f3a"
             ],
             [
              0.8888888888888888,
              "#fdca26"
             ],
             [
              1,
              "#f0f921"
             ]
            ],
            "type": "contour"
           }
          ],
          "contourcarpet": [
           {
            "colorbar": {
             "outlinewidth": 0,
             "ticks": ""
            },
            "type": "contourcarpet"
           }
          ],
          "heatmap": [
           {
            "colorbar": {
             "outlinewidth": 0,
             "ticks": ""
            },
            "colorscale": [
             [
              0,
              "#0d0887"
             ],
             [
              0.1111111111111111,
              "#46039f"
             ],
             [
              0.2222222222222222,
              "#7201a8"
             ],
             [
              0.3333333333333333,
              "#9c179e"
             ],
             [
              0.4444444444444444,
              "#bd3786"
             ],
             [
              0.5555555555555556,
              "#d8576b"
             ],
             [
              0.6666666666666666,
              "#ed7953"
             ],
             [
              0.7777777777777778,
              "#fb9f3a"
             ],
             [
              0.8888888888888888,
              "#fdca26"
             ],
             [
              1,
              "#f0f921"
             ]
            ],
            "type": "heatmap"
           }
          ],
          "heatmapgl": [
           {
            "colorbar": {
             "outlinewidth": 0,
             "ticks": ""
            },
            "colorscale": [
             [
              0,
              "#0d0887"
             ],
             [
              0.1111111111111111,
              "#46039f"
             ],
             [
              0.2222222222222222,
              "#7201a8"
             ],
             [
              0.3333333333333333,
              "#9c179e"
             ],
             [
              0.4444444444444444,
              "#bd3786"
             ],
             [
              0.5555555555555556,
              "#d8576b"
             ],
             [
              0.6666666666666666,
              "#ed7953"
             ],
             [
              0.7777777777777778,
              "#fb9f3a"
             ],
             [
              0.8888888888888888,
              "#fdca26"
             ],
             [
              1,
              "#f0f921"
             ]
            ],
            "type": "heatmapgl"
           }
          ],
          "histogram": [
           {
            "marker": {
             "pattern": {
              "fillmode": "overlay",
              "size": 10,
              "solidity": 0.2
             }
            },
            "type": "histogram"
           }
          ],
          "histogram2d": [
           {
            "colorbar": {
             "outlinewidth": 0,
             "ticks": ""
            },
            "colorscale": [
             [
              0,
              "#0d0887"
             ],
             [
              0.1111111111111111,
              "#46039f"
             ],
             [
              0.2222222222222222,
              "#7201a8"
             ],
             [
              0.3333333333333333,
              "#9c179e"
             ],
             [
              0.4444444444444444,
              "#bd3786"
             ],
             [
              0.5555555555555556,
              "#d8576b"
             ],
             [
              0.6666666666666666,
              "#ed7953"
             ],
             [
              0.7777777777777778,
              "#fb9f3a"
             ],
             [
              0.8888888888888888,
              "#fdca26"
             ],
             [
              1,
              "#f0f921"
             ]
            ],
            "type": "histogram2d"
           }
          ],
          "histogram2dcontour": [
           {
            "colorbar": {
             "outlinewidth": 0,
             "ticks": ""
            },
            "colorscale": [
             [
              0,
              "#0d0887"
             ],
             [
              0.1111111111111111,
              "#46039f"
             ],
             [
              0.2222222222222222,
              "#7201a8"
             ],
             [
              0.3333333333333333,
              "#9c179e"
             ],
             [
              0.4444444444444444,
              "#bd3786"
             ],
             [
              0.5555555555555556,
              "#d8576b"
             ],
             [
              0.6666666666666666,
              "#ed7953"
             ],
             [
              0.7777777777777778,
              "#fb9f3a"
             ],
             [
              0.8888888888888888,
              "#fdca26"
             ],
             [
              1,
              "#f0f921"
             ]
            ],
            "type": "histogram2dcontour"
           }
          ],
          "mesh3d": [
           {
            "colorbar": {
             "outlinewidth": 0,
             "ticks": ""
            },
            "type": "mesh3d"
           }
          ],
          "parcoords": [
           {
            "line": {
             "colorbar": {
              "outlinewidth": 0,
              "ticks": ""
             }
            },
            "type": "parcoords"
           }
          ],
          "pie": [
           {
            "automargin": true,
            "type": "pie"
           }
          ],
          "scatter": [
           {
            "fillpattern": {
             "fillmode": "overlay",
             "size": 10,
             "solidity": 0.2
            },
            "type": "scatter"
           }
          ],
          "scatter3d": [
           {
            "line": {
             "colorbar": {
              "outlinewidth": 0,
              "ticks": ""
             }
            },
            "marker": {
             "colorbar": {
              "outlinewidth": 0,
              "ticks": ""
             }
            },
            "type": "scatter3d"
           }
          ],
          "scattercarpet": [
           {
            "marker": {
             "colorbar": {
              "outlinewidth": 0,
              "ticks": ""
             }
            },
            "type": "scattercarpet"
           }
          ],
          "scattergeo": [
           {
            "marker": {
             "colorbar": {
              "outlinewidth": 0,
              "ticks": ""
             }
            },
            "type": "scattergeo"
           }
          ],
          "scattergl": [
           {
            "marker": {
             "colorbar": {
              "outlinewidth": 0,
              "ticks": ""
             }
            },
            "type": "scattergl"
           }
          ],
          "scattermapbox": [
           {
            "marker": {
             "colorbar": {
              "outlinewidth": 0,
              "ticks": ""
             }
            },
            "type": "scattermapbox"
           }
          ],
          "scatterpolar": [
           {
            "marker": {
             "colorbar": {
              "outlinewidth": 0,
              "ticks": ""
             }
            },
            "type": "scatterpolar"
           }
          ],
          "scatterpolargl": [
           {
            "marker": {
             "colorbar": {
              "outlinewidth": 0,
              "ticks": ""
             }
            },
            "type": "scatterpolargl"
           }
          ],
          "scatterternary": [
           {
            "marker": {
             "colorbar": {
              "outlinewidth": 0,
              "ticks": ""
             }
            },
            "type": "scatterternary"
           }
          ],
          "surface": [
           {
            "colorbar": {
             "outlinewidth": 0,
             "ticks": ""
            },
            "colorscale": [
             [
              0,
              "#0d0887"
             ],
             [
              0.1111111111111111,
              "#46039f"
             ],
             [
              0.2222222222222222,
              "#7201a8"
             ],
             [
              0.3333333333333333,
              "#9c179e"
             ],
             [
              0.4444444444444444,
              "#bd3786"
             ],
             [
              0.5555555555555556,
              "#d8576b"
             ],
             [
              0.6666666666666666,
              "#ed7953"
             ],
             [
              0.7777777777777778,
              "#fb9f3a"
             ],
             [
              0.8888888888888888,
              "#fdca26"
             ],
             [
              1,
              "#f0f921"
             ]
            ],
            "type": "surface"
           }
          ],
          "table": [
           {
            "cells": {
             "fill": {
              "color": "#EBF0F8"
             },
             "line": {
              "color": "white"
             }
            },
            "header": {
             "fill": {
              "color": "#C8D4E3"
             },
             "line": {
              "color": "white"
             }
            },
            "type": "table"
           }
          ]
         },
         "layout": {
          "annotationdefaults": {
           "arrowcolor": "#2a3f5f",
           "arrowhead": 0,
           "arrowwidth": 1
          },
          "autotypenumbers": "strict",
          "coloraxis": {
           "colorbar": {
            "outlinewidth": 0,
            "ticks": ""
           }
          },
          "colorscale": {
           "diverging": [
            [
             0,
             "#8e0152"
            ],
            [
             0.1,
             "#c51b7d"
            ],
            [
             0.2,
             "#de77ae"
            ],
            [
             0.3,
             "#f1b6da"
            ],
            [
             0.4,
             "#fde0ef"
            ],
            [
             0.5,
             "#f7f7f7"
            ],
            [
             0.6,
             "#e6f5d0"
            ],
            [
             0.7,
             "#b8e186"
            ],
            [
             0.8,
             "#7fbc41"
            ],
            [
             0.9,
             "#4d9221"
            ],
            [
             1,
             "#276419"
            ]
           ],
           "sequential": [
            [
             0,
             "#0d0887"
            ],
            [
             0.1111111111111111,
             "#46039f"
            ],
            [
             0.2222222222222222,
             "#7201a8"
            ],
            [
             0.3333333333333333,
             "#9c179e"
            ],
            [
             0.4444444444444444,
             "#bd3786"
            ],
            [
             0.5555555555555556,
             "#d8576b"
            ],
            [
             0.6666666666666666,
             "#ed7953"
            ],
            [
             0.7777777777777778,
             "#fb9f3a"
            ],
            [
             0.8888888888888888,
             "#fdca26"
            ],
            [
             1,
             "#f0f921"
            ]
           ],
           "sequentialminus": [
            [
             0,
             "#0d0887"
            ],
            [
             0.1111111111111111,
             "#46039f"
            ],
            [
             0.2222222222222222,
             "#7201a8"
            ],
            [
             0.3333333333333333,
             "#9c179e"
            ],
            [
             0.4444444444444444,
             "#bd3786"
            ],
            [
             0.5555555555555556,
             "#d8576b"
            ],
            [
             0.6666666666666666,
             "#ed7953"
            ],
            [
             0.7777777777777778,
             "#fb9f3a"
            ],
            [
             0.8888888888888888,
             "#fdca26"
            ],
            [
             1,
             "#f0f921"
            ]
           ]
          },
          "colorway": [
           "#636efa",
           "#EF553B",
           "#00cc96",
           "#ab63fa",
           "#FFA15A",
           "#19d3f3",
           "#FF6692",
           "#B6E880",
           "#FF97FF",
           "#FECB52"
          ],
          "font": {
           "color": "#2a3f5f"
          },
          "geo": {
           "bgcolor": "white",
           "lakecolor": "white",
           "landcolor": "#E5ECF6",
           "showlakes": true,
           "showland": true,
           "subunitcolor": "white"
          },
          "hoverlabel": {
           "align": "left"
          },
          "hovermode": "closest",
          "mapbox": {
           "style": "light"
          },
          "paper_bgcolor": "white",
          "plot_bgcolor": "#E5ECF6",
          "polar": {
           "angularaxis": {
            "gridcolor": "white",
            "linecolor": "white",
            "ticks": ""
           },
           "bgcolor": "#E5ECF6",
           "radialaxis": {
            "gridcolor": "white",
            "linecolor": "white",
            "ticks": ""
           }
          },
          "scene": {
           "xaxis": {
            "backgroundcolor": "#E5ECF6",
            "gridcolor": "white",
            "gridwidth": 2,
            "linecolor": "white",
            "showbackground": true,
            "ticks": "",
            "zerolinecolor": "white"
           },
           "yaxis": {
            "backgroundcolor": "#E5ECF6",
            "gridcolor": "white",
            "gridwidth": 2,
            "linecolor": "white",
            "showbackground": true,
            "ticks": "",
            "zerolinecolor": "white"
           },
           "zaxis": {
            "backgroundcolor": "#E5ECF6",
            "gridcolor": "white",
            "gridwidth": 2,
            "linecolor": "white",
            "showbackground": true,
            "ticks": "",
            "zerolinecolor": "white"
           }
          },
          "shapedefaults": {
           "line": {
            "color": "#2a3f5f"
           }
          },
          "ternary": {
           "aaxis": {
            "gridcolor": "white",
            "linecolor": "white",
            "ticks": ""
           },
           "baxis": {
            "gridcolor": "white",
            "linecolor": "white",
            "ticks": ""
           },
           "bgcolor": "#E5ECF6",
           "caxis": {
            "gridcolor": "white",
            "linecolor": "white",
            "ticks": ""
           }
          },
          "title": {
           "x": 0.05
          },
          "xaxis": {
           "automargin": true,
           "gridcolor": "white",
           "linecolor": "white",
           "ticks": "",
           "title": {
            "standoff": 15
           },
           "zerolinecolor": "white",
           "zerolinewidth": 2
          },
          "yaxis": {
           "automargin": true,
           "gridcolor": "white",
           "linecolor": "white",
           "ticks": "",
           "title": {
            "standoff": 15
           },
           "zerolinecolor": "white",
           "zerolinewidth": 2
          }
         }
        },
        "title": {
         "text": "Top 20 Countries by Growth in Bed-Places between 2015 and 2022"
        },
        "xaxis": {
         "anchor": "y",
         "domain": [
          0,
          1
         ],
         "title": {
          "text": "Growth"
         }
        },
        "yaxis": {
         "anchor": "x",
         "categoryorder": "total ascending",
         "domain": [
          0,
          1
         ],
         "title": {
          "text": "Country"
         }
        }
       }
      }
     },
     "metadata": {},
     "output_type": "display_data"
    }
   ],
   "source": [
    "# Visualization of 2nd Period\n",
    "\n",
    "fig = px.bar(growth_2nd_period,\n",
    "             x='Growth_2015_2022',\n",
    "             y='Country',\n",
    "             orientation='h',\n",
    "             title='Top 20 Countries by Growth in Bed-Places between 2015 and 2022',\n",
    "             labels={'Growth_2015_2022':'Growth', 'Country':'Country'})\n",
    "fig.update_layout(\n",
    "    height=800,\n",
    "    yaxis={'categoryorder':'total ascending'}\n",
    ")\n",
    "fig.show()"
   ]
  },
  {
   "cell_type": "code",
   "execution_count": 19,
   "metadata": {},
   "outputs": [
    {
     "name": "stdout",
     "output_type": "stream",
     "text": [
      " * sqlite:///tourism.db\n",
      "Done.\n"
     ]
    },
    {
     "data": {
      "text/html": [
       "<table>\n",
       "    <thead>\n",
       "        <tr>\n",
       "            <th>Country</th>\n",
       "            <th>Bed_Places_2022</th>\n",
       "            <th>Bed_Places_1995</th>\n",
       "            <th>Decline</th>\n",
       "        </tr>\n",
       "    </thead>\n",
       "    <tbody>\n",
       "        <tr>\n",
       "            <td>UNITED KINGDOM</td>\n",
       "            <td>0</td>\n",
       "            <td>1050223.0</td>\n",
       "            <td>-1050223.0</td>\n",
       "        </tr>\n",
       "        <tr>\n",
       "            <td>AUSTRALIA</td>\n",
       "            <td>0</td>\n",
       "            <td>488629.0</td>\n",
       "            <td>-488629.0</td>\n",
       "        </tr>\n",
       "        <tr>\n",
       "            <td>RUSSIAN FEDERATION</td>\n",
       "            <td>0</td>\n",
       "            <td>426102.0</td>\n",
       "            <td>-426102.0</td>\n",
       "        </tr>\n",
       "        <tr>\n",
       "            <td>BRAZIL</td>\n",
       "            <td>0</td>\n",
       "            <td>279100.0</td>\n",
       "            <td>-279100.0</td>\n",
       "        </tr>\n",
       "        <tr>\n",
       "            <td>UKRAINE</td>\n",
       "            <td>0</td>\n",
       "            <td>172468.0</td>\n",
       "            <td>-172468.0</td>\n",
       "        </tr>\n",
       "        <tr>\n",
       "            <td>VENEZUELA, BOLIVARIAN REPUBLIC OF</td>\n",
       "            <td>0</td>\n",
       "            <td>138399.0</td>\n",
       "            <td>-138399.0</td>\n",
       "        </tr>\n",
       "        <tr>\n",
       "            <td>KOREA, REPUBLIC OF</td>\n",
       "            <td>0</td>\n",
       "            <td>117418.0</td>\n",
       "            <td>-117418.0</td>\n",
       "        </tr>\n",
       "        <tr>\n",
       "            <td>INDIA</td>\n",
       "            <td>0</td>\n",
       "            <td>114772.0</td>\n",
       "            <td>-114772.0</td>\n",
       "        </tr>\n",
       "        <tr>\n",
       "            <td>VIET NAM</td>\n",
       "            <td>0</td>\n",
       "            <td>97860.0</td>\n",
       "            <td>-97860.0</td>\n",
       "        </tr>\n",
       "        <tr>\n",
       "            <td>SOUTH AFRICA</td>\n",
       "            <td>0</td>\n",
       "            <td>94744.0</td>\n",
       "            <td>-94744.0</td>\n",
       "        </tr>\n",
       "        <tr>\n",
       "            <td>CHILE</td>\n",
       "            <td>0</td>\n",
       "            <td>88705.0</td>\n",
       "            <td>-88705.0</td>\n",
       "        </tr>\n",
       "        <tr>\n",
       "            <td>SERBIA AND MONTENEGRO</td>\n",
       "            <td>0</td>\n",
       "            <td>85608.0</td>\n",
       "            <td>-85608.0</td>\n",
       "        </tr>\n",
       "        <tr>\n",
       "            <td>CYPRUS</td>\n",
       "            <td>0</td>\n",
       "            <td>77259.0</td>\n",
       "            <td>-77259.0</td>\n",
       "        </tr>\n",
       "        <tr>\n",
       "            <td>DOMINICAN REPUBLIC</td>\n",
       "            <td>0</td>\n",
       "            <td>65696.0</td>\n",
       "            <td>-65696.0</td>\n",
       "        </tr>\n",
       "        <tr>\n",
       "            <td>PHILIPPINES</td>\n",
       "            <td>0</td>\n",
       "            <td>61586.0</td>\n",
       "            <td>-61586.0</td>\n",
       "        </tr>\n",
       "        <tr>\n",
       "            <td>SLOVAKIA</td>\n",
       "            <td>0</td>\n",
       "            <td>53916.0</td>\n",
       "            <td>-53916.0</td>\n",
       "        </tr>\n",
       "        <tr>\n",
       "            <td>IRAQ</td>\n",
       "            <td>0</td>\n",
       "            <td>53069.0</td>\n",
       "            <td>-53069.0</td>\n",
       "        </tr>\n",
       "        <tr>\n",
       "            <td>PAKISTAN</td>\n",
       "            <td>0</td>\n",
       "            <td>44767.0</td>\n",
       "            <td>-44767.0</td>\n",
       "        </tr>\n",
       "        <tr>\n",
       "            <td>UNITED ARAB EMIRATES</td>\n",
       "            <td>0</td>\n",
       "            <td>34844.0</td>\n",
       "            <td>-34844.0</td>\n",
       "        </tr>\n",
       "        <tr>\n",
       "            <td>CROATIA</td>\n",
       "            <td>170737.0</td>\n",
       "            <td>205234.0</td>\n",
       "            <td>-34497.0</td>\n",
       "        </tr>\n",
       "    </tbody>\n",
       "</table>"
      ],
      "text/plain": [
       "[('UNITED KINGDOM', 0, 1050223.0, -1050223.0),\n",
       " ('AUSTRALIA', 0, 488629.0, -488629.0),\n",
       " ('RUSSIAN FEDERATION', 0, 426102.0, -426102.0),\n",
       " ('BRAZIL', 0, 279100.0, -279100.0),\n",
       " ('UKRAINE', 0, 172468.0, -172468.0),\n",
       " ('VENEZUELA, BOLIVARIAN REPUBLIC OF', 0, 138399.0, -138399.0),\n",
       " ('KOREA, REPUBLIC OF', 0, 117418.0, -117418.0),\n",
       " ('INDIA', 0, 114772.0, -114772.0),\n",
       " ('VIET NAM', 0, 97860.0, -97860.0),\n",
       " ('SOUTH AFRICA', 0, 94744.0, -94744.0),\n",
       " ('CHILE', 0, 88705.0, -88705.0),\n",
       " ('SERBIA AND MONTENEGRO', 0, 85608.0, -85608.0),\n",
       " ('CYPRUS', 0, 77259.0, -77259.0),\n",
       " ('DOMINICAN REPUBLIC', 0, 65696.0, -65696.0),\n",
       " ('PHILIPPINES', 0, 61586.0, -61586.0),\n",
       " ('SLOVAKIA', 0, 53916.0, -53916.0),\n",
       " ('IRAQ', 0, 53069.0, -53069.0),\n",
       " ('PAKISTAN', 0, 44767.0, -44767.0),\n",
       " ('UNITED ARAB EMIRATES', 0, 34844.0, -34844.0),\n",
       " ('CROATIA', 170737.0, 205234.0, -34497.0)]"
      ]
     },
     "execution_count": 19,
     "metadata": {},
     "output_type": "execute_result"
    }
   ],
   "source": [
    "%%sql\n",
    "\n",
    "SELECT\n",
    "    Country,\n",
    "    SUM(CASE WHEN Year = 2022 THEN Value ELSE 0 END) AS Bed_Places_2022,\n",
    "    SUM(CASE WHEN Year = 1995 THEN Value ELSE 0 END) AS Bed_Places_1995,\n",
    "    SUM(CASE WHEN Year = 2022 THEN Value ELSE 0 END) -\n",
    "    SUM(CASE WHEN Year = 1995 THEN Value ELSE 0 END) AS Decline\n",
    "FROM tourism_data\n",
    "WHERE Indicator = 'Number of bed-places'\n",
    "    AND Year in (1995, 2022)\n",
    "GROUP BY Country\n",
    "Having Bed_Places_1995 > 0\n",
    "ORDER BY Decline ASC\n",
    "LIMIT 20;"
   ]
  },
  {
   "cell_type": "code",
   "execution_count": 23,
   "metadata": {},
   "outputs": [
    {
     "name": "stdout",
     "output_type": "stream",
     "text": [
      " * sqlite:///tourism.db\n",
      "Done.\n"
     ]
    }
   ],
   "source": [
    "# Total Decline during the whole sturdy period\n",
    "\n",
    "decline_result = %sql \\\n",
    "SELECT Country, \\\n",
    "    SUM(CASE WHEN Year = 2022 THEN Value ELSE 0 END) AS Bed_Places_2022, \\\n",
    "    SUM(CASE WHEN Year = 1995 THEN Value ELSE 0 END) AS Bed_Places_1995, \\\n",
    "    SUM(CASE WHEN Year = 2022 THEN Value ELSE 0 END) - \\\n",
    "    SUM(CASE WHEN Year = 1995 THEN Value ELSE 0 END) AS Decline \\\n",
    "FROM tourism_data \\\n",
    "WHERE Indicator = 'Number of bed-places' \\\n",
    "    AND Year in (1995, 2022) \\\n",
    "GROUP BY Country \\\n",
    "Having Bed_Places_1995 > 0 \\\n",
    "ORDER BY Decline ASC \\\n",
    "LIMIT 20;"
   ]
  },
  {
   "cell_type": "code",
   "execution_count": 25,
   "metadata": {},
   "outputs": [
    {
     "data": {
      "application/vnd.plotly.v1+json": {
       "config": {
        "plotlyServerURL": "https://plot.ly"
       },
       "data": [
        {
         "alignmentgroup": "True",
         "hovertemplate": "Decline in Bed-Places=%{x}<br>Country=%{y}<extra></extra>",
         "legendgroup": "",
         "marker": {
          "color": "#636efa",
          "pattern": {
           "shape": ""
          }
         },
         "name": "",
         "offsetgroup": "",
         "orientation": "h",
         "showlegend": false,
         "textposition": "auto",
         "type": "bar",
         "x": [
          -1050223,
          -488629,
          -426102,
          -279100,
          -172468,
          -138399,
          -117418,
          -114772,
          -97860,
          -94744,
          -88705,
          -85608,
          -77259,
          -65696,
          -61586,
          -53916,
          -53069,
          -44767,
          -34844,
          -34497
         ],
         "xaxis": "x",
         "y": [
          "UNITED KINGDOM",
          "AUSTRALIA",
          "RUSSIAN FEDERATION",
          "BRAZIL",
          "UKRAINE",
          "VENEZUELA, BOLIVARIAN REPUBLIC OF",
          "KOREA, REPUBLIC OF",
          "INDIA",
          "VIET NAM",
          "SOUTH AFRICA",
          "CHILE",
          "SERBIA AND MONTENEGRO",
          "CYPRUS",
          "DOMINICAN REPUBLIC",
          "PHILIPPINES",
          "SLOVAKIA",
          "IRAQ",
          "PAKISTAN",
          "UNITED ARAB EMIRATES",
          "CROATIA"
         ],
         "yaxis": "y"
        }
       ],
       "layout": {
        "barmode": "relative",
        "height": 800,
        "legend": {
         "tracegroupgap": 0
        },
        "template": {
         "data": {
          "bar": [
           {
            "error_x": {
             "color": "#2a3f5f"
            },
            "error_y": {
             "color": "#2a3f5f"
            },
            "marker": {
             "line": {
              "color": "#E5ECF6",
              "width": 0.5
             },
             "pattern": {
              "fillmode": "overlay",
              "size": 10,
              "solidity": 0.2
             }
            },
            "type": "bar"
           }
          ],
          "barpolar": [
           {
            "marker": {
             "line": {
              "color": "#E5ECF6",
              "width": 0.5
             },
             "pattern": {
              "fillmode": "overlay",
              "size": 10,
              "solidity": 0.2
             }
            },
            "type": "barpolar"
           }
          ],
          "carpet": [
           {
            "aaxis": {
             "endlinecolor": "#2a3f5f",
             "gridcolor": "white",
             "linecolor": "white",
             "minorgridcolor": "white",
             "startlinecolor": "#2a3f5f"
            },
            "baxis": {
             "endlinecolor": "#2a3f5f",
             "gridcolor": "white",
             "linecolor": "white",
             "minorgridcolor": "white",
             "startlinecolor": "#2a3f5f"
            },
            "type": "carpet"
           }
          ],
          "choropleth": [
           {
            "colorbar": {
             "outlinewidth": 0,
             "ticks": ""
            },
            "type": "choropleth"
           }
          ],
          "contour": [
           {
            "colorbar": {
             "outlinewidth": 0,
             "ticks": ""
            },
            "colorscale": [
             [
              0,
              "#0d0887"
             ],
             [
              0.1111111111111111,
              "#46039f"
             ],
             [
              0.2222222222222222,
              "#7201a8"
             ],
             [
              0.3333333333333333,
              "#9c179e"
             ],
             [
              0.4444444444444444,
              "#bd3786"
             ],
             [
              0.5555555555555556,
              "#d8576b"
             ],
             [
              0.6666666666666666,
              "#ed7953"
             ],
             [
              0.7777777777777778,
              "#fb9f3a"
             ],
             [
              0.8888888888888888,
              "#fdca26"
             ],
             [
              1,
              "#f0f921"
             ]
            ],
            "type": "contour"
           }
          ],
          "contourcarpet": [
           {
            "colorbar": {
             "outlinewidth": 0,
             "ticks": ""
            },
            "type": "contourcarpet"
           }
          ],
          "heatmap": [
           {
            "colorbar": {
             "outlinewidth": 0,
             "ticks": ""
            },
            "colorscale": [
             [
              0,
              "#0d0887"
             ],
             [
              0.1111111111111111,
              "#46039f"
             ],
             [
              0.2222222222222222,
              "#7201a8"
             ],
             [
              0.3333333333333333,
              "#9c179e"
             ],
             [
              0.4444444444444444,
              "#bd3786"
             ],
             [
              0.5555555555555556,
              "#d8576b"
             ],
             [
              0.6666666666666666,
              "#ed7953"
             ],
             [
              0.7777777777777778,
              "#fb9f3a"
             ],
             [
              0.8888888888888888,
              "#fdca26"
             ],
             [
              1,
              "#f0f921"
             ]
            ],
            "type": "heatmap"
           }
          ],
          "heatmapgl": [
           {
            "colorbar": {
             "outlinewidth": 0,
             "ticks": ""
            },
            "colorscale": [
             [
              0,
              "#0d0887"
             ],
             [
              0.1111111111111111,
              "#46039f"
             ],
             [
              0.2222222222222222,
              "#7201a8"
             ],
             [
              0.3333333333333333,
              "#9c179e"
             ],
             [
              0.4444444444444444,
              "#bd3786"
             ],
             [
              0.5555555555555556,
              "#d8576b"
             ],
             [
              0.6666666666666666,
              "#ed7953"
             ],
             [
              0.7777777777777778,
              "#fb9f3a"
             ],
             [
              0.8888888888888888,
              "#fdca26"
             ],
             [
              1,
              "#f0f921"
             ]
            ],
            "type": "heatmapgl"
           }
          ],
          "histogram": [
           {
            "marker": {
             "pattern": {
              "fillmode": "overlay",
              "size": 10,
              "solidity": 0.2
             }
            },
            "type": "histogram"
           }
          ],
          "histogram2d": [
           {
            "colorbar": {
             "outlinewidth": 0,
             "ticks": ""
            },
            "colorscale": [
             [
              0,
              "#0d0887"
             ],
             [
              0.1111111111111111,
              "#46039f"
             ],
             [
              0.2222222222222222,
              "#7201a8"
             ],
             [
              0.3333333333333333,
              "#9c179e"
             ],
             [
              0.4444444444444444,
              "#bd3786"
             ],
             [
              0.5555555555555556,
              "#d8576b"
             ],
             [
              0.6666666666666666,
              "#ed7953"
             ],
             [
              0.7777777777777778,
              "#fb9f3a"
             ],
             [
              0.8888888888888888,
              "#fdca26"
             ],
             [
              1,
              "#f0f921"
             ]
            ],
            "type": "histogram2d"
           }
          ],
          "histogram2dcontour": [
           {
            "colorbar": {
             "outlinewidth": 0,
             "ticks": ""
            },
            "colorscale": [
             [
              0,
              "#0d0887"
             ],
             [
              0.1111111111111111,
              "#46039f"
             ],
             [
              0.2222222222222222,
              "#7201a8"
             ],
             [
              0.3333333333333333,
              "#9c179e"
             ],
             [
              0.4444444444444444,
              "#bd3786"
             ],
             [
              0.5555555555555556,
              "#d8576b"
             ],
             [
              0.6666666666666666,
              "#ed7953"
             ],
             [
              0.7777777777777778,
              "#fb9f3a"
             ],
             [
              0.8888888888888888,
              "#fdca26"
             ],
             [
              1,
              "#f0f921"
             ]
            ],
            "type": "histogram2dcontour"
           }
          ],
          "mesh3d": [
           {
            "colorbar": {
             "outlinewidth": 0,
             "ticks": ""
            },
            "type": "mesh3d"
           }
          ],
          "parcoords": [
           {
            "line": {
             "colorbar": {
              "outlinewidth": 0,
              "ticks": ""
             }
            },
            "type": "parcoords"
           }
          ],
          "pie": [
           {
            "automargin": true,
            "type": "pie"
           }
          ],
          "scatter": [
           {
            "fillpattern": {
             "fillmode": "overlay",
             "size": 10,
             "solidity": 0.2
            },
            "type": "scatter"
           }
          ],
          "scatter3d": [
           {
            "line": {
             "colorbar": {
              "outlinewidth": 0,
              "ticks": ""
             }
            },
            "marker": {
             "colorbar": {
              "outlinewidth": 0,
              "ticks": ""
             }
            },
            "type": "scatter3d"
           }
          ],
          "scattercarpet": [
           {
            "marker": {
             "colorbar": {
              "outlinewidth": 0,
              "ticks": ""
             }
            },
            "type": "scattercarpet"
           }
          ],
          "scattergeo": [
           {
            "marker": {
             "colorbar": {
              "outlinewidth": 0,
              "ticks": ""
             }
            },
            "type": "scattergeo"
           }
          ],
          "scattergl": [
           {
            "marker": {
             "colorbar": {
              "outlinewidth": 0,
              "ticks": ""
             }
            },
            "type": "scattergl"
           }
          ],
          "scattermapbox": [
           {
            "marker": {
             "colorbar": {
              "outlinewidth": 0,
              "ticks": ""
             }
            },
            "type": "scattermapbox"
           }
          ],
          "scatterpolar": [
           {
            "marker": {
             "colorbar": {
              "outlinewidth": 0,
              "ticks": ""
             }
            },
            "type": "scatterpolar"
           }
          ],
          "scatterpolargl": [
           {
            "marker": {
             "colorbar": {
              "outlinewidth": 0,
              "ticks": ""
             }
            },
            "type": "scatterpolargl"
           }
          ],
          "scatterternary": [
           {
            "marker": {
             "colorbar": {
              "outlinewidth": 0,
              "ticks": ""
             }
            },
            "type": "scatterternary"
           }
          ],
          "surface": [
           {
            "colorbar": {
             "outlinewidth": 0,
             "ticks": ""
            },
            "colorscale": [
             [
              0,
              "#0d0887"
             ],
             [
              0.1111111111111111,
              "#46039f"
             ],
             [
              0.2222222222222222,
              "#7201a8"
             ],
             [
              0.3333333333333333,
              "#9c179e"
             ],
             [
              0.4444444444444444,
              "#bd3786"
             ],
             [
              0.5555555555555556,
              "#d8576b"
             ],
             [
              0.6666666666666666,
              "#ed7953"
             ],
             [
              0.7777777777777778,
              "#fb9f3a"
             ],
             [
              0.8888888888888888,
              "#fdca26"
             ],
             [
              1,
              "#f0f921"
             ]
            ],
            "type": "surface"
           }
          ],
          "table": [
           {
            "cells": {
             "fill": {
              "color": "#EBF0F8"
             },
             "line": {
              "color": "white"
             }
            },
            "header": {
             "fill": {
              "color": "#C8D4E3"
             },
             "line": {
              "color": "white"
             }
            },
            "type": "table"
           }
          ]
         },
         "layout": {
          "annotationdefaults": {
           "arrowcolor": "#2a3f5f",
           "arrowhead": 0,
           "arrowwidth": 1
          },
          "autotypenumbers": "strict",
          "coloraxis": {
           "colorbar": {
            "outlinewidth": 0,
            "ticks": ""
           }
          },
          "colorscale": {
           "diverging": [
            [
             0,
             "#8e0152"
            ],
            [
             0.1,
             "#c51b7d"
            ],
            [
             0.2,
             "#de77ae"
            ],
            [
             0.3,
             "#f1b6da"
            ],
            [
             0.4,
             "#fde0ef"
            ],
            [
             0.5,
             "#f7f7f7"
            ],
            [
             0.6,
             "#e6f5d0"
            ],
            [
             0.7,
             "#b8e186"
            ],
            [
             0.8,
             "#7fbc41"
            ],
            [
             0.9,
             "#4d9221"
            ],
            [
             1,
             "#276419"
            ]
           ],
           "sequential": [
            [
             0,
             "#0d0887"
            ],
            [
             0.1111111111111111,
             "#46039f"
            ],
            [
             0.2222222222222222,
             "#7201a8"
            ],
            [
             0.3333333333333333,
             "#9c179e"
            ],
            [
             0.4444444444444444,
             "#bd3786"
            ],
            [
             0.5555555555555556,
             "#d8576b"
            ],
            [
             0.6666666666666666,
             "#ed7953"
            ],
            [
             0.7777777777777778,
             "#fb9f3a"
            ],
            [
             0.8888888888888888,
             "#fdca26"
            ],
            [
             1,
             "#f0f921"
            ]
           ],
           "sequentialminus": [
            [
             0,
             "#0d0887"
            ],
            [
             0.1111111111111111,
             "#46039f"
            ],
            [
             0.2222222222222222,
             "#7201a8"
            ],
            [
             0.3333333333333333,
             "#9c179e"
            ],
            [
             0.4444444444444444,
             "#bd3786"
            ],
            [
             0.5555555555555556,
             "#d8576b"
            ],
            [
             0.6666666666666666,
             "#ed7953"
            ],
            [
             0.7777777777777778,
             "#fb9f3a"
            ],
            [
             0.8888888888888888,
             "#fdca26"
            ],
            [
             1,
             "#f0f921"
            ]
           ]
          },
          "colorway": [
           "#636efa",
           "#EF553B",
           "#00cc96",
           "#ab63fa",
           "#FFA15A",
           "#19d3f3",
           "#FF6692",
           "#B6E880",
           "#FF97FF",
           "#FECB52"
          ],
          "font": {
           "color": "#2a3f5f"
          },
          "geo": {
           "bgcolor": "white",
           "lakecolor": "white",
           "landcolor": "#E5ECF6",
           "showlakes": true,
           "showland": true,
           "subunitcolor": "white"
          },
          "hoverlabel": {
           "align": "left"
          },
          "hovermode": "closest",
          "mapbox": {
           "style": "light"
          },
          "paper_bgcolor": "white",
          "plot_bgcolor": "#E5ECF6",
          "polar": {
           "angularaxis": {
            "gridcolor": "white",
            "linecolor": "white",
            "ticks": ""
           },
           "bgcolor": "#E5ECF6",
           "radialaxis": {
            "gridcolor": "white",
            "linecolor": "white",
            "ticks": ""
           }
          },
          "scene": {
           "xaxis": {
            "backgroundcolor": "#E5ECF6",
            "gridcolor": "white",
            "gridwidth": 2,
            "linecolor": "white",
            "showbackground": true,
            "ticks": "",
            "zerolinecolor": "white"
           },
           "yaxis": {
            "backgroundcolor": "#E5ECF6",
            "gridcolor": "white",
            "gridwidth": 2,
            "linecolor": "white",
            "showbackground": true,
            "ticks": "",
            "zerolinecolor": "white"
           },
           "zaxis": {
            "backgroundcolor": "#E5ECF6",
            "gridcolor": "white",
            "gridwidth": 2,
            "linecolor": "white",
            "showbackground": true,
            "ticks": "",
            "zerolinecolor": "white"
           }
          },
          "shapedefaults": {
           "line": {
            "color": "#2a3f5f"
           }
          },
          "ternary": {
           "aaxis": {
            "gridcolor": "white",
            "linecolor": "white",
            "ticks": ""
           },
           "baxis": {
            "gridcolor": "white",
            "linecolor": "white",
            "ticks": ""
           },
           "bgcolor": "#E5ECF6",
           "caxis": {
            "gridcolor": "white",
            "linecolor": "white",
            "ticks": ""
           }
          },
          "title": {
           "x": 0.05
          },
          "xaxis": {
           "automargin": true,
           "gridcolor": "white",
           "linecolor": "white",
           "ticks": "",
           "title": {
            "standoff": 15
           },
           "zerolinecolor": "white",
           "zerolinewidth": 2
          },
          "yaxis": {
           "automargin": true,
           "gridcolor": "white",
           "linecolor": "white",
           "ticks": "",
           "title": {
            "standoff": 15
           },
           "zerolinecolor": "white",
           "zerolinewidth": 2
          }
         }
        },
        "title": {
         "text": "Top 20 Countries by Decline in Bed-Places between 1995 and 2022"
        },
        "xaxis": {
         "anchor": "y",
         "domain": [
          0,
          1
         ],
         "title": {
          "text": "Decline in Bed-Places"
         }
        },
        "yaxis": {
         "anchor": "x",
         "categoryorder": "total descending",
         "domain": [
          0,
          1
         ],
         "title": {
          "text": "Country"
         }
        }
       }
      }
     },
     "metadata": {},
     "output_type": "display_data"
    }
   ],
   "source": [
    "# Visualisation\n",
    "fig = px.bar(decline_result,\n",
    "             x='Decline',\n",
    "             y='Country',\n",
    "             orientation='h',\n",
    "             title='Top 20 Countries by Decline in Bed-Places between 1995 and 2022',\n",
    "             labels={'Decline':'Decline in Bed-Places', 'Country':'Country'})\n",
    "fig.update_layout(\n",
    "    height=800,\n",
    "    yaxis={'categoryorder':'total descending'}\n",
    ")\n",
    "fig.show()"
   ]
  },
  {
   "cell_type": "markdown",
   "metadata": {},
   "source": [
    "#### Find Average Occupancy Rate Over Time"
   ]
  },
  {
   "cell_type": "code",
   "execution_count": 18,
   "metadata": {},
   "outputs": [
    {
     "name": "stdout",
     "output_type": "stream",
     "text": [
      " * sqlite:///tourism.db\n",
      "Done.\n"
     ]
    },
    {
     "data": {
      "text/html": [
       "<table>\n",
       "    <thead>\n",
       "        <tr>\n",
       "            <th>Year</th>\n",
       "            <th>Avg_Occupancy_Rate</th>\n",
       "        </tr>\n",
       "    </thead>\n",
       "    <tbody>\n",
       "        <tr>\n",
       "            <td>1995</td>\n",
       "            <td>42.72636363636364</td>\n",
       "        </tr>\n",
       "        <tr>\n",
       "            <td>1996</td>\n",
       "            <td>44.110113636363636</td>\n",
       "        </tr>\n",
       "        <tr>\n",
       "            <td>1997</td>\n",
       "            <td>43.6510989010989</td>\n",
       "        </tr>\n",
       "        <tr>\n",
       "            <td>1998</td>\n",
       "            <td>44.32168539325843</td>\n",
       "        </tr>\n",
       "        <tr>\n",
       "            <td>1999</td>\n",
       "            <td>41.831</td>\n",
       "        </tr>\n",
       "        <tr>\n",
       "            <td>2000</td>\n",
       "            <td>42.64688172043011</td>\n",
       "        </tr>\n",
       "        <tr>\n",
       "            <td>2001</td>\n",
       "            <td>43.047111111111114</td>\n",
       "        </tr>\n",
       "        <tr>\n",
       "            <td>2002</td>\n",
       "            <td>41.93941860465116</td>\n",
       "        </tr>\n",
       "        <tr>\n",
       "            <td>2003</td>\n",
       "            <td>40.353658536585364</td>\n",
       "        </tr>\n",
       "        <tr>\n",
       "            <td>2004</td>\n",
       "            <td>42.716329113924054</td>\n",
       "        </tr>\n",
       "        <tr>\n",
       "            <td>2005</td>\n",
       "            <td>43.6944705882353</td>\n",
       "        </tr>\n",
       "        <tr>\n",
       "            <td>2006</td>\n",
       "            <td>44.593333333333334</td>\n",
       "        </tr>\n",
       "        <tr>\n",
       "            <td>2007</td>\n",
       "            <td>44.01903225806451</td>\n",
       "        </tr>\n",
       "        <tr>\n",
       "            <td>2008</td>\n",
       "            <td>43.36094736842105</td>\n",
       "        </tr>\n",
       "        <tr>\n",
       "            <td>2009</td>\n",
       "            <td>40.28011111111111</td>\n",
       "        </tr>\n",
       "        <tr>\n",
       "            <td>2010</td>\n",
       "            <td>39.99296703296704</td>\n",
       "        </tr>\n",
       "        <tr>\n",
       "            <td>2011</td>\n",
       "            <td>40.744204545454544</td>\n",
       "        </tr>\n",
       "        <tr>\n",
       "            <td>2012</td>\n",
       "            <td>41.47965909090909</td>\n",
       "        </tr>\n",
       "        <tr>\n",
       "            <td>2013</td>\n",
       "            <td>42.180224719101126</td>\n",
       "        </tr>\n",
       "        <tr>\n",
       "            <td>2014</td>\n",
       "            <td>41.742011363636365</td>\n",
       "        </tr>\n",
       "        <tr>\n",
       "            <td>2015</td>\n",
       "            <td>41.4270786516854</td>\n",
       "        </tr>\n",
       "        <tr>\n",
       "            <td>2016</td>\n",
       "            <td>41.480909090909094</td>\n",
       "        </tr>\n",
       "        <tr>\n",
       "            <td>2017</td>\n",
       "            <td>42.66758620689655</td>\n",
       "        </tr>\n",
       "        <tr>\n",
       "            <td>2018</td>\n",
       "            <td>43.095116279069764</td>\n",
       "        </tr>\n",
       "        <tr>\n",
       "            <td>2019</td>\n",
       "            <td>43.91130952380953</td>\n",
       "        </tr>\n",
       "        <tr>\n",
       "            <td>2020</td>\n",
       "            <td>23.93466266344686</td>\n",
       "        </tr>\n",
       "        <tr>\n",
       "            <td>2021</td>\n",
       "            <td>30.48175675675676</td>\n",
       "        </tr>\n",
       "        <tr>\n",
       "            <td>2022</td>\n",
       "            <td>40.347142857142856</td>\n",
       "        </tr>\n",
       "    </tbody>\n",
       "</table>"
      ],
      "text/plain": [
       "[(1995, 42.72636363636364),\n",
       " (1996, 44.110113636363636),\n",
       " (1997, 43.6510989010989),\n",
       " (1998, 44.32168539325843),\n",
       " (1999, 41.831),\n",
       " (2000, 42.64688172043011),\n",
       " (2001, 43.047111111111114),\n",
       " (2002, 41.93941860465116),\n",
       " (2003, 40.353658536585364),\n",
       " (2004, 42.716329113924054),\n",
       " (2005, 43.6944705882353),\n",
       " (2006, 44.593333333333334),\n",
       " (2007, 44.01903225806451),\n",
       " (2008, 43.36094736842105),\n",
       " (2009, 40.28011111111111),\n",
       " (2010, 39.99296703296704),\n",
       " (2011, 40.744204545454544),\n",
       " (2012, 41.47965909090909),\n",
       " (2013, 42.180224719101126),\n",
       " (2014, 41.742011363636365),\n",
       " (2015, 41.4270786516854),\n",
       " (2016, 41.480909090909094),\n",
       " (2017, 42.66758620689655),\n",
       " (2018, 43.095116279069764),\n",
       " (2019, 43.91130952380953),\n",
       " (2020, 23.93466266344686),\n",
       " (2021, 30.48175675675676),\n",
       " (2022, 40.347142857142856)]"
      ]
     },
     "execution_count": 18,
     "metadata": {},
     "output_type": "execute_result"
    }
   ],
   "source": [
    "%%sql\n",
    "SELECT Year, AVG(Value) AS Avg_Occupancy_Rate\n",
    "FROM tourism_data\n",
    "WHERE Indicator = 'Occupancy rate / bed-places'\n",
    "GROUP BY Year\n",
    "ORDER BY Year;"
   ]
  },
  {
   "cell_type": "code",
   "execution_count": 20,
   "metadata": {},
   "outputs": [],
   "source": [
    "# Visualization"
   ]
  },
  {
   "cell_type": "code",
   "execution_count": 19,
   "metadata": {},
   "outputs": [
    {
     "name": "stdout",
     "output_type": "stream",
     "text": [
      " * sqlite:///tourism.db\n",
      "Done.\n"
     ]
    }
   ],
   "source": [
    "result = %sql SELECT Year, AVG(Value) AS Avg_Occupancy_Rate \\\n",
    "              FROM tourism_data \\\n",
    "              WHERE Indicator = 'Occupancy rate / bed-places' \\\n",
    "              GROUP BY Year \\\n",
    "              ORDER BY Year;\n",
    "\n",
    "df_occupancy = result.DataFrame()"
   ]
  },
  {
   "cell_type": "code",
   "execution_count": 21,
   "metadata": {},
   "outputs": [
    {
     "data": {
      "image/png": "[encoded data removed]",
      "text/plain": [
       "<Figure size 1000x500 with 1 Axes>"
      ]
     },
     "metadata": {},
     "output_type": "display_data"
    }
   ],
   "source": [
    "import matplotlib.pyplot as plt\n",
    "\n",
    "plt.figure(figsize=(10, 5))\n",
    "plt.plot(df_occupancy['Year'], df_occupancy['Avg_Occupancy_Rate'], marker='o', linestyle='-')\n",
    "plt.title('Average Occupancy Rate Over Years')\n",
    "plt.xlabel('Year')\n",
    "plt.ylabel('Average Occupancy Rate (%)')\n",
    "plt.grid(True)\n",
    "plt.tight_layout()\n",
    "plt.show()"
   ]
  },
  {
   "cell_type": "code",
   "execution_count": 22,
   "metadata": {},
   "outputs": [
    {
     "data": {
      "application/vnd.plotly.v1+json": {
       "config": {
        "plotlyServerURL": "https://plot.ly"
       },
       "data": [
        {
         "hovertemplate": "Year=%{x}<br>Occupancy Rate (%)=%{y}<extra></extra>",
         "legendgroup": "",
         "line": {
          "color": "#636efa",
          "dash": "solid"
         },
         "marker": {
          "symbol": "circle"
         },
         "mode": "lines",
         "name": "",
         "orientation": "v",
         "showlegend": false,
         "type": "scatter",
         "x": [
          1995,
          1996,
          1997,
          1998,
          1999,
          2000,
          2001,
          2002,
          2003,
          2004,
          2005,
          2006,
          2007,
          2008,
          2009,
          2010,
          2011,
          2012,
          2013,
          2014,
          2015,
          2016,
          2017,
          2018,
          2019,
          2020,
          2021,
          2022
         ],
         "xaxis": "x",
         "y": [
          42.72636363636364,
          44.110113636363636,
          43.6510989010989,
          44.32168539325843,
          41.831,
          42.64688172043011,
          43.047111111111114,
          41.93941860465116,
          40.353658536585364,
          42.716329113924054,
          43.6944705882353,
          44.593333333333334,
          44.01903225806451,
          43.36094736842105,
          40.28011111111111,
          39.99296703296704,
          40.744204545454544,
          41.47965909090909,
          42.180224719101126,
          41.742011363636365,
          41.4270786516854,
          41.480909090909094,
          42.66758620689655,
          43.095116279069764,
          43.91130952380953,
          23.93466266344686,
          30.48175675675676,
          40.347142857142856
         ],
         "yaxis": "y"
        }
       ],
       "layout": {
        "legend": {
         "tracegroupgap": 0
        },
        "template": {
         "data": {
          "bar": [
           {
            "error_x": {
             "color": "#2a3f5f"
            },
            "error_y": {
             "color": "#2a3f5f"
            },
            "marker": {
             "line": {
              "color": "#E5ECF6",
              "width": 0.5
             },
             "pattern": {
              "fillmode": "overlay",
              "size": 10,
              "solidity": 0.2
             }
            },
            "type": "bar"
           }
          ],
          "barpolar": [
           {
            "marker": {
             "line": {
              "color": "#E5ECF6",
              "width": 0.5
             },
             "pattern": {
              "fillmode": "overlay",
              "size": 10,
              "solidity": 0.2
             }
            },
            "type": "barpolar"
           }
          ],
          "carpet": [
           {
            "aaxis": {
             "endlinecolor": "#2a3f5f",
             "gridcolor": "white",
             "linecolor": "white",
             "minorgridcolor": "white",
             "startlinecolor": "#2a3f5f"
            },
            "baxis": {
             "endlinecolor": "#2a3f5f",
             "gridcolor": "white",
             "linecolor": "white",
             "minorgridcolor": "white",
             "startlinecolor": "#2a3f5f"
            },
            "type": "carpet"
           }
          ],
          "choropleth": [
           {
            "colorbar": {
             "outlinewidth": 0,
             "ticks": ""
            },
            "type": "choropleth"
           }
          ],
          "contour": [
           {
            "colorbar": {
             "outlinewidth": 0,
             "ticks": ""
            },
            "colorscale": [
             [
              0,
              "#0d0887"
             ],
             [
              0.1111111111111111,
              "#46039f"
             ],
             [
              0.2222222222222222,
              "#7201a8"
             ],
             [
              0.3333333333333333,
              "#9c179e"
             ],
             [
              0.4444444444444444,
              "#bd3786"
             ],
             [
              0.5555555555555556,
              "#d8576b"
             ],
             [
              0.6666666666666666,
              "#ed7953"
             ],
             [
              0.7777777777777778,
              "#fb9f3a"
             ],
             [
              0.8888888888888888,
              "#fdca26"
             ],
             [
              1,
              "#f0f921"
             ]
            ],
            "type": "contour"
           }
          ],
          "contourcarpet": [
           {
            "colorbar": {
             "outlinewidth": 0,
             "ticks": ""
            },
            "type": "contourcarpet"
           }
          ],
          "heatmap": [
           {
            "colorbar": {
             "outlinewidth": 0,
             "ticks": ""
            },
            "colorscale": [
             [
              0,
              "#0d0887"
             ],
             [
              0.1111111111111111,
              "#46039f"
             ],
             [
              0.2222222222222222,
              "#7201a8"
             ],
             [
              0.3333333333333333,
              "#9c179e"
             ],
             [
              0.4444444444444444,
              "#bd3786"
             ],
             [
              0.5555555555555556,
              "#d8576b"
             ],
             [
              0.6666666666666666,
              "#ed7953"
             ],
             [
              0.7777777777777778,
              "#fb9f3a"
             ],
             [
              0.8888888888888888,
              "#fdca26"
             ],
             [
              1,
              "#f0f921"
             ]
            ],
            "type": "heatmap"
           }
          ],
          "heatmapgl": [
           {
            "colorbar": {
             "outlinewidth": 0,
             "ticks": ""
            },
            "colorscale": [
             [
              0,
              "#0d0887"
             ],
             [
              0.1111111111111111,
              "#46039f"
             ],
             [
              0.2222222222222222,
              "#7201a8"
             ],
             [
              0.3333333333333333,
              "#9c179e"
             ],
             [
              0.4444444444444444,
              "#bd3786"
             ],
             [
              0.5555555555555556,
              "#d8576b"
             ],
             [
              0.6666666666666666,
              "#ed7953"
             ],
             [
              0.7777777777777778,
              "#fb9f3a"
             ],
             [
              0.8888888888888888,
              "#fdca26"
             ],
             [
              1,
              "#f0f921"
             ]
            ],
            "type": "heatmapgl"
           }
          ],
          "histogram": [
           {
            "marker": {
             "pattern": {
              "fillmode": "overlay",
              "size": 10,
              "solidity": 0.2
             }
            },
            "type": "histogram"
           }
          ],
          "histogram2d": [
           {
            "colorbar": {
             "outlinewidth": 0,
             "ticks": ""
            },
            "colorscale": [
             [
              0,
              "#0d0887"
             ],
             [
              0.1111111111111111,
              "#46039f"
             ],
             [
              0.2222222222222222,
              "#7201a8"
             ],
             [
              0.3333333333333333,
              "#9c179e"
             ],
             [
              0.4444444444444444,
              "#bd3786"
             ],
             [
              0.5555555555555556,
              "#d8576b"
             ],
             [
              0.6666666666666666,
              "#ed7953"
             ],
             [
              0.7777777777777778,
              "#fb9f3a"
             ],
             [
              0.8888888888888888,
              "#fdca26"
             ],
             [
              1,
              "#f0f921"
             ]
            ],
            "type": "histogram2d"
           }
          ],
          "histogram2dcontour": [
           {
            "colorbar": {
             "outlinewidth": 0,
             "ticks": ""
            },
            "colorscale": [
             [
              0,
              "#0d0887"
             ],
             [
              0.1111111111111111,
              "#46039f"
             ],
             [
              0.2222222222222222,
              "#7201a8"
             ],
             [
              0.3333333333333333,
              "#9c179e"
             ],
             [
              0.4444444444444444,
              "#bd3786"
             ],
             [
              0.5555555555555556,
              "#d8576b"
             ],
             [
              0.6666666666666666,
              "#ed7953"
             ],
             [
              0.7777777777777778,
              "#fb9f3a"
             ],
             [
              0.8888888888888888,
              "#fdca26"
             ],
             [
              1,
              "#f0f921"
             ]
            ],
            "type": "histogram2dcontour"
           }
          ],
          "mesh3d": [
           {
            "colorbar": {
             "outlinewidth": 0,
             "ticks": ""
            },
            "type": "mesh3d"
           }
          ],
          "parcoords": [
           {
            "line": {
             "colorbar": {
              "outlinewidth": 0,
              "ticks": ""
             }
            },
            "type": "parcoords"
           }
          ],
          "pie": [
           {
            "automargin": true,
            "type": "pie"
           }
          ],
          "scatter": [
           {
            "fillpattern": {
             "fillmode": "overlay",
             "size": 10,
             "solidity": 0.2
            },
            "type": "scatter"
           }
          ],
          "scatter3d": [
           {
            "line": {
             "colorbar": {
              "outlinewidth": 0,
              "ticks": ""
             }
            },
            "marker": {
             "colorbar": {
              "outlinewidth": 0,
              "ticks": ""
             }
            },
            "type": "scatter3d"
           }
          ],
          "scattercarpet": [
           {
            "marker": {
             "colorbar": {
              "outlinewidth": 0,
              "ticks": ""
             }
            },
            "type": "scattercarpet"
           }
          ],
          "scattergeo": [
           {
            "marker": {
             "colorbar": {
              "outlinewidth": 0,
              "ticks": ""
             }
            },
            "type": "scattergeo"
           }
          ],
          "scattergl": [
           {
            "marker": {
             "colorbar": {
              "outlinewidth": 0,
              "ticks": ""
             }
            },
            "type": "scattergl"
           }
          ],
          "scattermapbox": [
           {
            "marker": {
             "colorbar": {
              "outlinewidth": 0,
              "ticks": ""
             }
            },
            "type": "scattermapbox"
           }
          ],
          "scatterpolar": [
           {
            "marker": {
             "colorbar": {
              "outlinewidth": 0,
              "ticks": ""
             }
            },
            "type": "scatterpolar"
           }
          ],
          "scatterpolargl": [
           {
            "marker": {
             "colorbar": {
              "outlinewidth": 0,
              "ticks": ""
             }
            },
            "type": "scatterpolargl"
           }
          ],
          "scatterternary": [
           {
            "marker": {
             "colorbar": {
              "outlinewidth": 0,
              "ticks": ""
             }
            },
            "type": "scatterternary"
           }
          ],
          "surface": [
           {
            "colorbar": {
             "outlinewidth": 0,
             "ticks": ""
            },
            "colorscale": [
             [
              0,
              "#0d0887"
             ],
             [
              0.1111111111111111,
              "#46039f"
             ],
             [
              0.2222222222222222,
              "#7201a8"
             ],
             [
              0.3333333333333333,
              "#9c179e"
             ],
             [
              0.4444444444444444,
              "#bd3786"
             ],
             [
              0.5555555555555556,
              "#d8576b"
             ],
             [
              0.6666666666666666,
              "#ed7953"
             ],
             [
              0.7777777777777778,
              "#fb9f3a"
             ],
             [
              0.8888888888888888,
              "#fdca26"
             ],
             [
              1,
              "#f0f921"
             ]
            ],
            "type": "surface"
           }
          ],
          "table": [
           {
            "cells": {
             "fill": {
              "color": "#EBF0F8"
             },
             "line": {
              "color": "white"
             }
            },
            "header": {
             "fill": {
              "color": "#C8D4E3"
             },
             "line": {
              "color": "white"
             }
            },
            "type": "table"
           }
          ]
         },
         "layout": {
          "annotationdefaults": {
           "arrowcolor": "#2a3f5f",
           "arrowhead": 0,
           "arrowwidth": 1
          },
          "autotypenumbers": "strict",
          "coloraxis": {
           "colorbar": {
            "outlinewidth": 0,
            "ticks": ""
           }
          },
          "colorscale": {
           "diverging": [
            [
             0,
             "#8e0152"
            ],
            [
             0.1,
             "#c51b7d"
            ],
            [
             0.2,
             "#de77ae"
            ],
            [
             0.3,
             "#f1b6da"
            ],
            [
             0.4,
             "#fde0ef"
            ],
            [
             0.5,
             "#f7f7f7"
            ],
            [
             0.6,
             "#e6f5d0"
            ],
            [
             0.7,
             "#b8e186"
            ],
            [
             0.8,
             "#7fbc41"
            ],
            [
             0.9,
             "#4d9221"
            ],
            [
             1,
             "#276419"
            ]
           ],
           "sequential": [
            [
             0,
             "#0d0887"
            ],
            [
             0.1111111111111111,
             "#46039f"
            ],
            [
             0.2222222222222222,
             "#7201a8"
            ],
            [
             0.3333333333333333,
             "#9c179e"
            ],
            [
             0.4444444444444444,
             "#bd3786"
            ],
            [
             0.5555555555555556,
             "#d8576b"
            ],
            [
             0.6666666666666666,
             "#ed7953"
            ],
            [
             0.7777777777777778,
             "#fb9f3a"
            ],
            [
             0.8888888888888888,
             "#fdca26"
            ],
            [
             1,
             "#f0f921"
            ]
           ],
           "sequentialminus": [
            [
             0,
             "#0d0887"
            ],
            [
             0.1111111111111111,
             "#46039f"
            ],
            [
             0.2222222222222222,
             "#7201a8"
            ],
            [
             0.3333333333333333,
             "#9c179e"
            ],
            [
             0.4444444444444444,
             "#bd3786"
            ],
            [
             0.5555555555555556,
             "#d8576b"
            ],
            [
             0.6666666666666666,
             "#ed7953"
            ],
            [
             0.7777777777777778,
             "#fb9f3a"
            ],
            [
             0.8888888888888888,
             "#fdca26"
            ],
            [
             1,
             "#f0f921"
            ]
           ]
          },
          "colorway": [
           "#636efa",
           "#EF553B",
           "#00cc96",
           "#ab63fa",
           "#FFA15A",
           "#19d3f3",
           "#FF6692",
           "#B6E880",
           "#FF97FF",
           "#FECB52"
          ],
          "font": {
           "color": "#2a3f5f"
          },
          "geo": {
           "bgcolor": "white",
           "lakecolor": "white",
           "landcolor": "#E5ECF6",
           "showlakes": true,
           "showland": true,
           "subunitcolor": "white"
          },
          "hoverlabel": {
           "align": "left"
          },
          "hovermode": "closest",
          "mapbox": {
           "style": "light"
          },
          "paper_bgcolor": "white",
          "plot_bgcolor": "#E5ECF6",
          "polar": {
           "angularaxis": {
            "gridcolor": "white",
            "linecolor": "white",
            "ticks": ""
           },
           "bgcolor": "#E5ECF6",
           "radialaxis": {
            "gridcolor": "white",
            "linecolor": "white",
            "ticks": ""
           }
          },
          "scene": {
           "xaxis": {
            "backgroundcolor": "#E5ECF6",
            "gridcolor": "white",
            "gridwidth": 2,
            "linecolor": "white",
            "showbackground": true,
            "ticks": "",
            "zerolinecolor": "white"
           },
           "yaxis": {
            "backgroundcolor": "#E5ECF6",
            "gridcolor": "white",
            "gridwidth": 2,
            "linecolor": "white",
            "showbackground": true,
            "ticks": "",
            "zerolinecolor": "white"
           },
           "zaxis": {
            "backgroundcolor": "#E5ECF6",
            "gridcolor": "white",
            "gridwidth": 2,
            "linecolor": "white",
            "showbackground": true,
            "ticks": "",
            "zerolinecolor": "white"
           }
          },
          "shapedefaults": {
           "line": {
            "color": "#2a3f5f"
           }
          },
          "ternary": {
           "aaxis": {
            "gridcolor": "white",
            "linecolor": "white",
            "ticks": ""
           },
           "baxis": {
            "gridcolor": "white",
            "linecolor": "white",
            "ticks": ""
           },
           "bgcolor": "#E5ECF6",
           "caxis": {
            "gridcolor": "white",
            "linecolor": "white",
            "ticks": ""
           }
          },
          "title": {
           "x": 0.05
          },
          "xaxis": {
           "automargin": true,
           "gridcolor": "white",
           "linecolor": "white",
           "ticks": "",
           "title": {
            "standoff": 15
           },
           "zerolinecolor": "white",
           "zerolinewidth": 2
          },
          "yaxis": {
           "automargin": true,
           "gridcolor": "white",
           "linecolor": "white",
           "ticks": "",
           "title": {
            "standoff": 15
           },
           "zerolinecolor": "white",
           "zerolinewidth": 2
          }
         }
        },
        "title": {
         "text": "Average Occupancy Rate Over Years"
        },
        "xaxis": {
         "anchor": "y",
         "domain": [
          0,
          1
         ],
         "title": {
          "text": "Year"
         }
        },
        "yaxis": {
         "anchor": "x",
         "domain": [
          0,
          1
         ],
         "title": {
          "text": "Occupancy Rate (%)"
         }
        }
       }
      }
     },
     "metadata": {},
     "output_type": "display_data"
    }
   ],
   "source": [
    "import plotly.express as px\n",
    "\n",
    "fig = px.line(df_occupancy, x='Year', y='Avg_Occupancy_Rate',\n",
    "              title='Average Occupancy Rate Over Years',\n",
    "              labels={'Year': 'Year', 'Avg_Occupancy_Rate': 'Occupancy Rate (%)'})\n",
    "fig.show()"
   ]
  },
  {
   "cell_type": "markdown",
   "metadata": {},
   "source": [
    "#### Top 10 Countries by Bed-Places\n"
   ]
  },
  {
   "cell_type": "code",
   "execution_count": 23,
   "metadata": {},
   "outputs": [
    {
     "name": "stdout",
     "output_type": "stream",
     "text": [
      " * sqlite:///tourism.db\n",
      "Done.\n"
     ]
    },
    {
     "data": {
      "text/html": [
       "<table>\n",
       "    <thead>\n",
       "        <tr>\n",
       "            <th>Country</th>\n",
       "            <th>Year</th>\n",
       "            <th>Bed_Places</th>\n",
       "        </tr>\n",
       "    </thead>\n",
       "    <tbody>\n",
       "        <tr>\n",
       "            <td>JAPAN</td>\n",
       "            <td>2022</td>\n",
       "            <td>4183501.0</td>\n",
       "        </tr>\n",
       "        <tr>\n",
       "            <td>ITALY</td>\n",
       "            <td>2022</td>\n",
       "            <td>2241988.0</td>\n",
       "        </tr>\n",
       "        <tr>\n",
       "            <td>CHINA</td>\n",
       "            <td>2022</td>\n",
       "            <td>2046700.0</td>\n",
       "        </tr>\n",
       "        <tr>\n",
       "            <td>SPAIN</td>\n",
       "            <td>2022</td>\n",
       "            <td>1992394.0</td>\n",
       "        </tr>\n",
       "        <tr>\n",
       "            <td>GERMANY</td>\n",
       "            <td>2022</td>\n",
       "            <td>1971314.0</td>\n",
       "        </tr>\n",
       "        <tr>\n",
       "            <td>MEXICO</td>\n",
       "            <td>2022</td>\n",
       "            <td>1762044.0</td>\n",
       "        </tr>\n",
       "        <tr>\n",
       "            <td>TÜRKIYE</td>\n",
       "            <td>2022</td>\n",
       "            <td>1724987.0</td>\n",
       "        </tr>\n",
       "        <tr>\n",
       "            <td>FRANCE</td>\n",
       "            <td>2022</td>\n",
       "            <td>1354728.0</td>\n",
       "        </tr>\n",
       "        <tr>\n",
       "            <td>INDONESIA</td>\n",
       "            <td>2022</td>\n",
       "            <td>1169006.0</td>\n",
       "        </tr>\n",
       "        <tr>\n",
       "            <td>GREECE</td>\n",
       "            <td>2022</td>\n",
       "            <td>880624.0</td>\n",
       "        </tr>\n",
       "    </tbody>\n",
       "</table>"
      ],
      "text/plain": [
       "[('JAPAN', 2022, 4183501.0),\n",
       " ('ITALY', 2022, 2241988.0),\n",
       " ('CHINA', 2022, 2046700.0),\n",
       " ('SPAIN', 2022, 1992394.0),\n",
       " ('GERMANY', 2022, 1971314.0),\n",
       " ('MEXICO', 2022, 1762044.0),\n",
       " ('TÜRKIYE', 2022, 1724987.0),\n",
       " ('FRANCE', 2022, 1354728.0),\n",
       " ('INDONESIA', 2022, 1169006.0),\n",
       " ('GREECE', 2022, 880624.0)]"
      ]
     },
     "execution_count": 23,
     "metadata": {},
     "output_type": "execute_result"
    }
   ],
   "source": [
    "%%sql\n",
    "SELECT Country, Year, Value AS Bed_Places\n",
    "FROM tourism_data\n",
    "WHERE Indicator = 'Number of bed-places'\n",
    "  AND Year = (SELECT MAX(Year) FROM tourism_data)\n",
    "ORDER BY Bed_Places DESC\n",
    "LIMIT 10;"
   ]
  },
  {
   "cell_type": "markdown",
   "metadata": {},
   "source": [
    "##### Visualization"
   ]
  },
  {
   "cell_type": "code",
   "execution_count": 24,
   "metadata": {},
   "outputs": [
    {
     "name": "stdout",
     "output_type": "stream",
     "text": [
      " * sqlite:///tourism.db\n",
      "Done.\n"
     ]
    }
   ],
   "source": [
    "result = %sql SELECT Country, Year, Value AS Bed_Places \\\n",
    "              FROM tourism_data \\\n",
    "              WHERE Indicator = 'Number of bed-places' \\\n",
    "                AND Year = (SELECT MAX(Year) FROM tourism_data) \\\n",
    "              ORDER BY Bed_Places DESC \\\n",
    "              LIMIT 10;\n",
    "\n",
    "df_top_beds = result.DataFrame()\n"
   ]
  },
  {
   "cell_type": "code",
   "execution_count": 25,
   "metadata": {},
   "outputs": [
    {
     "data": {
      "image/png": "[encoded data removed]",
      "text/plain": [
       "<Figure size 1000x600 with 1 Axes>"
      ]
     },
     "metadata": {},
     "output_type": "display_data"
    }
   ],
   "source": [
    "import matplotlib.pyplot as plt\n",
    "\n",
    "plt.figure(figsize=(10, 6))\n",
    "plt.barh(df_top_beds['Country'], df_top_beds['Bed_Places'], color='skyblue')\n",
    "plt.xlabel('Bed Places')\n",
    "plt.title(f\"Top 10 Countries by Bed-Places in {df_top_beds['Year'][0]}\")\n",
    "plt.gca().invert_yaxis()  # To show the highest value at the top\n",
    "plt.tight_layout()\n",
    "plt.show()\n"
   ]
  },
  {
   "cell_type": "code",
   "execution_count": 26,
   "metadata": {},
   "outputs": [
    {
     "data": {
      "application/vnd.plotly.v1+json": {
       "config": {
        "plotlyServerURL": "https://plot.ly"
       },
       "data": [
        {
         "alignmentgroup": "True",
         "hovertemplate": "Number of Bed Places=%{x}<br>Country=%{y}<extra></extra>",
         "legendgroup": "",
         "marker": {
          "color": "#636efa",
          "pattern": {
           "shape": ""
          }
         },
         "name": "",
         "offsetgroup": "",
         "orientation": "h",
         "showlegend": false,
         "textposition": "auto",
         "type": "bar",
         "x": [
          4183501,
          2241988,
          2046700,
          1992394,
          1971314,
          1762044,
          1724987,
          1354728,
          1169006,
          880624
         ],
         "xaxis": "x",
         "y": [
          "JAPAN",
          "ITALY",
          "CHINA",
          "SPAIN",
          "GERMANY",
          "MEXICO",
          "TÜRKIYE",
          "FRANCE",
          "INDONESIA",
          "GREECE"
         ],
         "yaxis": "y"
        }
       ],
       "layout": {
        "barmode": "relative",
        "legend": {
         "tracegroupgap": 0
        },
        "template": {
         "data": {
          "bar": [
           {
            "error_x": {
             "color": "#2a3f5f"
            },
            "error_y": {
             "color": "#2a3f5f"
            },
            "marker": {
             "line": {
              "color": "#E5ECF6",
              "width": 0.5
             },
             "pattern": {
              "fillmode": "overlay",
              "size": 10,
              "solidity": 0.2
             }
            },
            "type": "bar"
           }
          ],
          "barpolar": [
           {
            "marker": {
             "line": {
              "color": "#E5ECF6",
              "width": 0.5
             },
             "pattern": {
              "fillmode": "overlay",
              "size": 10,
              "solidity": 0.2
             }
            },
            "type": "barpolar"
           }
          ],
          "carpet": [
           {
            "aaxis": {
             "endlinecolor": "#2a3f5f",
             "gridcolor": "white",
             "linecolor": "white",
             "minorgridcolor": "white",
             "startlinecolor": "#2a3f5f"
            },
            "baxis": {
             "endlinecolor": "#2a3f5f",
             "gridcolor": "white",
             "linecolor": "white",
             "minorgridcolor": "white",
             "startlinecolor": "#2a3f5f"
            },
            "type": "carpet"
           }
          ],
          "choropleth": [
           {
            "colorbar": {
             "outlinewidth": 0,
             "ticks": ""
            },
            "type": "choropleth"
           }
          ],
          "contour": [
           {
            "colorbar": {
             "outlinewidth": 0,
             "ticks": ""
            },
            "colorscale": [
             [
              0,
              "#0d0887"
             ],
             [
              0.1111111111111111,
              "#46039f"
             ],
             [
              0.2222222222222222,
              "#7201a8"
             ],
             [
              0.3333333333333333,
              "#9c179e"
             ],
             [
              0.4444444444444444,
              "#bd3786"
             ],
             [
              0.5555555555555556,
              "#d8576b"
             ],
             [
              0.6666666666666666,
              "#ed7953"
             ],
             [
              0.7777777777777778,
              "#fb9f3a"
             ],
             [
              0.8888888888888888,
              "#fdca26"
             ],
             [
              1,
              "#f0f921"
             ]
            ],
            "type": "contour"
           }
          ],
          "contourcarpet": [
           {
            "colorbar": {
             "outlinewidth": 0,
             "ticks": ""
            },
            "type": "contourcarpet"
           }
          ],
          "heatmap": [
           {
            "colorbar": {
             "outlinewidth": 0,
             "ticks": ""
            },
            "colorscale": [
             [
              0,
              "#0d0887"
             ],
             [
              0.1111111111111111,
              "#46039f"
             ],
             [
              0.2222222222222222,
              "#7201a8"
             ],
             [
              0.3333333333333333,
              "#9c179e"
             ],
             [
              0.4444444444444444,
              "#bd3786"
             ],
             [
              0.5555555555555556,
              "#d8576b"
             ],
             [
              0.6666666666666666,
              "#ed7953"
             ],
             [
              0.7777777777777778,
              "#fb9f3a"
             ],
             [
              0.8888888888888888,
              "#fdca26"
             ],
             [
              1,
              "#f0f921"
             ]
            ],
            "type": "heatmap"
           }
          ],
          "heatmapgl": [
           {
            "colorbar": {
             "outlinewidth": 0,
             "ticks": ""
            },
            "colorscale": [
             [
              0,
              "#0d0887"
             ],
             [
              0.1111111111111111,
              "#46039f"
             ],
             [
              0.2222222222222222,
              "#7201a8"
             ],
             [
              0.3333333333333333,
              "#9c179e"
             ],
             [
              0.4444444444444444,
              "#bd3786"
             ],
             [
              0.5555555555555556,
              "#d8576b"
             ],
             [
              0.6666666666666666,
              "#ed7953"
             ],
             [
              0.7777777777777778,
              "#fb9f3a"
             ],
             [
              0.8888888888888888,
              "#fdca26"
             ],
             [
              1,
              "#f0f921"
             ]
            ],
            "type": "heatmapgl"
           }
          ],
          "histogram": [
           {
            "marker": {
             "pattern": {
              "fillmode": "overlay",
              "size": 10,
              "solidity": 0.2
             }
            },
            "type": "histogram"
           }
          ],
          "histogram2d": [
           {
            "colorbar": {
             "outlinewidth": 0,
             "ticks": ""
            },
            "colorscale": [
             [
              0,
              "#0d0887"
             ],
             [
              0.1111111111111111,
              "#46039f"
             ],
             [
              0.2222222222222222,
              "#7201a8"
             ],
             [
              0.3333333333333333,
              "#9c179e"
             ],
             [
              0.4444444444444444,
              "#bd3786"
             ],
             [
              0.5555555555555556,
              "#d8576b"
             ],
             [
              0.6666666666666666,
              "#ed7953"
             ],
             [
              0.7777777777777778,
              "#fb9f3a"
             ],
             [
              0.8888888888888888,
              "#fdca26"
             ],
             [
              1,
              "#f0f921"
             ]
            ],
            "type": "histogram2d"
           }
          ],
          "histogram2dcontour": [
           {
            "colorbar": {
             "outlinewidth": 0,
             "ticks": ""
            },
            "colorscale": [
             [
              0,
              "#0d0887"
             ],
             [
              0.1111111111111111,
              "#46039f"
             ],
             [
              0.2222222222222222,
              "#7201a8"
             ],
             [
              0.3333333333333333,
              "#9c179e"
             ],
             [
              0.4444444444444444,
              "#bd3786"
             ],
             [
              0.5555555555555556,
              "#d8576b"
             ],
             [
              0.6666666666666666,
              "#ed7953"
             ],
             [
              0.7777777777777778,
              "#fb9f3a"
             ],
             [
              0.8888888888888888,
              "#fdca26"
             ],
             [
              1,
              "#f0f921"
             ]
            ],
            "type": "histogram2dcontour"
           }
          ],
          "mesh3d": [
           {
            "colorbar": {
             "outlinewidth": 0,
             "ticks": ""
            },
            "type": "mesh3d"
           }
          ],
          "parcoords": [
           {
            "line": {
             "colorbar": {
              "outlinewidth": 0,
              "ticks": ""
             }
            },
            "type": "parcoords"
           }
          ],
          "pie": [
           {
            "automargin": true,
            "type": "pie"
           }
          ],
          "scatter": [
           {
            "fillpattern": {
             "fillmode": "overlay",
             "size": 10,
             "solidity": 0.2
            },
            "type": "scatter"
           }
          ],
          "scatter3d": [
           {
            "line": {
             "colorbar": {
              "outlinewidth": 0,
              "ticks": ""
             }
            },
            "marker": {
             "colorbar": {
              "outlinewidth": 0,
              "ticks": ""
             }
            },
            "type": "scatter3d"
           }
          ],
          "scattercarpet": [
           {
            "marker": {
             "colorbar": {
              "outlinewidth": 0,
              "ticks": ""
             }
            },
            "type": "scattercarpet"
           }
          ],
          "scattergeo": [
           {
            "marker": {
             "colorbar": {
              "outlinewidth": 0,
              "ticks": ""
             }
            },
            "type": "scattergeo"
           }
          ],
          "scattergl": [
           {
            "marker": {
             "colorbar": {
              "outlinewidth": 0,
              "ticks": ""
             }
            },
            "type": "scattergl"
           }
          ],
          "scattermapbox": [
           {
            "marker": {
             "colorbar": {
              "outlinewidth": 0,
              "ticks": ""
             }
            },
            "type": "scattermapbox"
           }
          ],
          "scatterpolar": [
           {
            "marker": {
             "colorbar": {
              "outlinewidth": 0,
              "ticks": ""
             }
            },
            "type": "scatterpolar"
           }
          ],
          "scatterpolargl": [
           {
            "marker": {
             "colorbar": {
              "outlinewidth": 0,
              "ticks": ""
             }
            },
            "type": "scatterpolargl"
           }
          ],
          "scatterternary": [
           {
            "marker": {
             "colorbar": {
              "outlinewidth": 0,
              "ticks": ""
             }
            },
            "type": "scatterternary"
           }
          ],
          "surface": [
           {
            "colorbar": {
             "outlinewidth": 0,
             "ticks": ""
            },
            "colorscale": [
             [
              0,
              "#0d0887"
             ],
             [
              0.1111111111111111,
              "#46039f"
             ],
             [
              0.2222222222222222,
              "#7201a8"
             ],
             [
              0.3333333333333333,
              "#9c179e"
             ],
             [
              0.4444444444444444,
              "#bd3786"
             ],
             [
              0.5555555555555556,
              "#d8576b"
             ],
             [
              0.6666666666666666,
              "#ed7953"
             ],
             [
              0.7777777777777778,
              "#fb9f3a"
             ],
             [
              0.8888888888888888,
              "#fdca26"
             ],
             [
              1,
              "#f0f921"
             ]
            ],
            "type": "surface"
           }
          ],
          "table": [
           {
            "cells": {
             "fill": {
              "color": "#EBF0F8"
             },
             "line": {
              "color": "white"
             }
            },
            "header": {
             "fill": {
              "color": "#C8D4E3"
             },
             "line": {
              "color": "white"
             }
            },
            "type": "table"
           }
          ]
         },
         "layout": {
          "annotationdefaults": {
           "arrowcolor": "#2a3f5f",
           "arrowhead": 0,
           "arrowwidth": 1
          },
          "autotypenumbers": "strict",
          "coloraxis": {
           "colorbar": {
            "outlinewidth": 0,
            "ticks": ""
           }
          },
          "colorscale": {
           "diverging": [
            [
             0,
             "#8e0152"
            ],
            [
             0.1,
             "#c51b7d"
            ],
            [
             0.2,
             "#de77ae"
            ],
            [
             0.3,
             "#f1b6da"
            ],
            [
             0.4,
             "#fde0ef"
            ],
            [
             0.5,
             "#f7f7f7"
            ],
            [
             0.6,
             "#e6f5d0"
            ],
            [
             0.7,
             "#b8e186"
            ],
            [
             0.8,
             "#7fbc41"
            ],
            [
             0.9,
             "#4d9221"
            ],
            [
             1,
             "#276419"
            ]
           ],
           "sequential": [
            [
             0,
             "#0d0887"
            ],
            [
             0.1111111111111111,
             "#46039f"
            ],
            [
             0.2222222222222222,
             "#7201a8"
            ],
            [
             0.3333333333333333,
             "#9c179e"
            ],
            [
             0.4444444444444444,
             "#bd3786"
            ],
            [
             0.5555555555555556,
             "#d8576b"
            ],
            [
             0.6666666666666666,
             "#ed7953"
            ],
            [
             0.7777777777777778,
             "#fb9f3a"
            ],
            [
             0.8888888888888888,
             "#fdca26"
            ],
            [
             1,
             "#f0f921"
            ]
           ],
           "sequentialminus": [
            [
             0,
             "#0d0887"
            ],
            [
             0.1111111111111111,
             "#46039f"
            ],
            [
             0.2222222222222222,
             "#7201a8"
            ],
            [
             0.3333333333333333,
             "#9c179e"
            ],
            [
             0.4444444444444444,
             "#bd3786"
            ],
            [
             0.5555555555555556,
             "#d8576b"
            ],
            [
             0.6666666666666666,
             "#ed7953"
            ],
            [
             0.7777777777777778,
             "#fb9f3a"
            ],
            [
             0.8888888888888888,
             "#fdca26"
            ],
            [
             1,
             "#f0f921"
            ]
           ]
          },
          "colorway": [
           "#636efa",
           "#EF553B",
           "#00cc96",
           "#ab63fa",
           "#FFA15A",
           "#19d3f3",
           "#FF6692",
           "#B6E880",
           "#FF97FF",
           "#FECB52"
          ],
          "font": {
           "color": "#2a3f5f"
          },
          "geo": {
           "bgcolor": "white",
           "lakecolor": "white",
           "landcolor": "#E5ECF6",
           "showlakes": true,
           "showland": true,
           "subunitcolor": "white"
          },
          "hoverlabel": {
           "align": "left"
          },
          "hovermode": "closest",
          "mapbox": {
           "style": "light"
          },
          "paper_bgcolor": "white",
          "plot_bgcolor": "#E5ECF6",
          "polar": {
           "angularaxis": {
            "gridcolor": "white",
            "linecolor": "white",
            "ticks": ""
           },
           "bgcolor": "#E5ECF6",
           "radialaxis": {
            "gridcolor": "white",
            "linecolor": "white",
            "ticks": ""
           }
          },
          "scene": {
           "xaxis": {
            "backgroundcolor": "#E5ECF6",
            "gridcolor": "white",
            "gridwidth": 2,
            "linecolor": "white",
            "showbackground": true,
            "ticks": "",
            "zerolinecolor": "white"
           },
           "yaxis": {
            "backgroundcolor": "#E5ECF6",
            "gridcolor": "white",
            "gridwidth": 2,
            "linecolor": "white",
            "showbackground": true,
            "ticks": "",
            "zerolinecolor": "white"
           },
           "zaxis": {
            "backgroundcolor": "#E5ECF6",
            "gridcolor": "white",
            "gridwidth": 2,
            "linecolor": "white",
            "showbackground": true,
            "ticks": "",
            "zerolinecolor": "white"
           }
          },
          "shapedefaults": {
           "line": {
            "color": "#2a3f5f"
           }
          },
          "ternary": {
           "aaxis": {
            "gridcolor": "white",
            "linecolor": "white",
            "ticks": ""
           },
           "baxis": {
            "gridcolor": "white",
            "linecolor": "white",
            "ticks": ""
           },
           "bgcolor": "#E5ECF6",
           "caxis": {
            "gridcolor": "white",
            "linecolor": "white",
            "ticks": ""
           }
          },
          "title": {
           "x": 0.05
          },
          "xaxis": {
           "automargin": true,
           "gridcolor": "white",
           "linecolor": "white",
           "ticks": "",
           "title": {
            "standoff": 15
           },
           "zerolinecolor": "white",
           "zerolinewidth": 2
          },
          "yaxis": {
           "automargin": true,
           "gridcolor": "white",
           "linecolor": "white",
           "ticks": "",
           "title": {
            "standoff": 15
           },
           "zerolinecolor": "white",
           "zerolinewidth": 2
          }
         }
        },
        "title": {
         "text": "Top 10 Countries by Bed-Places in 2022"
        },
        "xaxis": {
         "anchor": "y",
         "domain": [
          0,
          1
         ],
         "title": {
          "text": "Number of Bed Places"
         }
        },
        "yaxis": {
         "anchor": "x",
         "categoryorder": "total ascending",
         "domain": [
          0,
          1
         ],
         "title": {
          "text": "Country"
         }
        }
       }
      }
     },
     "metadata": {},
     "output_type": "display_data"
    }
   ],
   "source": [
    "import plotly.express as px\n",
    "\n",
    "fig = px.bar(df_top_beds, x='Bed_Places', y='Country',\n",
    "             orientation='h',\n",
    "             title=f\"Top 10 Countries by Bed-Places in {df_top_beds['Year'][0]}\",\n",
    "             labels={'Bed_Places': 'Number of Bed Places', 'Country': 'Country'})\n",
    "fig.update_layout(yaxis={'categoryorder':'total ascending'})\n",
    "fig.show()\n"
   ]
  },
  {
   "cell_type": "markdown",
   "metadata": {},
   "source": [
    "#### Change in Bed-Places (1995 vs Most Recent Year)"
   ]
  },
  {
   "cell_type": "code",
   "execution_count": 28,
   "metadata": {},
   "outputs": [
    {
     "name": "stdout",
     "output_type": "stream",
     "text": [
      " * sqlite:///tourism.db\n",
      "Done.\n"
     ]
    },
    {
     "data": {
      "text/html": [
       "<table>\n",
       "    <thead>\n",
       "        <tr>\n",
       "            <th>Country</th>\n",
       "            <th>Year</th>\n",
       "            <th>Bed_Places</th>\n",
       "        </tr>\n",
       "    </thead>\n",
       "    <tbody>\n",
       "        <tr>\n",
       "            <td>CENTRAL AFRICAN REPUBLIC</td>\n",
       "            <td>1995</td>\n",
       "            <td>370.0</td>\n",
       "        </tr>\n",
       "        <tr>\n",
       "            <td>SAO TOME AND PRINCIPE</td>\n",
       "            <td>1995</td>\n",
       "            <td>404.0</td>\n",
       "        </tr>\n",
       "        <tr>\n",
       "            <td>KIRIBATI</td>\n",
       "            <td>2022</td>\n",
       "            <td>535.0</td>\n",
       "        </tr>\n",
       "        <tr>\n",
       "            <td>DJIBOUTI</td>\n",
       "            <td>1995</td>\n",
       "            <td>545.0</td>\n",
       "        </tr>\n",
       "        <tr>\n",
       "            <td>MARSHALL ISLANDS</td>\n",
       "            <td>1995</td>\n",
       "            <td>658.0</td>\n",
       "        </tr>\n",
       "        <tr>\n",
       "            <td>CHAD</td>\n",
       "            <td>1995</td>\n",
       "            <td>688.0</td>\n",
       "        </tr>\n",
       "        <tr>\n",
       "            <td>COMOROS</td>\n",
       "            <td>1995</td>\n",
       "            <td>784.0</td>\n",
       "        </tr>\n",
       "        <tr>\n",
       "            <td>SAN MARINO</td>\n",
       "            <td>1995</td>\n",
       "            <td>1172.0</td>\n",
       "        </tr>\n",
       "        <tr>\n",
       "            <td>LIECHTENSTEIN</td>\n",
       "            <td>1995</td>\n",
       "            <td>1203.0</td>\n",
       "        </tr>\n",
       "        <tr>\n",
       "            <td>LIECHTENSTEIN</td>\n",
       "            <td>2022</td>\n",
       "            <td>1215.0</td>\n",
       "        </tr>\n",
       "        <tr>\n",
       "            <td>TONGA</td>\n",
       "            <td>1995</td>\n",
       "            <td>1378.0</td>\n",
       "        </tr>\n",
       "        <tr>\n",
       "            <td>SIERRA LEONE</td>\n",
       "            <td>1995</td>\n",
       "            <td>1513.0</td>\n",
       "        </tr>\n",
       "        <tr>\n",
       "            <td>SAMOA</td>\n",
       "            <td>1995</td>\n",
       "            <td>1588.0</td>\n",
       "        </tr>\n",
       "        <tr>\n",
       "            <td>VANUATU</td>\n",
       "            <td>1995</td>\n",
       "            <td>1641.0</td>\n",
       "        </tr>\n",
       "        <tr>\n",
       "            <td>COOK ISLANDS</td>\n",
       "            <td>1995</td>\n",
       "            <td>1707.0</td>\n",
       "        </tr>\n",
       "        <tr>\n",
       "            <td>BOSNIA AND HERZEGOVINA</td>\n",
       "            <td>1995</td>\n",
       "            <td>1910.0</td>\n",
       "        </tr>\n",
       "        <tr>\n",
       "            <td>LESOTHO</td>\n",
       "            <td>1995</td>\n",
       "            <td>1988.0</td>\n",
       "        </tr>\n",
       "        <tr>\n",
       "            <td>SAINT KITTS AND NEVIS</td>\n",
       "            <td>1995</td>\n",
       "            <td>2047.0</td>\n",
       "        </tr>\n",
       "        <tr>\n",
       "            <td>MALI</td>\n",
       "            <td>1995</td>\n",
       "            <td>2057.0</td>\n",
       "        </tr>\n",
       "        <tr>\n",
       "            <td>ESWATINI</td>\n",
       "            <td>1995</td>\n",
       "            <td>2284.0</td>\n",
       "        </tr>\n",
       "        <tr>\n",
       "            <td>SAINT VINCENT AND THE GRENADINES</td>\n",
       "            <td>1995</td>\n",
       "            <td>2352.0</td>\n",
       "        </tr>\n",
       "        <tr>\n",
       "            <td>TOGO</td>\n",
       "            <td>1995</td>\n",
       "            <td>2492.0</td>\n",
       "        </tr>\n",
       "        <tr>\n",
       "            <td>DJIBOUTI</td>\n",
       "            <td>2022</td>\n",
       "            <td>2603.0</td>\n",
       "        </tr>\n",
       "        <tr>\n",
       "            <td>CABO VERDE</td>\n",
       "            <td>1995</td>\n",
       "            <td>2681.0</td>\n",
       "        </tr>\n",
       "        <tr>\n",
       "            <td>GRENADA</td>\n",
       "            <td>1995</td>\n",
       "            <td>2936.0</td>\n",
       "        </tr>\n",
       "        <tr>\n",
       "            <td>NIGER</td>\n",
       "            <td>1995</td>\n",
       "            <td>3037.0</td>\n",
       "        </tr>\n",
       "        <tr>\n",
       "            <td>BONAIRE</td>\n",
       "            <td>1995</td>\n",
       "            <td>3188.0</td>\n",
       "        </tr>\n",
       "        <tr>\n",
       "            <td>BOTSWANA</td>\n",
       "            <td>1995</td>\n",
       "            <td>3226.0</td>\n",
       "        </tr>\n",
       "        <tr>\n",
       "            <td>GRENADA</td>\n",
       "            <td>2022</td>\n",
       "            <td>3291.0</td>\n",
       "        </tr>\n",
       "        <tr>\n",
       "            <td>NICARAGUA</td>\n",
       "            <td>1995</td>\n",
       "            <td>3336.0</td>\n",
       "        </tr>\n",
       "        <tr>\n",
       "            <td>KUWAIT</td>\n",
       "            <td>1995</td>\n",
       "            <td>3473.0</td>\n",
       "        </tr>\n",
       "        <tr>\n",
       "            <td>REUNION</td>\n",
       "            <td>1995</td>\n",
       "            <td>3756.0</td>\n",
       "        </tr>\n",
       "        <tr>\n",
       "            <td>AZERBAIJAN</td>\n",
       "            <td>1995</td>\n",
       "            <td>4000.0</td>\n",
       "        </tr>\n",
       "        <tr>\n",
       "            <td>OMAN</td>\n",
       "            <td>1995</td>\n",
       "            <td>4220.0</td>\n",
       "        </tr>\n",
       "        <tr>\n",
       "            <td>SEYCHELLES</td>\n",
       "            <td>1995</td>\n",
       "            <td>4340.0</td>\n",
       "        </tr>\n",
       "        <tr>\n",
       "            <td>ETHIOPIA</td>\n",
       "            <td>1995</td>\n",
       "            <td>4524.0</td>\n",
       "        </tr>\n",
       "        <tr>\n",
       "            <td>KYRGYZSTAN</td>\n",
       "            <td>1995</td>\n",
       "            <td>4772.0</td>\n",
       "        </tr>\n",
       "        <tr>\n",
       "            <td>PAPUA NEW GUINEA</td>\n",
       "            <td>1995</td>\n",
       "            <td>5280.0</td>\n",
       "        </tr>\n",
       "        <tr>\n",
       "            <td>MONACO</td>\n",
       "            <td>2022</td>\n",
       "            <td>5354.0</td>\n",
       "        </tr>\n",
       "        <tr>\n",
       "            <td>NAMIBIA</td>\n",
       "            <td>1995</td>\n",
       "            <td>5624.0</td>\n",
       "        </tr>\n",
       "        <tr>\n",
       "            <td>GAMBIA</td>\n",
       "            <td>1995</td>\n",
       "            <td>5731.0</td>\n",
       "        </tr>\n",
       "        <tr>\n",
       "            <td>BERMUDA</td>\n",
       "            <td>2022</td>\n",
       "            <td>5826.0</td>\n",
       "        </tr>\n",
       "        <tr>\n",
       "            <td>FRENCH POLYNESIA</td>\n",
       "            <td>1995</td>\n",
       "            <td>6088.0</td>\n",
       "        </tr>\n",
       "        <tr>\n",
       "            <td>REUNION</td>\n",
       "            <td>2022</td>\n",
       "            <td>6088.0</td>\n",
       "        </tr>\n",
       "        <tr>\n",
       "            <td>BELIZE</td>\n",
       "            <td>1995</td>\n",
       "            <td>6137.0</td>\n",
       "        </tr>\n",
       "        <tr>\n",
       "            <td>ESWATINI</td>\n",
       "            <td>2022</td>\n",
       "            <td>6148.0</td>\n",
       "        </tr>\n",
       "        <tr>\n",
       "            <td>BAHRAIN</td>\n",
       "            <td>1995</td>\n",
       "            <td>6194.0</td>\n",
       "        </tr>\n",
       "        <tr>\n",
       "            <td>UGANDA</td>\n",
       "            <td>1995</td>\n",
       "            <td>6244.0</td>\n",
       "        </tr>\n",
       "        <tr>\n",
       "            <td>ZAMBIA</td>\n",
       "            <td>1995</td>\n",
       "            <td>6283.0</td>\n",
       "        </tr>\n",
       "        <tr>\n",
       "            <td>TURKMENISTAN</td>\n",
       "            <td>1995</td>\n",
       "            <td>6632.0</td>\n",
       "        </tr>\n",
       "        <tr>\n",
       "            <td>ANGOLA</td>\n",
       "            <td>1995</td>\n",
       "            <td>6783.0</td>\n",
       "        </tr>\n",
       "        <tr>\n",
       "            <td>ERITREA</td>\n",
       "            <td>1995</td>\n",
       "            <td>6875.0</td>\n",
       "        </tr>\n",
       "        <tr>\n",
       "            <td>MADAGASCAR</td>\n",
       "            <td>1995</td>\n",
       "            <td>6904.0</td>\n",
       "        </tr>\n",
       "        <tr>\n",
       "            <td>MARTINIQUE</td>\n",
       "            <td>2022</td>\n",
       "            <td>7252.0</td>\n",
       "        </tr>\n",
       "        <tr>\n",
       "            <td>MOLDOVA, REPUBLIC OF</td>\n",
       "            <td>2022</td>\n",
       "            <td>7278.0</td>\n",
       "        </tr>\n",
       "        <tr>\n",
       "            <td>SINT MAARTEN (DUTCH PART)</td>\n",
       "            <td>1995</td>\n",
       "            <td>7414.0</td>\n",
       "        </tr>\n",
       "        <tr>\n",
       "            <td>SAINT LUCIA</td>\n",
       "            <td>1995</td>\n",
       "            <td>7423.0</td>\n",
       "        </tr>\n",
       "        <tr>\n",
       "            <td>CAMBODIA</td>\n",
       "            <td>1995</td>\n",
       "            <td>7994.0</td>\n",
       "        </tr>\n",
       "        <tr>\n",
       "            <td>BANGLADESH</td>\n",
       "            <td>1995</td>\n",
       "            <td>8224.0</td>\n",
       "        </tr>\n",
       "        <tr>\n",
       "            <td>GAMBIA</td>\n",
       "            <td>2022</td>\n",
       "            <td>8257.0</td>\n",
       "        </tr>\n",
       "        <tr>\n",
       "            <td>ZIMBABWE</td>\n",
       "            <td>1995</td>\n",
       "            <td>8659.0</td>\n",
       "        </tr>\n",
       "        <tr>\n",
       "            <td>ICELAND</td>\n",
       "            <td>1995</td>\n",
       "            <td>8810.0</td>\n",
       "        </tr>\n",
       "        <tr>\n",
       "            <td>MOLDOVA, REPUBLIC OF</td>\n",
       "            <td>1995</td>\n",
       "            <td>9032.0</td>\n",
       "        </tr>\n",
       "        <tr>\n",
       "            <td>LITHUANIA</td>\n",
       "            <td>1995</td>\n",
       "            <td>9474.0</td>\n",
       "        </tr>\n",
       "        <tr>\n",
       "            <td>SUDAN</td>\n",
       "            <td>1995</td>\n",
       "            <td>9705.0</td>\n",
       "        </tr>\n",
       "        <tr>\n",
       "            <td>COTE D´IVOIRE</td>\n",
       "            <td>1995</td>\n",
       "            <td>10202.0</td>\n",
       "        </tr>\n",
       "        <tr>\n",
       "            <td>BARBADOS</td>\n",
       "            <td>1995</td>\n",
       "            <td>10229.0</td>\n",
       "        </tr>\n",
       "        <tr>\n",
       "            <td>CAYMAN ISLANDS</td>\n",
       "            <td>1995</td>\n",
       "            <td>10889.0</td>\n",
       "        </tr>\n",
       "        <tr>\n",
       "            <td>MARTINIQUE</td>\n",
       "            <td>1995</td>\n",
       "            <td>10994.0</td>\n",
       "        </tr>\n",
       "        <tr>\n",
       "            <td>PARAGUAY</td>\n",
       "            <td>1995</td>\n",
       "            <td>11108.0</td>\n",
       "        </tr>\n",
       "        <tr>\n",
       "            <td>GHANA</td>\n",
       "            <td>1995</td>\n",
       "            <td>11938.0</td>\n",
       "        </tr>\n",
       "        <tr>\n",
       "            <td>BELIZE</td>\n",
       "            <td>2022</td>\n",
       "            <td>12142.0</td>\n",
       "        </tr>\n",
       "        <tr>\n",
       "            <td>TANZANIA, UNITED REPUBLIC OF</td>\n",
       "            <td>1995</td>\n",
       "            <td>12145.0</td>\n",
       "        </tr>\n",
       "        <tr>\n",
       "            <td>MALDIVES</td>\n",
       "            <td>1995</td>\n",
       "            <td>12312.0</td>\n",
       "        </tr>\n",
       "        <tr>\n",
       "            <td>MAURITIUS</td>\n",
       "            <td>1995</td>\n",
       "            <td>12359.0</td>\n",
       "        </tr>\n",
       "        <tr>\n",
       "            <td>ARUBA</td>\n",
       "            <td>1995</td>\n",
       "            <td>12532.0</td>\n",
       "        </tr>\n",
       "        <tr>\n",
       "            <td>CAMEROON</td>\n",
       "            <td>1995</td>\n",
       "            <td>12566.0</td>\n",
       "        </tr>\n",
       "        <tr>\n",
       "            <td>FIJI</td>\n",
       "            <td>1995</td>\n",
       "            <td>12712.0</td>\n",
       "        </tr>\n",
       "        <tr>\n",
       "            <td>LATVIA</td>\n",
       "            <td>1995</td>\n",
       "            <td>13376.0</td>\n",
       "        </tr>\n",
       "        <tr>\n",
       "            <td>YEMEN</td>\n",
       "            <td>1995</td>\n",
       "            <td>13664.0</td>\n",
       "        </tr>\n",
       "        <tr>\n",
       "            <td>STATE OF PALESTINE</td>\n",
       "            <td>2022</td>\n",
       "            <td>14026.0</td>\n",
       "        </tr>\n",
       "        <tr>\n",
       "            <td>ZIMBABWE</td>\n",
       "            <td>2022</td>\n",
       "            <td>14469.0</td>\n",
       "        </tr>\n",
       "        <tr>\n",
       "            <td>SEYCHELLES</td>\n",
       "            <td>2022</td>\n",
       "            <td>14626.0</td>\n",
       "        </tr>\n",
       "        <tr>\n",
       "            <td>NORTH MACEDONIA</td>\n",
       "            <td>1995</td>\n",
       "            <td>15032.0</td>\n",
       "        </tr>\n",
       "        <tr>\n",
       "            <td>MYANMAR</td>\n",
       "            <td>1995</td>\n",
       "            <td>15230.0</td>\n",
       "        </tr>\n",
       "        <tr>\n",
       "            <td>PANAMA</td>\n",
       "            <td>1995</td>\n",
       "            <td>15315.0</td>\n",
       "        </tr>\n",
       "        <tr>\n",
       "            <td>SENEGAL</td>\n",
       "            <td>1995</td>\n",
       "            <td>15560.0</td>\n",
       "        </tr>\n",
       "        <tr>\n",
       "            <td>LUXEMBOURG</td>\n",
       "            <td>2022</td>\n",
       "            <td>15998.0</td>\n",
       "        </tr>\n",
       "        <tr>\n",
       "            <td>LEBANON</td>\n",
       "            <td>1995</td>\n",
       "            <td>16419.0</td>\n",
       "        </tr>\n",
       "        <tr>\n",
       "            <td>EL SALVADOR</td>\n",
       "            <td>2022</td>\n",
       "            <td>16740.0</td>\n",
       "        </tr>\n",
       "        <tr>\n",
       "            <td>HONDURAS</td>\n",
       "            <td>1995</td>\n",
       "            <td>16979.0</td>\n",
       "        </tr>\n",
       "        <tr>\n",
       "            <td>MACAO, CHINA</td>\n",
       "            <td>1995</td>\n",
       "            <td>18054.0</td>\n",
       "        </tr>\n",
       "        <tr>\n",
       "            <td>ANGOLA</td>\n",
       "            <td>2022</td>\n",
       "            <td>18590.0</td>\n",
       "        </tr>\n",
       "        <tr>\n",
       "            <td>MALI</td>\n",
       "            <td>2022</td>\n",
       "            <td>18790.0</td>\n",
       "        </tr>\n",
       "        <tr>\n",
       "            <td>FIJI</td>\n",
       "            <td>2022</td>\n",
       "            <td>19402.0</td>\n",
       "        </tr>\n",
       "        <tr>\n",
       "            <td>JORDAN</td>\n",
       "            <td>1995</td>\n",
       "            <td>20613.0</td>\n",
       "        </tr>\n",
       "        <tr>\n",
       "            <td>NICARAGUA</td>\n",
       "            <td>2022</td>\n",
       "            <td>21575.0</td>\n",
       "        </tr>\n",
       "        <tr>\n",
       "            <td>NEPAL</td>\n",
       "            <td>1995</td>\n",
       "            <td>21807.0</td>\n",
       "        </tr>\n",
       "        <tr>\n",
       "            <td>LATVIA</td>\n",
       "            <td>2022</td>\n",
       "            <td>23182.0</td>\n",
       "        </tr>\n",
       "        <tr>\n",
       "            <td>BOLIVIA, PLURINATIONAL STATE OF</td>\n",
       "            <td>1995</td>\n",
       "            <td>23809.0</td>\n",
       "        </tr>\n",
       "        <tr>\n",
       "            <td>NORTH MACEDONIA</td>\n",
       "            <td>2022</td>\n",
       "            <td>24686.0</td>\n",
       "        </tr>\n",
       "        <tr>\n",
       "            <td>BAHRAIN</td>\n",
       "            <td>2022</td>\n",
       "            <td>26142.0</td>\n",
       "        </tr>\n",
       "        <tr>\n",
       "            <td>SRI LANKA</td>\n",
       "            <td>1995</td>\n",
       "            <td>26243.0</td>\n",
       "        </tr>\n",
       "        <tr>\n",
       "            <td>BAHAMAS</td>\n",
       "            <td>1995</td>\n",
       "            <td>26842.0</td>\n",
       "        </tr>\n",
       "        <tr>\n",
       "            <td>CONGO, DEMOCRATIC REPUBLIC OF THE</td>\n",
       "            <td>1995</td>\n",
       "            <td>27342.0</td>\n",
       "        </tr>\n",
       "        <tr>\n",
       "            <td>PARAGUAY</td>\n",
       "            <td>2022</td>\n",
       "            <td>28102.0</td>\n",
       "        </tr>\n",
       "        <tr>\n",
       "            <td>CABO VERDE</td>\n",
       "            <td>2022</td>\n",
       "            <td>28851.0</td>\n",
       "        </tr>\n",
       "        <tr>\n",
       "            <td>MAURITIUS</td>\n",
       "            <td>2022</td>\n",
       "            <td>30145.0</td>\n",
       "        </tr>\n",
       "        <tr>\n",
       "            <td>GUATEMALA</td>\n",
       "            <td>1995</td>\n",
       "            <td>30221.0</td>\n",
       "        </tr>\n",
       "        <tr>\n",
       "            <td>BAHAMAS</td>\n",
       "            <td>2022</td>\n",
       "            <td>31448.0</td>\n",
       "        </tr>\n",
       "        <tr>\n",
       "            <td>SYRIAN ARAB REPUBLIC</td>\n",
       "            <td>1995</td>\n",
       "            <td>31449.0</td>\n",
       "        </tr>\n",
       "        <tr>\n",
       "            <td>URUGUAY</td>\n",
       "            <td>1995</td>\n",
       "            <td>31663.0</td>\n",
       "        </tr>\n",
       "        <tr>\n",
       "            <td>ANDORRA</td>\n",
       "            <td>2022</td>\n",
       "            <td>31736.0</td>\n",
       "        </tr>\n",
       "        <tr>\n",
       "            <td>BURKINA FASO</td>\n",
       "            <td>2022</td>\n",
       "            <td>33184.0</td>\n",
       "        </tr>\n",
       "        <tr>\n",
       "            <td>SLOVENIA</td>\n",
       "            <td>1995</td>\n",
       "            <td>33878.0</td>\n",
       "        </tr>\n",
       "        <tr>\n",
       "            <td>KENYA</td>\n",
       "            <td>1995</td>\n",
       "            <td>34211.0</td>\n",
       "        </tr>\n",
       "        <tr>\n",
       "            <td>UNITED ARAB EMIRATES</td>\n",
       "            <td>1995</td>\n",
       "            <td>34844.0</td>\n",
       "        </tr>\n",
       "        <tr>\n",
       "            <td>ESTONIA</td>\n",
       "            <td>2022</td>\n",
       "            <td>35406.0</td>\n",
       "        </tr>\n",
       "        <tr>\n",
       "            <td>JAMAICA</td>\n",
       "            <td>1995</td>\n",
       "            <td>36955.0</td>\n",
       "        </tr>\n",
       "        <tr>\n",
       "            <td>MALTA</td>\n",
       "            <td>1995</td>\n",
       "            <td>37308.0</td>\n",
       "        </tr>\n",
       "        <tr>\n",
       "            <td>BELARUS</td>\n",
       "            <td>2022</td>\n",
       "            <td>37877.0</td>\n",
       "        </tr>\n",
       "        <tr>\n",
       "            <td>ARMENIA</td>\n",
       "            <td>2022</td>\n",
       "            <td>38796.0</td>\n",
       "        </tr>\n",
       "        <tr>\n",
       "            <td>BOSNIA AND HERZEGOVINA</td>\n",
       "            <td>2022</td>\n",
       "            <td>38814.0</td>\n",
       "        </tr>\n",
       "        <tr>\n",
       "            <td>LITHUANIA</td>\n",
       "            <td>2022</td>\n",
       "            <td>39729.0</td>\n",
       "        </tr>\n",
       "        <tr>\n",
       "            <td>OMAN</td>\n",
       "            <td>2022</td>\n",
       "            <td>40577.0</td>\n",
       "        </tr>\n",
       "        <tr>\n",
       "            <td>IRAN, ISLAMIC REPUBLIC OF</td>\n",
       "            <td>1995</td>\n",
       "            <td>41935.0</td>\n",
       "        </tr>\n",
       "        <tr>\n",
       "            <td>MALTA</td>\n",
       "            <td>2022</td>\n",
       "            <td>43743.0</td>\n",
       "        </tr>\n",
       "        <tr>\n",
       "            <td>PAKISTAN</td>\n",
       "            <td>1995</td>\n",
       "            <td>44767.0</td>\n",
       "        </tr>\n",
       "        <tr>\n",
       "            <td>BOLIVIA, PLURINATIONAL STATE OF</td>\n",
       "            <td>2022</td>\n",
       "            <td>50004.0</td>\n",
       "        </tr>\n",
       "        <tr>\n",
       "            <td>IRAQ</td>\n",
       "            <td>1995</td>\n",
       "            <td>53069.0</td>\n",
       "        </tr>\n",
       "        <tr>\n",
       "            <td>NEPAL</td>\n",
       "            <td>2022</td>\n",
       "            <td>53365.0</td>\n",
       "        </tr>\n",
       "        <tr>\n",
       "            <td>SLOVAKIA</td>\n",
       "            <td>1995</td>\n",
       "            <td>53916.0</td>\n",
       "        </tr>\n",
       "        <tr>\n",
       "            <td>JORDAN</td>\n",
       "            <td>2022</td>\n",
       "            <td>53934.0</td>\n",
       "        </tr>\n",
       "        <tr>\n",
       "            <td>AZERBAIJAN</td>\n",
       "            <td>2022</td>\n",
       "            <td>56562.0</td>\n",
       "        </tr>\n",
       "        <tr>\n",
       "            <td>CUBA</td>\n",
       "            <td>1995</td>\n",
       "            <td>57901.0</td>\n",
       "        </tr>\n",
       "        <tr>\n",
       "            <td>JAMAICA</td>\n",
       "            <td>2022</td>\n",
       "            <td>58966.0</td>\n",
       "        </tr>\n",
       "        <tr>\n",
       "            <td>MALDIVES</td>\n",
       "            <td>2022</td>\n",
       "            <td>59132.0</td>\n",
       "        </tr>\n",
       "        <tr>\n",
       "            <td>DENMARK</td>\n",
       "            <td>1995</td>\n",
       "            <td>59420.0</td>\n",
       "        </tr>\n",
       "        <tr>\n",
       "            <td>ECUADOR</td>\n",
       "            <td>1995</td>\n",
       "            <td>60104.0</td>\n",
       "        </tr>\n",
       "        <tr>\n",
       "            <td>SLOVENIA</td>\n",
       "            <td>2022</td>\n",
       "            <td>60430.0</td>\n",
       "        </tr>\n",
       "        <tr>\n",
       "            <td>PHILIPPINES</td>\n",
       "            <td>1995</td>\n",
       "            <td>61586.0</td>\n",
       "        </tr>\n",
       "        <tr>\n",
       "            <td>ALGERIA</td>\n",
       "            <td>1995</td>\n",
       "            <td>63614.0</td>\n",
       "        </tr>\n",
       "        <tr>\n",
       "            <td>DOMINICAN REPUBLIC</td>\n",
       "            <td>1995</td>\n",
       "            <td>65696.0</td>\n",
       "        </tr>\n",
       "        <tr>\n",
       "            <td>MOZAMBIQUE</td>\n",
       "            <td>2022</td>\n",
       "            <td>70190.0</td>\n",
       "        </tr>\n",
       "        <tr>\n",
       "            <td>SERBIA</td>\n",
       "            <td>2022</td>\n",
       "            <td>72881.0</td>\n",
       "        </tr>\n",
       "        <tr>\n",
       "            <td>ISRAEL</td>\n",
       "            <td>1995</td>\n",
       "            <td>75100.0</td>\n",
       "        </tr>\n",
       "        <tr>\n",
       "            <td>CYPRUS</td>\n",
       "            <td>1995</td>\n",
       "            <td>77259.0</td>\n",
       "        </tr>\n",
       "        <tr>\n",
       "            <td>SERBIA AND MONTENEGRO</td>\n",
       "            <td>1995</td>\n",
       "            <td>85608.0</td>\n",
       "        </tr>\n",
       "        <tr>\n",
       "            <td>CHILE</td>\n",
       "            <td>1995</td>\n",
       "            <td>88705.0</td>\n",
       "        </tr>\n",
       "        <tr>\n",
       "            <td>MOROCCO</td>\n",
       "            <td>1995</td>\n",
       "            <td>90511.0</td>\n",
       "        </tr>\n",
       "        <tr>\n",
       "            <td>SRI LANKA</td>\n",
       "            <td>2022</td>\n",
       "            <td>91424.0</td>\n",
       "        </tr>\n",
       "        <tr>\n",
       "            <td>COLOMBIA</td>\n",
       "            <td>1995</td>\n",
       "            <td>93303.0</td>\n",
       "        </tr>\n",
       "        <tr>\n",
       "            <td>POLAND</td>\n",
       "            <td>1995</td>\n",
       "            <td>93309.0</td>\n",
       "        </tr>\n",
       "        <tr>\n",
       "            <td>SOUTH AFRICA</td>\n",
       "            <td>1995</td>\n",
       "            <td>94744.0</td>\n",
       "        </tr>\n",
       "        <tr>\n",
       "            <td>ALBANIA</td>\n",
       "            <td>2022</td>\n",
       "            <td>96986.0</td>\n",
       "        </tr>\n",
       "        <tr>\n",
       "            <td>GEORGIA</td>\n",
       "            <td>2022</td>\n",
       "            <td>97834.0</td>\n",
       "        </tr>\n",
       "        <tr>\n",
       "            <td>VIET NAM</td>\n",
       "            <td>1995</td>\n",
       "            <td>97860.0</td>\n",
       "        </tr>\n",
       "        <tr>\n",
       "            <td>MACAO, CHINA</td>\n",
       "            <td>2022</td>\n",
       "            <td>100352.0</td>\n",
       "        </tr>\n",
       "        <tr>\n",
       "            <td>FINLAND</td>\n",
       "            <td>1995</td>\n",
       "            <td>105030.0</td>\n",
       "        </tr>\n",
       "        <tr>\n",
       "            <td>CUBA</td>\n",
       "            <td>2022</td>\n",
       "            <td>110842.0</td>\n",
       "        </tr>\n",
       "        <tr>\n",
       "            <td>BULGARIA</td>\n",
       "            <td>1995</td>\n",
       "            <td>114164.0</td>\n",
       "        </tr>\n",
       "        <tr>\n",
       "            <td>INDIA</td>\n",
       "            <td>1995</td>\n",
       "            <td>114772.0</td>\n",
       "        </tr>\n",
       "        <tr>\n",
       "            <td>DENMARK</td>\n",
       "            <td>2022</td>\n",
       "            <td>117447.0</td>\n",
       "        </tr>\n",
       "        <tr>\n",
       "            <td>HUNGARY</td>\n",
       "            <td>1995</td>\n",
       "            <td>119109.0</td>\n",
       "        </tr>\n",
       "        <tr>\n",
       "            <td>LEBANON</td>\n",
       "            <td>2022</td>\n",
       "            <td>126741.0</td>\n",
       "        </tr>\n",
       "        <tr>\n",
       "            <td>EGYPT</td>\n",
       "            <td>1995</td>\n",
       "            <td>128957.0</td>\n",
       "        </tr>\n",
       "        <tr>\n",
       "            <td>COTE D´IVOIRE</td>\n",
       "            <td>2022</td>\n",
       "            <td>130932.0</td>\n",
       "        </tr>\n",
       "        <tr>\n",
       "            <td>CZECH REPUBLIC (CZECHIA)</td>\n",
       "            <td>1995</td>\n",
       "            <td>131152.0</td>\n",
       "        </tr>\n",
       "        <tr>\n",
       "            <td>NORWAY</td>\n",
       "            <td>1995</td>\n",
       "            <td>131217.0</td>\n",
       "        </tr>\n",
       "        <tr>\n",
       "            <td>VENEZUELA, BOLIVARIAN REPUBLIC OF</td>\n",
       "            <td>1995</td>\n",
       "            <td>138399.0</td>\n",
       "        </tr>\n",
       "        <tr>\n",
       "            <td>FINLAND</td>\n",
       "            <td>2022</td>\n",
       "            <td>140871.0</td>\n",
       "        </tr>\n",
       "        <tr>\n",
       "            <td>NETHERLANDS</td>\n",
       "            <td>1995</td>\n",
       "            <td>142516.0</td>\n",
       "        </tr>\n",
       "        <tr>\n",
       "            <td>ALGERIA</td>\n",
       "            <td>2022</td>\n",
       "            <td>145526.0</td>\n",
       "        </tr>\n",
       "        <tr>\n",
       "            <td>ISRAEL</td>\n",
       "            <td>2022</td>\n",
       "            <td>148250.0</td>\n",
       "        </tr>\n",
       "        <tr>\n",
       "            <td>BELGIUM</td>\n",
       "            <td>1995</td>\n",
       "            <td>154709.0</td>\n",
       "        </tr>\n",
       "        <tr>\n",
       "            <td>GUATEMALA</td>\n",
       "            <td>2022</td>\n",
       "            <td>157070.0</td>\n",
       "        </tr>\n",
       "        <tr>\n",
       "            <td>TUNISIA</td>\n",
       "            <td>1995</td>\n",
       "            <td>161498.0</td>\n",
       "        </tr>\n",
       "        <tr>\n",
       "            <td>CROATIA</td>\n",
       "            <td>2022</td>\n",
       "            <td>170737.0</td>\n",
       "        </tr>\n",
       "        <tr>\n",
       "            <td>UKRAINE</td>\n",
       "            <td>1995</td>\n",
       "            <td>172468.0</td>\n",
       "        </tr>\n",
       "        <tr>\n",
       "            <td>SWEDEN</td>\n",
       "            <td>1995</td>\n",
       "            <td>173759.0</td>\n",
       "        </tr>\n",
       "        <tr>\n",
       "            <td>HUNGARY</td>\n",
       "            <td>2022</td>\n",
       "            <td>184744.0</td>\n",
       "        </tr>\n",
       "        <tr>\n",
       "            <td>MYANMAR</td>\n",
       "            <td>2022</td>\n",
       "            <td>189720.0</td>\n",
       "        </tr>\n",
       "        <tr>\n",
       "            <td>ECUADOR</td>\n",
       "            <td>2022</td>\n",
       "            <td>198114.0</td>\n",
       "        </tr>\n",
       "        <tr>\n",
       "            <td>KAZAKHSTAN</td>\n",
       "            <td>2022</td>\n",
       "            <td>203531.0</td>\n",
       "        </tr>\n",
       "        <tr>\n",
       "            <td>PORTUGAL</td>\n",
       "            <td>1995</td>\n",
       "            <td>204051.0</td>\n",
       "        </tr>\n",
       "        <tr>\n",
       "            <td>BELGIUM</td>\n",
       "            <td>2022</td>\n",
       "            <td>204876.0</td>\n",
       "        </tr>\n",
       "        <tr>\n",
       "            <td>CROATIA</td>\n",
       "            <td>1995</td>\n",
       "            <td>205234.0</td>\n",
       "        </tr>\n",
       "        <tr>\n",
       "            <td>NORWAY</td>\n",
       "            <td>2022</td>\n",
       "            <td>206613.0</td>\n",
       "        </tr>\n",
       "        <tr>\n",
       "            <td>ROMANIA</td>\n",
       "            <td>1995</td>\n",
       "            <td>212313.0</td>\n",
       "        </tr>\n",
       "        <tr>\n",
       "            <td>TUNISIA</td>\n",
       "            <td>2022</td>\n",
       "            <td>229733.0</td>\n",
       "        </tr>\n",
       "        <tr>\n",
       "            <td>SWITZERLAND</td>\n",
       "            <td>1995</td>\n",
       "            <td>264983.0</td>\n",
       "        </tr>\n",
       "        <tr>\n",
       "            <td>BRAZIL</td>\n",
       "            <td>1995</td>\n",
       "            <td>279100.0</td>\n",
       "        </tr>\n",
       "        <tr>\n",
       "            <td>TÜRKIYE</td>\n",
       "            <td>1995</td>\n",
       "            <td>280463.0</td>\n",
       "        </tr>\n",
       "        <tr>\n",
       "            <td>SWEDEN</td>\n",
       "            <td>2022</td>\n",
       "            <td>280597.0</td>\n",
       "        </tr>\n",
       "        <tr>\n",
       "            <td>SWITZERLAND</td>\n",
       "            <td>2022</td>\n",
       "            <td>282486.0</td>\n",
       "        </tr>\n",
       "        <tr>\n",
       "            <td>MOROCCO</td>\n",
       "            <td>2022</td>\n",
       "            <td>289321.0</td>\n",
       "        </tr>\n",
       "        <tr>\n",
       "            <td>BULGARIA</td>\n",
       "            <td>2022</td>\n",
       "            <td>294183.0</td>\n",
       "        </tr>\n",
       "        <tr>\n",
       "            <td>NETHERLANDS</td>\n",
       "            <td>2022</td>\n",
       "            <td>327449.0</td>\n",
       "        </tr>\n",
       "        <tr>\n",
       "            <td>INDONESIA</td>\n",
       "            <td>1995</td>\n",
       "            <td>334856.0</td>\n",
       "        </tr>\n",
       "        <tr>\n",
       "            <td>ROMANIA</td>\n",
       "            <td>2022</td>\n",
       "            <td>344277.0</td>\n",
       "        </tr>\n",
       "        <tr>\n",
       "            <td>POLAND</td>\n",
       "            <td>2022</td>\n",
       "            <td>381104.0</td>\n",
       "        </tr>\n",
       "        <tr>\n",
       "            <td>CZECH REPUBLIC (CZECHIA)</td>\n",
       "            <td>2022</td>\n",
       "            <td>413801.0</td>\n",
       "        </tr>\n",
       "        <tr>\n",
       "            <td>EGYPT</td>\n",
       "            <td>2022</td>\n",
       "            <td>425178.0</td>\n",
       "        </tr>\n",
       "        <tr>\n",
       "            <td>RUSSIAN FEDERATION</td>\n",
       "            <td>1995</td>\n",
       "            <td>426102.0</td>\n",
       "        </tr>\n",
       "        <tr>\n",
       "            <td>PORTUGAL</td>\n",
       "            <td>2022</td>\n",
       "            <td>457818.0</td>\n",
       "        </tr>\n",
       "        <tr>\n",
       "            <td>IRAN, ISLAMIC REPUBLIC OF</td>\n",
       "            <td>2022</td>\n",
       "            <td>468593.0</td>\n",
       "        </tr>\n",
       "        <tr>\n",
       "            <td>AUSTRALIA</td>\n",
       "            <td>1995</td>\n",
       "            <td>488629.0</td>\n",
       "        </tr>\n",
       "        <tr>\n",
       "            <td>PERU</td>\n",
       "            <td>2022</td>\n",
       "            <td>532714.0</td>\n",
       "        </tr>\n",
       "        <tr>\n",
       "            <td>GREECE</td>\n",
       "            <td>1995</td>\n",
       "            <td>533812.0</td>\n",
       "        </tr>\n",
       "        <tr>\n",
       "            <td>AUSTRIA</td>\n",
       "            <td>2022</td>\n",
       "            <td>606442.0</td>\n",
       "        </tr>\n",
       "        <tr>\n",
       "            <td>COLOMBIA</td>\n",
       "            <td>2022</td>\n",
       "            <td>606446.0</td>\n",
       "        </tr>\n",
       "        <tr>\n",
       "            <td>NIGERIA</td>\n",
       "            <td>2022</td>\n",
       "            <td>665929.0</td>\n",
       "        </tr>\n",
       "        <tr>\n",
       "            <td>ARGENTINA</td>\n",
       "            <td>2022</td>\n",
       "            <td>714353.0</td>\n",
       "        </tr>\n",
       "        <tr>\n",
       "            <td>MEXICO</td>\n",
       "            <td>1995</td>\n",
       "            <td>740596.0</td>\n",
       "        </tr>\n",
       "        <tr>\n",
       "            <td>SAUDI ARABIA</td>\n",
       "            <td>2022</td>\n",
       "            <td>843166.0</td>\n",
       "        </tr>\n",
       "        <tr>\n",
       "            <td>GREECE</td>\n",
       "            <td>2022</td>\n",
       "            <td>880624.0</td>\n",
       "        </tr>\n",
       "        <tr>\n",
       "            <td>CHINA</td>\n",
       "            <td>1995</td>\n",
       "            <td>987275.0</td>\n",
       "        </tr>\n",
       "        <tr>\n",
       "            <td>UNITED KINGDOM</td>\n",
       "            <td>1995</td>\n",
       "            <td>1050223.0</td>\n",
       "        </tr>\n",
       "        <tr>\n",
       "            <td>SPAIN</td>\n",
       "            <td>1995</td>\n",
       "            <td>1074017.0</td>\n",
       "        </tr>\n",
       "        <tr>\n",
       "            <td>INDONESIA</td>\n",
       "            <td>2022</td>\n",
       "            <td>1169006.0</td>\n",
       "        </tr>\n",
       "        <tr>\n",
       "            <td>FRANCE</td>\n",
       "            <td>1995</td>\n",
       "            <td>1223074.0</td>\n",
       "        </tr>\n",
       "        <tr>\n",
       "            <td>FRANCE</td>\n",
       "            <td>2022</td>\n",
       "            <td>1354728.0</td>\n",
       "        </tr>\n",
       "        <tr>\n",
       "            <td>GERMANY</td>\n",
       "            <td>1995</td>\n",
       "            <td>1484275.0</td>\n",
       "        </tr>\n",
       "        <tr>\n",
       "            <td>TÜRKIYE</td>\n",
       "            <td>2022</td>\n",
       "            <td>1724987.0</td>\n",
       "        </tr>\n",
       "        <tr>\n",
       "            <td>ITALY</td>\n",
       "            <td>1995</td>\n",
       "            <td>1738031.0</td>\n",
       "        </tr>\n",
       "        <tr>\n",
       "            <td>MEXICO</td>\n",
       "            <td>2022</td>\n",
       "            <td>1762044.0</td>\n",
       "        </tr>\n",
       "        <tr>\n",
       "            <td>GERMANY</td>\n",
       "            <td>2022</td>\n",
       "            <td>1971314.0</td>\n",
       "        </tr>\n",
       "        <tr>\n",
       "            <td>SPAIN</td>\n",
       "            <td>2022</td>\n",
       "            <td>1992394.0</td>\n",
       "        </tr>\n",
       "        <tr>\n",
       "            <td>CHINA</td>\n",
       "            <td>2022</td>\n",
       "            <td>2046700.0</td>\n",
       "        </tr>\n",
       "        <tr>\n",
       "            <td>ITALY</td>\n",
       "            <td>2022</td>\n",
       "            <td>2241988.0</td>\n",
       "        </tr>\n",
       "        <tr>\n",
       "            <td>JAPAN</td>\n",
       "            <td>2022</td>\n",
       "            <td>4183501.0</td>\n",
       "        </tr>\n",
       "    </tbody>\n",
       "</table>"
      ],
      "text/plain": [
       "[('CENTRAL AFRICAN REPUBLIC', 1995, 370.0),\n",
       " ('SAO TOME AND PRINCIPE', 1995, 404.0),\n",
       " ('KIRIBATI', 2022, 535.0),\n",
       " ('DJIBOUTI', 1995, 545.0),\n",
       " ('MARSHALL ISLANDS', 1995, 658.0),\n",
       " ('CHAD', 1995, 688.0),\n",
       " ('COMOROS', 1995, 784.0),\n",
       " ('SAN MARINO', 1995, 1172.0),\n",
       " ('LIECHTENSTEIN', 1995, 1203.0),\n",
       " ('LIECHTENSTEIN', 2022, 1215.0),\n",
       " ('TONGA', 1995, 1378.0),\n",
       " ('SIERRA LEONE', 1995, 1513.0),\n",
       " ('SAMOA', 1995, 1588.0),\n",
       " ('VANUATU', 1995, 1641.0),\n",
       " ('COOK ISLANDS', 1995, 1707.0),\n",
       " ('BOSNIA AND HERZEGOVINA', 1995, 1910.0),\n",
       " ('LESOTHO', 1995, 1988.0),\n",
       " ('SAINT KITTS AND NEVIS', 1995, 2047.0),\n",
       " ('MALI', 1995, 2057.0),\n",
       " ('ESWATINI', 1995, 2284.0),\n",
       " ('SAINT VINCENT AND THE GRENADINES', 1995, 2352.0),\n",
       " ('TOGO', 1995, 2492.0),\n",
       " ('DJIBOUTI', 2022, 2603.0),\n",
       " ('CABO VERDE', 1995, 2681.0),\n",
       " ('GRENADA', 1995, 2936.0),\n",
       " ('NIGER', 1995, 3037.0),\n",
       " ('BONAIRE', 1995, 3188.0),\n",
       " ('BOTSWANA', 1995, 3226.0),\n",
       " ('GRENADA', 2022, 3291.0),\n",
       " ('NICARAGUA', 1995, 3336.0),\n",
       " ('KUWAIT', 1995, 3473.0),\n",
       " ('REUNION', 1995, 3756.0),\n",
       " ('AZERBAIJAN', 1995, 4000.0),\n",
       " ('OMAN', 1995, 4220.0),\n",
       " ('SEYCHELLES', 1995, 4340.0),\n",
       " ('ETHIOPIA', 1995, 4524.0),\n",
       " ('KYRGYZSTAN', 1995, 4772.0),\n",
       " ('PAPUA NEW GUINEA', 1995, 5280.0),\n",
       " ('MONACO', 2022, 5354.0),\n",
       " ('NAMIBIA', 1995, 5624.0),\n",
       " ('GAMBIA', 1995, 5731.0),\n",
       " ('BERMUDA', 2022, 5826.0),\n",
       " ('FRENCH POLYNESIA', 1995, 6088.0),\n",
       " ('REUNION', 2022, 6088.0),\n",
       " ('BELIZE', 1995, 6137.0),\n",
       " ('ESWATINI', 2022, 6148.0),\n",
       " ('BAHRAIN', 1995, 6194.0),\n",
       " ('UGANDA', 1995, 6244.0),\n",
       " ('ZAMBIA', 1995, 6283.0),\n",
       " ('TURKMENISTAN', 1995, 6632.0),\n",
       " ('ANGOLA', 1995, 6783.0),\n",
       " ('ERITREA', 1995, 6875.0),\n",
       " ('MADAGASCAR', 1995, 6904.0),\n",
       " ('MARTINIQUE', 2022, 7252.0),\n",
       " ('MOLDOVA, REPUBLIC OF', 2022, 7278.0),\n",
       " ('SINT MAARTEN (DUTCH PART)', 1995, 7414.0),\n",
       " ('SAINT LUCIA', 1995, 7423.0),\n",
       " ('CAMBODIA', 1995, 7994.0),\n",
       " ('BANGLADESH', 1995, 8224.0),\n",
       " ('GAMBIA', 2022, 8257.0),\n",
       " ('ZIMBABWE', 1995, 8659.0),\n",
       " ('ICELAND', 1995, 8810.0),\n",
       " ('MOLDOVA, REPUBLIC OF', 1995, 9032.0),\n",
       " ('LITHUANIA', 1995, 9474.0),\n",
       " ('SUDAN', 1995, 9705.0),\n",
       " ('COTE D´IVOIRE', 1995, 10202.0),\n",
       " ('BARBADOS', 1995, 10229.0),\n",
       " ('CAYMAN ISLANDS', 1995, 10889.0),\n",
       " ('MARTINIQUE', 1995, 10994.0),\n",
       " ('PARAGUAY', 1995, 11108.0),\n",
       " ('GHANA', 1995, 11938.0),\n",
       " ('BELIZE', 2022, 12142.0),\n",
       " ('TANZANIA, UNITED REPUBLIC OF', 1995, 12145.0),\n",
       " ('MALDIVES', 1995, 12312.0),\n",
       " ('MAURITIUS', 1995, 12359.0),\n",
       " ('ARUBA', 1995, 12532.0),\n",
       " ('CAMEROON', 1995, 12566.0),\n",
       " ('FIJI', 1995, 12712.0),\n",
       " ('LATVIA', 1995, 13376.0),\n",
       " ('YEMEN', 1995, 13664.0),\n",
       " ('STATE OF PALESTINE', 2022, 14026.0),\n",
       " ('ZIMBABWE', 2022, 14469.0),\n",
       " ('SEYCHELLES', 2022, 14626.0),\n",
       " ('NORTH MACEDONIA', 1995, 15032.0),\n",
       " ('MYANMAR', 1995, 15230.0),\n",
       " ('PANAMA', 1995, 15315.0),\n",
       " ('SENEGAL', 1995, 15560.0),\n",
       " ('LUXEMBOURG', 2022, 15998.0),\n",
       " ('LEBANON', 1995, 16419.0),\n",
       " ('EL SALVADOR', 2022, 16740.0),\n",
       " ('HONDURAS', 1995, 16979.0),\n",
       " ('MACAO, CHINA', 1995, 18054.0),\n",
       " ('ANGOLA', 2022, 18590.0),\n",
       " ('MALI', 2022, 18790.0),\n",
       " ('FIJI', 2022, 19402.0),\n",
       " ('JORDAN', 1995, 20613.0),\n",
       " ('NICARAGUA', 2022, 21575.0),\n",
       " ('NEPAL', 1995, 21807.0),\n",
       " ('LATVIA', 2022, 23182.0),\n",
       " ('BOLIVIA, PLURINATIONAL STATE OF', 1995, 23809.0),\n",
       " ('NORTH MACEDONIA', 2022, 24686.0),\n",
       " ('BAHRAIN', 2022, 26142.0),\n",
       " ('SRI LANKA', 1995, 26243.0),\n",
       " ('BAHAMAS', 1995, 26842.0),\n",
       " ('CONGO, DEMOCRATIC REPUBLIC OF THE', 1995, 27342.0),\n",
       " ('PARAGUAY', 2022, 28102.0),\n",
       " ('CABO VERDE', 2022, 28851.0),\n",
       " ('MAURITIUS', 2022, 30145.0),\n",
       " ('GUATEMALA', 1995, 30221.0),\n",
       " ('BAHAMAS', 2022, 31448.0),\n",
       " ('SYRIAN ARAB REPUBLIC', 1995, 31449.0),\n",
       " ('URUGUAY', 1995, 31663.0),\n",
       " ('ANDORRA', 2022, 31736.0),\n",
       " ('BURKINA FASO', 2022, 33184.0),\n",
       " ('SLOVENIA', 1995, 33878.0),\n",
       " ('KENYA', 1995, 34211.0),\n",
       " ('UNITED ARAB EMIRATES', 1995, 34844.0),\n",
       " ('ESTONIA', 2022, 35406.0),\n",
       " ('JAMAICA', 1995, 36955.0),\n",
       " ('MALTA', 1995, 37308.0),\n",
       " ('BELARUS', 2022, 37877.0),\n",
       " ('ARMENIA', 2022, 38796.0),\n",
       " ('BOSNIA AND HERZEGOVINA', 2022, 38814.0),\n",
       " ('LITHUANIA', 2022, 39729.0),\n",
       " ('OMAN', 2022, 40577.0),\n",
       " ('IRAN, ISLAMIC REPUBLIC OF', 1995, 41935.0),\n",
       " ('MALTA', 2022, 43743.0),\n",
       " ('PAKISTAN', 1995, 44767.0),\n",
       " ('BOLIVIA, PLURINATIONAL STATE OF', 2022, 50004.0),\n",
       " ('IRAQ', 1995, 53069.0),\n",
       " ('NEPAL', 2022, 53365.0),\n",
       " ('SLOVAKIA', 1995, 53916.0),\n",
       " ('JORDAN', 2022, 53934.0),\n",
       " ('AZERBAIJAN', 2022, 56562.0),\n",
       " ('CUBA', 1995, 57901.0),\n",
       " ('JAMAICA', 2022, 58966.0),\n",
       " ('MALDIVES', 2022, 59132.0),\n",
       " ('DENMARK', 1995, 59420.0),\n",
       " ('ECUADOR', 1995, 60104.0),\n",
       " ('SLOVENIA', 2022, 60430.0),\n",
       " ('PHILIPPINES', 1995, 61586.0),\n",
       " ('ALGERIA', 1995, 63614.0),\n",
       " ('DOMINICAN REPUBLIC', 1995, 65696.0),\n",
       " ('MOZAMBIQUE', 2022, 70190.0),\n",
       " ('SERBIA', 2022, 72881.0),\n",
       " ('ISRAEL', 1995, 75100.0),\n",
       " ('CYPRUS', 1995, 77259.0),\n",
       " ('SERBIA AND MONTENEGRO', 1995, 85608.0),\n",
       " ('CHILE', 1995, 88705.0),\n",
       " ('MOROCCO', 1995, 90511.0),\n",
       " ('SRI LANKA', 2022, 91424.0),\n",
       " ('COLOMBIA', 1995, 93303.0),\n",
       " ('POLAND', 1995, 93309.0),\n",
       " ('SOUTH AFRICA', 1995, 94744.0),\n",
       " ('ALBANIA', 2022, 96986.0),\n",
       " ('GEORGIA', 2022, 97834.0),\n",
       " ('VIET NAM', 1995, 97860.0),\n",
       " ('MACAO, CHINA', 2022, 100352.0),\n",
       " ('FINLAND', 1995, 105030.0),\n",
       " ('CUBA', 2022, 110842.0),\n",
       " ('BULGARIA', 1995, 114164.0),\n",
       " ('INDIA', 1995, 114772.0),\n",
       " ('DENMARK', 2022, 117447.0),\n",
       " ('HUNGARY', 1995, 119109.0),\n",
       " ('LEBANON', 2022, 126741.0),\n",
       " ('EGYPT', 1995, 128957.0),\n",
       " ('COTE D´IVOIRE', 2022, 130932.0),\n",
       " ('CZECH REPUBLIC (CZECHIA)', 1995, 131152.0),\n",
       " ('NORWAY', 1995, 131217.0),\n",
       " ('VENEZUELA, BOLIVARIAN REPUBLIC OF', 1995, 138399.0),\n",
       " ('FINLAND', 2022, 140871.0),\n",
       " ('NETHERLANDS', 1995, 142516.0),\n",
       " ('ALGERIA', 2022, 145526.0),\n",
       " ('ISRAEL', 2022, 148250.0),\n",
       " ('BELGIUM', 1995, 154709.0),\n",
       " ('GUATEMALA', 2022, 157070.0),\n",
       " ('TUNISIA', 1995, 161498.0),\n",
       " ('CROATIA', 2022, 170737.0),\n",
       " ('UKRAINE', 1995, 172468.0),\n",
       " ('SWEDEN', 1995, 173759.0),\n",
       " ('HUNGARY', 2022, 184744.0),\n",
       " ('MYANMAR', 2022, 189720.0),\n",
       " ('ECUADOR', 2022, 198114.0),\n",
       " ('KAZAKHSTAN', 2022, 203531.0),\n",
       " ('PORTUGAL', 1995, 204051.0),\n",
       " ('BELGIUM', 2022, 204876.0),\n",
       " ('CROATIA', 1995, 205234.0),\n",
       " ('NORWAY', 2022, 206613.0),\n",
       " ('ROMANIA', 1995, 212313.0),\n",
       " ('TUNISIA', 2022, 229733.0),\n",
       " ('SWITZERLAND', 1995, 264983.0),\n",
       " ('BRAZIL', 1995, 279100.0),\n",
       " ('TÜRKIYE', 1995, 280463.0),\n",
       " ('SWEDEN', 2022, 280597.0),\n",
       " ('SWITZERLAND', 2022, 282486.0),\n",
       " ('MOROCCO', 2022, 289321.0),\n",
       " ('BULGARIA', 2022, 294183.0),\n",
       " ('NETHERLANDS', 2022, 327449.0),\n",
       " ('INDONESIA', 1995, 334856.0),\n",
       " ('ROMANIA', 2022, 344277.0),\n",
       " ('POLAND', 2022, 381104.0),\n",
       " ('CZECH REPUBLIC (CZECHIA)', 2022, 413801.0),\n",
       " ('EGYPT', 2022, 425178.0),\n",
       " ('RUSSIAN FEDERATION', 1995, 426102.0),\n",
       " ('PORTUGAL', 2022, 457818.0),\n",
       " ('IRAN, ISLAMIC REPUBLIC OF', 2022, 468593.0),\n",
       " ('AUSTRALIA', 1995, 488629.0),\n",
       " ('PERU', 2022, 532714.0),\n",
       " ('GREECE', 1995, 533812.0),\n",
       " ('AUSTRIA', 2022, 606442.0),\n",
       " ('COLOMBIA', 2022, 606446.0),\n",
       " ('NIGERIA', 2022, 665929.0),\n",
       " ('ARGENTINA', 2022, 714353.0),\n",
       " ('MEXICO', 1995, 740596.0),\n",
       " ('SAUDI ARABIA', 2022, 843166.0),\n",
       " ('GREECE', 2022, 880624.0),\n",
       " ('CHINA', 1995, 987275.0),\n",
       " ('UNITED KINGDOM', 1995, 1050223.0),\n",
       " ('SPAIN', 1995, 1074017.0),\n",
       " ('INDONESIA', 2022, 1169006.0),\n",
       " ('FRANCE', 1995, 1223074.0),\n",
       " ('FRANCE', 2022, 1354728.0),\n",
       " ('GERMANY', 1995, 1484275.0),\n",
       " ('TÜRKIYE', 2022, 1724987.0),\n",
       " ('ITALY', 1995, 1738031.0),\n",
       " ('MEXICO', 2022, 1762044.0),\n",
       " ('GERMANY', 2022, 1971314.0),\n",
       " ('SPAIN', 2022, 1992394.0),\n",
       " ('CHINA', 2022, 2046700.0),\n",
       " ('ITALY', 2022, 2241988.0),\n",
       " ('JAPAN', 2022, 4183501.0)]"
      ]
     },
     "execution_count": 28,
     "metadata": {},
     "output_type": "execute_result"
    }
   ],
   "source": [
    "%%sql\n",
    "SELECT Country, Year, Value AS Bed_Places\n",
    "FROM tourism_data\n",
    "WHERE Indicator = 'Number of bed-places'\n",
    "  AND Year IN (1995, (SELECT MAX(Year) FROM tourism_data))\n",
    "  AND Country IN (\n",
    "    SELECT Country\n",
    "    FROM tourism_data\n",
    "    WHERE Indicator = 'Number of bed-places'\n",
    "    GROUP BY Country\n",
    "    HAVING COUNT(DISTINCT Year) >= 2\n",
    "  )\n",
    "ORDER BY Bed_Places, Year;"
   ]
  },
  {
   "cell_type": "code",
   "execution_count": 29,
   "metadata": {},
   "outputs": [
    {
     "name": "stdout",
     "output_type": "stream",
     "text": [
      " * sqlite:///tourism.db\n",
      "Done.\n"
     ]
    }
   ],
   "source": [
    "result = %sql SELECT Country, Year, Value AS Bed_Places \\\n",
    "              FROM tourism_data \\\n",
    "              WHERE Indicator = 'Number of bed-places' \\\n",
    "                AND Year IN (1995, (SELECT MAX(Year) FROM tourism_data)) \\\n",
    "                AND Country IN ( \\\n",
    "                    SELECT Country \\\n",
    "                    FROM tourism_data \\\n",
    "                    WHERE Indicator = 'Number of bed-places' \\\n",
    "                    GROUP BY Country \\\n",
    "                    HAVING COUNT(DISTINCT Year) >= 2 \\\n",
    "                ) \\\n",
    "              ORDER BY Bed_Places, Year;\n",
    "\n",
    "df_beds_compare = result.DataFrame()\n"
   ]
  },
  {
   "cell_type": "code",
   "execution_count": 30,
   "metadata": {},
   "outputs": [],
   "source": [
    "df_pivot = df_beds_compare.pivot(index='Country', columns='Year', values='Bed_Places').dropna()\n",
    "df_pivot = df_pivot.sort_values(by=df_pivot.columns[-1], ascending=False).head(10)  # Top 10 by latest year\n"
   ]
  },
  {
   "cell_type": "code",
   "execution_count": 31,
   "metadata": {},
   "outputs": [
    {
     "data": {
      "image/png": "[encoded data removed]",
      "text/plain": [
       "<Figure size 1200x600 with 1 Axes>"
      ]
     },
     "metadata": {},
     "output_type": "display_data"
    }
   ],
   "source": [
    "df_pivot.plot(kind='bar', figsize=(12, 6))\n",
    "plt.title('Bed-Places Comparison: 1995 vs Latest Year')\n",
    "plt.xlabel('Country')\n",
    "plt.ylabel('Number of Bed Places')\n",
    "plt.xticks(rotation=45, ha='right')\n",
    "plt.legend(title='Year')\n",
    "plt.tight_layout()\n",
    "plt.show()\n"
   ]
  },
  {
   "cell_type": "code",
   "execution_count": 32,
   "metadata": {},
   "outputs": [
    {
     "data": {
      "application/vnd.plotly.v1+json": {
       "config": {
        "plotlyServerURL": "https://plot.ly"
       },
       "data": [
        {
         "name": "1995",
         "type": "bar",
         "x": [
          "ITALY",
          "CHINA",
          "SPAIN",
          "GERMANY",
          "MEXICO",
          "TÜRKIYE",
          "FRANCE",
          "INDONESIA",
          "GREECE",
          "COLOMBIA"
         ],
         "y": [
          1738031,
          987275,
          1074017,
          1484275,
          740596,
          280463,
          1223074,
          334856,
          533812,
          93303
         ]
        },
        {
         "name": "2022",
         "type": "bar",
         "x": [
          "ITALY",
          "CHINA",
          "SPAIN",
          "GERMANY",
          "MEXICO",
          "TÜRKIYE",
          "FRANCE",
          "INDONESIA",
          "GREECE",
          "COLOMBIA"
         ],
         "y": [
          2241988,
          2046700,
          1992394,
          1971314,
          1762044,
          1724987,
          1354728,
          1169006,
          880624,
          606446
         ]
        }
       ],
       "layout": {
        "barmode": "group",
        "template": {
         "data": {
          "bar": [
           {
            "error_x": {
             "color": "#2a3f5f"
            },
            "error_y": {
             "color": "#2a3f5f"
            },
            "marker": {
             "line": {
              "color": "#E5ECF6",
              "width": 0.5
             },
             "pattern": {
              "fillmode": "overlay",
              "size": 10,
              "solidity": 0.2
             }
            },
            "type": "bar"
           }
          ],
          "barpolar": [
           {
            "marker": {
             "line": {
              "color": "#E5ECF6",
              "width": 0.5
             },
             "pattern": {
              "fillmode": "overlay",
              "size": 10,
              "solidity": 0.2
             }
            },
            "type": "barpolar"
           }
          ],
          "carpet": [
           {
            "aaxis": {
             "endlinecolor": "#2a3f5f",
             "gridcolor": "white",
             "linecolor": "white",
             "minorgridcolor": "white",
             "startlinecolor": "#2a3f5f"
            },
            "baxis": {
             "endlinecolor": "#2a3f5f",
             "gridcolor": "white",
             "linecolor": "white",
             "minorgridcolor": "white",
             "startlinecolor": "#2a3f5f"
            },
            "type": "carpet"
           }
          ],
          "choropleth": [
           {
            "colorbar": {
             "outlinewidth": 0,
             "ticks": ""
            },
            "type": "choropleth"
           }
          ],
          "contour": [
           {
            "colorbar": {
             "outlinewidth": 0,
             "ticks": ""
            },
            "colorscale": [
             [
              0,
              "#0d0887"
             ],
             [
              0.1111111111111111,
              "#46039f"
             ],
             [
              0.2222222222222222,
              "#7201a8"
             ],
             [
              0.3333333333333333,
              "#9c179e"
             ],
             [
              0.4444444444444444,
              "#bd3786"
             ],
             [
              0.5555555555555556,
              "#d8576b"
             ],
             [
              0.6666666666666666,
              "#ed7953"
             ],
             [
              0.7777777777777778,
              "#fb9f3a"
             ],
             [
              0.8888888888888888,
              "#fdca26"
             ],
             [
              1,
              "#f0f921"
             ]
            ],
            "type": "contour"
           }
          ],
          "contourcarpet": [
           {
            "colorbar": {
             "outlinewidth": 0,
             "ticks": ""
            },
            "type": "contourcarpet"
           }
          ],
          "heatmap": [
           {
            "colorbar": {
             "outlinewidth": 0,
             "ticks": ""
            },
            "colorscale": [
             [
              0,
              "#0d0887"
             ],
             [
              0.1111111111111111,
              "#46039f"
             ],
             [
              0.2222222222222222,
              "#7201a8"
             ],
             [
              0.3333333333333333,
              "#9c179e"
             ],
             [
              0.4444444444444444,
              "#bd3786"
             ],
             [
              0.5555555555555556,
              "#d8576b"
             ],
             [
              0.6666666666666666,
              "#ed7953"
             ],
             [
              0.7777777777777778,
              "#fb9f3a"
             ],
             [
              0.8888888888888888,
              "#fdca26"
             ],
             [
              1,
              "#f0f921"
             ]
            ],
            "type": "heatmap"
           }
          ],
          "heatmapgl": [
           {
            "colorbar": {
             "outlinewidth": 0,
             "ticks": ""
            },
            "colorscale": [
             [
              0,
              "#0d0887"
             ],
             [
              0.1111111111111111,
              "#46039f"
             ],
             [
              0.2222222222222222,
              "#7201a8"
             ],
             [
              0.3333333333333333,
              "#9c179e"
             ],
             [
              0.4444444444444444,
              "#bd3786"
             ],
             [
              0.5555555555555556,
              "#d8576b"
             ],
             [
              0.6666666666666666,
              "#ed7953"
             ],
             [
              0.7777777777777778,
              "#fb9f3a"
             ],
             [
              0.8888888888888888,
              "#fdca26"
             ],
             [
              1,
              "#f0f921"
             ]
            ],
            "type": "heatmapgl"
           }
          ],
          "histogram": [
           {
            "marker": {
             "pattern": {
              "fillmode": "overlay",
              "size": 10,
              "solidity": 0.2
             }
            },
            "type": "histogram"
           }
          ],
          "histogram2d": [
           {
            "colorbar": {
             "outlinewidth": 0,
             "ticks": ""
            },
            "colorscale": [
             [
              0,
              "#0d0887"
             ],
             [
              0.1111111111111111,
              "#46039f"
             ],
             [
              0.2222222222222222,
              "#7201a8"
             ],
             [
              0.3333333333333333,
              "#9c179e"
             ],
             [
              0.4444444444444444,
              "#bd3786"
             ],
             [
              0.5555555555555556,
              "#d8576b"
             ],
             [
              0.6666666666666666,
              "#ed7953"
             ],
             [
              0.7777777777777778,
              "#fb9f3a"
             ],
             [
              0.8888888888888888,
              "#fdca26"
             ],
             [
              1,
              "#f0f921"
             ]
            ],
            "type": "histogram2d"
           }
          ],
          "histogram2dcontour": [
           {
            "colorbar": {
             "outlinewidth": 0,
             "ticks": ""
            },
            "colorscale": [
             [
              0,
              "#0d0887"
             ],
             [
              0.1111111111111111,
              "#46039f"
             ],
             [
              0.2222222222222222,
              "#7201a8"
             ],
             [
              0.3333333333333333,
              "#9c179e"
             ],
             [
              0.4444444444444444,
              "#bd3786"
             ],
             [
              0.5555555555555556,
              "#d8576b"
             ],
             [
              0.6666666666666666,
              "#ed7953"
             ],
             [
              0.7777777777777778,
              "#fb9f3a"
             ],
             [
              0.8888888888888888,
              "#fdca26"
             ],
             [
              1,
              "#f0f921"
             ]
            ],
            "type": "histogram2dcontour"
           }
          ],
          "mesh3d": [
           {
            "colorbar": {
             "outlinewidth": 0,
             "ticks": ""
            },
            "type": "mesh3d"
           }
          ],
          "parcoords": [
           {
            "line": {
             "colorbar": {
              "outlinewidth": 0,
              "ticks": ""
             }
            },
            "type": "parcoords"
           }
          ],
          "pie": [
           {
            "automargin": true,
            "type": "pie"
           }
          ],
          "scatter": [
           {
            "fillpattern": {
             "fillmode": "overlay",
             "size": 10,
             "solidity": 0.2
            },
            "type": "scatter"
           }
          ],
          "scatter3d": [
           {
            "line": {
             "colorbar": {
              "outlinewidth": 0,
              "ticks": ""
             }
            },
            "marker": {
             "colorbar": {
              "outlinewidth": 0,
              "ticks": ""
             }
            },
            "type": "scatter3d"
           }
          ],
          "scattercarpet": [
           {
            "marker": {
             "colorbar": {
              "outlinewidth": 0,
              "ticks": ""
             }
            },
            "type": "scattercarpet"
           }
          ],
          "scattergeo": [
           {
            "marker": {
             "colorbar": {
              "outlinewidth": 0,
              "ticks": ""
             }
            },
            "type": "scattergeo"
           }
          ],
          "scattergl": [
           {
            "marker": {
             "colorbar": {
              "outlinewidth": 0,
              "ticks": ""
             }
            },
            "type": "scattergl"
           }
          ],
          "scattermapbox": [
           {
            "marker": {
             "colorbar": {
              "outlinewidth": 0,
              "ticks": ""
             }
            },
            "type": "scattermapbox"
           }
          ],
          "scatterpolar": [
           {
            "marker": {
             "colorbar": {
              "outlinewidth": 0,
              "ticks": ""
             }
            },
            "type": "scatterpolar"
           }
          ],
          "scatterpolargl": [
           {
            "marker": {
             "colorbar": {
              "outlinewidth": 0,
              "ticks": ""
             }
            },
            "type": "scatterpolargl"
           }
          ],
          "scatterternary": [
           {
            "marker": {
             "colorbar": {
              "outlinewidth": 0,
              "ticks": ""
             }
            },
            "type": "scatterternary"
           }
          ],
          "surface": [
           {
            "colorbar": {
             "outlinewidth": 0,
             "ticks": ""
            },
            "colorscale": [
             [
              0,
              "#0d0887"
             ],
             [
              0.1111111111111111,
              "#46039f"
             ],
             [
              0.2222222222222222,
              "#7201a8"
             ],
             [
              0.3333333333333333,
              "#9c179e"
             ],
             [
              0.4444444444444444,
              "#bd3786"
             ],
             [
              0.5555555555555556,
              "#d8576b"
             ],
             [
              0.6666666666666666,
              "#ed7953"
             ],
             [
              0.7777777777777778,
              "#fb9f3a"
             ],
             [
              0.8888888888888888,
              "#fdca26"
             ],
             [
              1,
              "#f0f921"
             ]
            ],
            "type": "surface"
           }
          ],
          "table": [
           {
            "cells": {
             "fill": {
              "color": "#EBF0F8"
             },
             "line": {
              "color": "white"
             }
            },
            "header": {
             "fill": {
              "color": "#C8D4E3"
             },
             "line": {
              "color": "white"
             }
            },
            "type": "table"
           }
          ]
         },
         "layout": {
          "annotationdefaults": {
           "arrowcolor": "#2a3f5f",
           "arrowhead": 0,
           "arrowwidth": 1
          },
          "autotypenumbers": "strict",
          "coloraxis": {
           "colorbar": {
            "outlinewidth": 0,
            "ticks": ""
           }
          },
          "colorscale": {
           "diverging": [
            [
             0,
             "#8e0152"
            ],
            [
             0.1,
             "#c51b7d"
            ],
            [
             0.2,
             "#de77ae"
            ],
            [
             0.3,
             "#f1b6da"
            ],
            [
             0.4,
             "#fde0ef"
            ],
            [
             0.5,
             "#f7f7f7"
            ],
            [
             0.6,
             "#e6f5d0"
            ],
            [
             0.7,
             "#b8e186"
            ],
            [
             0.8,
             "#7fbc41"
            ],
            [
             0.9,
             "#4d9221"
            ],
            [
             1,
             "#276419"
            ]
           ],
           "sequential": [
            [
             0,
             "#0d0887"
            ],
            [
             0.1111111111111111,
             "#46039f"
            ],
            [
             0.2222222222222222,
             "#7201a8"
            ],
            [
             0.3333333333333333,
             "#9c179e"
            ],
            [
             0.4444444444444444,
             "#bd3786"
            ],
            [
             0.5555555555555556,
             "#d8576b"
            ],
            [
             0.6666666666666666,
             "#ed7953"
            ],
            [
             0.7777777777777778,
             "#fb9f3a"
            ],
            [
             0.8888888888888888,
             "#fdca26"
            ],
            [
             1,
             "#f0f921"
            ]
           ],
           "sequentialminus": [
            [
             0,
             "#0d0887"
            ],
            [
             0.1111111111111111,
             "#46039f"
            ],
            [
             0.2222222222222222,
             "#7201a8"
            ],
            [
             0.3333333333333333,
             "#9c179e"
            ],
            [
             0.4444444444444444,
             "#bd3786"
            ],
            [
             0.5555555555555556,
             "#d8576b"
            ],
            [
             0.6666666666666666,
             "#ed7953"
            ],
            [
             0.7777777777777778,
             "#fb9f3a"
            ],
            [
             0.8888888888888888,
             "#fdca26"
            ],
            [
             1,
             "#f0f921"
            ]
           ]
          },
          "colorway": [
           "#636efa",
           "#EF553B",
           "#00cc96",
           "#ab63fa",
           "#FFA15A",
           "#19d3f3",
           "#FF6692",
           "#B6E880",
           "#FF97FF",
           "#FECB52"
          ],
          "font": {
           "color": "#2a3f5f"
          },
          "geo": {
           "bgcolor": "white",
           "lakecolor": "white",
           "landcolor": "#E5ECF6",
           "showlakes": true,
           "showland": true,
           "subunitcolor": "white"
          },
          "hoverlabel": {
           "align": "left"
          },
          "hovermode": "closest",
          "mapbox": {
           "style": "light"
          },
          "paper_bgcolor": "white",
          "plot_bgcolor": "#E5ECF6",
          "polar": {
           "angularaxis": {
            "gridcolor": "white",
            "linecolor": "white",
            "ticks": ""
           },
           "bgcolor": "#E5ECF6",
           "radialaxis": {
            "gridcolor": "white",
            "linecolor": "white",
            "ticks": ""
           }
          },
          "scene": {
           "xaxis": {
            "backgroundcolor": "#E5ECF6",
            "gridcolor": "white",
            "gridwidth": 2,
            "linecolor": "white",
            "showbackground": true,
            "ticks": "",
            "zerolinecolor": "white"
           },
           "yaxis": {
            "backgroundcolor": "#E5ECF6",
            "gridcolor": "white",
            "gridwidth": 2,
            "linecolor": "white",
            "showbackground": true,
            "ticks": "",
            "zerolinecolor": "white"
           },
           "zaxis": {
            "backgroundcolor": "#E5ECF6",
            "gridcolor": "white",
            "gridwidth": 2,
            "linecolor": "white",
            "showbackground": true,
            "ticks": "",
            "zerolinecolor": "white"
           }
          },
          "shapedefaults": {
           "line": {
            "color": "#2a3f5f"
           }
          },
          "ternary": {
           "aaxis": {
            "gridcolor": "white",
            "linecolor": "white",
            "ticks": ""
           },
           "baxis": {
            "gridcolor": "white",
            "linecolor": "white",
            "ticks": ""
           },
           "bgcolor": "#E5ECF6",
           "caxis": {
            "gridcolor": "white",
            "linecolor": "white",
            "ticks": ""
           }
          },
          "title": {
           "x": 0.05
          },
          "xaxis": {
           "automargin": true,
           "gridcolor": "white",
           "linecolor": "white",
           "ticks": "",
           "title": {
            "standoff": 15
           },
           "zerolinecolor": "white",
           "zerolinewidth": 2
          },
          "yaxis": {
           "automargin": true,
           "gridcolor": "white",
           "linecolor": "white",
           "ticks": "",
           "title": {
            "standoff": 15
           },
           "zerolinecolor": "white",
           "zerolinewidth": 2
          }
         }
        },
        "title": {
         "text": "Top 10 Countries: Bed-Places in 1995 vs Latest Year"
        },
        "xaxis": {
         "title": {
          "text": "Country"
         }
        },
        "yaxis": {
         "title": {
          "text": "Number of Bed Places"
         }
        }
       }
      }
     },
     "metadata": {},
     "output_type": "display_data"
    }
   ],
   "source": [
    "import plotly.graph_objects as go\n",
    "\n",
    "fig = go.Figure()\n",
    "years = df_pivot.columns.tolist()\n",
    "\n",
    "fig.add_trace(go.Bar(x=df_pivot.index, y=df_pivot[years[0]],\n",
    "                     name=str(years[0])))\n",
    "fig.add_trace(go.Bar(x=df_pivot.index, y=df_pivot[years[1]],\n",
    "                     name=str(years[1])))\n",
    "\n",
    "fig.update_layout(barmode='group',\n",
    "                  title='Top 10 Countries: Bed-Places in 1995 vs Latest Year',\n",
    "                  xaxis_title='Country',\n",
    "                  yaxis_title='Number of Bed Places')\n",
    "fig.show()\n"
   ]
  },
  {
   "cell_type": "code",
   "execution_count": null,
   "metadata": {},
   "outputs": [],
   "source": []
  }
 ],
 "metadata": {
  "kernelspec": {
   "display_name": "py11",
   "language": "python",
   "name": "python3"
  },
  "language_info": {
   "codemirror_mode": {
    "name": "ipython",
    "version": 3
   },
   "file_extension": ".py",
   "mimetype": "text/x-python",
   "name": "python",
   "nbconvert_exporter": "python",
   "pygments_lexer": "ipython3",
   "version": "3.11.10"
  }
 },
 "nbformat": 4,
 "nbformat_minor": 2
}
