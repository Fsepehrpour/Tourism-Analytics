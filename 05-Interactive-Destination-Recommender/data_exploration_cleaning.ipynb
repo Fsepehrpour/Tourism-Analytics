{
 "cells": [
  {
   "cell_type": "code",
   "execution_count": 1,
   "id": "a48f9531",
   "metadata": {},
   "outputs": [],
   "source": [
    "import pandas as pd\n",
    "import numpy as np\n",
    "import random\n",
    "from faker import Faker\n"
   ]
  },
  {
   "cell_type": "code",
   "execution_count": 2,
   "id": "8d812035",
   "metadata": {},
   "outputs": [],
   "source": [
    "file_path = './Travel details dataset.csv'\n",
    "df = pd.read_csv(file_path)"
   ]
  },
  {
   "cell_type": "code",
   "execution_count": 3,
   "id": "ff6c0175",
   "metadata": {},
   "outputs": [
    {
     "name": "stdout",
     "output_type": "stream",
     "text": [
      "<class 'pandas.core.frame.DataFrame'>\n",
      "RangeIndex: 139 entries, 0 to 138\n",
      "Data columns (total 13 columns):\n",
      " #   Column                Non-Null Count  Dtype  \n",
      "---  ------                --------------  -----  \n",
      " 0   Trip ID               139 non-null    int64  \n",
      " 1   Destination           137 non-null    object \n",
      " 2   Start date            137 non-null    object \n",
      " 3   End date              137 non-null    object \n",
      " 4   Duration (days)       137 non-null    float64\n",
      " 5   Traveler name         137 non-null    object \n",
      " 6   Traveler age          137 non-null    float64\n",
      " 7   Traveler gender       137 non-null    object \n",
      " 8   Traveler nationality  137 non-null    object \n",
      " 9   Accommodation type    137 non-null    object \n",
      " 10  Accommodation cost    137 non-null    object \n",
      " 11  Transportation type   136 non-null    object \n",
      " 12  Transportation cost   136 non-null    object \n",
      "dtypes: float64(2), int64(1), object(10)\n",
      "memory usage: 14.2+ KB\n"
     ]
    }
   ],
   "source": [
    "df.info()"
   ]
  },
  {
   "cell_type": "code",
   "execution_count": 4,
   "id": "272db9ef",
   "metadata": {},
   "outputs": [
    {
     "data": {
      "text/plain": [
       "Trip ID                 0\n",
       "Destination             2\n",
       "Start date              2\n",
       "End date                2\n",
       "Duration (days)         2\n",
       "Traveler name           2\n",
       "Traveler age            2\n",
       "Traveler gender         2\n",
       "Traveler nationality    2\n",
       "Accommodation type      2\n",
       "Accommodation cost      2\n",
       "Transportation type     3\n",
       "Transportation cost     3\n",
       "dtype: int64"
      ]
     },
     "execution_count": 4,
     "metadata": {},
     "output_type": "execute_result"
    }
   ],
   "source": [
    "df.isnull().sum()"
   ]
  },
  {
   "cell_type": "markdown",
   "id": "2b837fe5",
   "metadata": {},
   "source": [
    "### Data Cleaning"
   ]
  },
  {
   "cell_type": "code",
   "execution_count": 5,
   "id": "c5a6447b",
   "metadata": {},
   "outputs": [
    {
     "data": {
      "text/plain": [
       "Index(['trip_id', 'destination', 'start_date', 'end_date', 'duration_(days)',\n",
       "       'traveler_name', 'traveler_age', 'traveler_gender',\n",
       "       'traveler_nationality', 'accommodation_type', 'accommodation_cost',\n",
       "       'transportation_type', 'transportation_cost'],\n",
       "      dtype='object')"
      ]
     },
     "execution_count": 5,
     "metadata": {},
     "output_type": "execute_result"
    }
   ],
   "source": [
    "# Standardize Column Names\n",
    "df.columns = df.columns.str.strip().str.lower().str.replace(\" \", \"_\")\n",
    "df.columns\n"
   ]
  },
  {
   "cell_type": "code",
   "execution_count": 6,
   "id": "1612dd31",
   "metadata": {},
   "outputs": [],
   "source": [
    "# Convert Cost Columns to Numeric\n",
    "df['accommodation_cost'] = df['accommodation_cost'].replace(r'[^\\d.]', '', regex=True).astype(float)\n",
    "df['transportation_cost'] = df['transportation_cost'].replace(r'[^\\d.]', '', regex=True).astype(float)"
   ]
  },
  {
   "cell_type": "code",
   "execution_count": 7,
   "id": "2084ccf9",
   "metadata": {},
   "outputs": [
    {
     "name": "stdout",
     "output_type": "stream",
     "text": [
      "trip_id                 0\n",
      "destination             2\n",
      "start_date              2\n",
      "end_date                2\n",
      "duration_(days)         2\n",
      "traveler_name           2\n",
      "traveler_age            2\n",
      "traveler_gender         2\n",
      "traveler_nationality    2\n",
      "accommodation_type      2\n",
      "accommodation_cost      2\n",
      "transportation_type     3\n",
      "transportation_cost     3\n",
      "dtype: int64\n"
     ]
    }
   ],
   "source": [
    "# Chack missing values\n",
    "missing_summary = df.isnull().sum()\n",
    "print(missing_summary)"
   ]
  },
  {
   "cell_type": "code",
   "execution_count": 8,
   "id": "8e54d293",
   "metadata": {},
   "outputs": [
    {
     "name": "stdout",
     "output_type": "stream",
     "text": [
      "     trip_id  destination start_date   end_date  duration_(days)  \\\n",
      "71        72          NaN        NaN        NaN              NaN   \n",
      "82        83  Rome, Italy  4/15/2025  4/22/2025              7.0   \n",
      "127      128          NaN        NaN        NaN              NaN   \n",
      "\n",
      "    traveler_name  traveler_age traveler_gender traveler_nationality  \\\n",
      "71            NaN           NaN             NaN                  NaN   \n",
      "82      James Kim          41.0            Male             American   \n",
      "127           NaN           NaN             NaN                  NaN   \n",
      "\n",
      "    accommodation_type  accommodation_cost transportation_type  \\\n",
      "71                 NaN                 NaN                 NaN   \n",
      "82               Hotel               100.0                 NaN   \n",
      "127                NaN                 NaN                 NaN   \n",
      "\n",
      "     transportation_cost  \n",
      "71                   NaN  \n",
      "82                   NaN  \n",
      "127                  NaN  \n"
     ]
    }
   ],
   "source": [
    "# Reviwe rows with missing data\n",
    "missing_rows = df[df.isnull().any(axis=1)]\n",
    "print(missing_rows.head())"
   ]
  },
  {
   "cell_type": "code",
   "execution_count": 9,
   "id": "4cd0a30c",
   "metadata": {},
   "outputs": [],
   "source": [
    "# Handle missing values\n",
    "df = df.dropna(subset= [\n",
    "               'destination', 'start_date', 'end_date', 'duration_(days)',\n",
    "    'traveler_name', 'traveler_age', 'traveler_gender',\n",
    "    'traveler_nationality', 'accommodation_type', 'accommodation_cost',\n",
    "    'transportation_type', 'transportation_cost'\n",
    "])"
   ]
  },
  {
   "cell_type": "markdown",
   "id": "40b4425e",
   "metadata": {},
   "source": [
    "### Data Enrichment"
   ]
  },
  {
   "cell_type": "code",
   "execution_count": 10,
   "id": "bcdc70b7",
   "metadata": {},
   "outputs": [],
   "source": [
    "# Impute Missing Costs with Average\n",
    "\n",
    "## Impute accommodation cost\n",
    "df['accommodation_cost'] = df.groupby(['destination', 'accommodation_type'])['accommodation_cost'] \\\n",
    "                            .transform( lambda x: x.fillna(x.mean))\n",
    "\n",
    "df['transportation_cost'] = df.groupby(['destination', 'transportation_type'])['transportation_cost'] \\\n",
    "                            .transform(lambda x: x.fillna(x.mean()))"
   ]
  },
  {
   "cell_type": "code",
   "execution_count": 11,
   "id": "c10783cb",
   "metadata": {},
   "outputs": [],
   "source": [
    "# Add seasonality tags based on travel month\n",
    "\n",
    "# convert start_date to datetime\n",
    "df['start_date'] = pd.to_datetime(df['start_date'], errors='coerce')\n",
    "\n",
    "# extract travel month\n",
    "df['travel_month'] = df['start_date'].dt.month"
   ]
  },
  {
   "cell_type": "code",
   "execution_count": 12,
   "id": "2397a3de",
   "metadata": {},
   "outputs": [],
   "source": [
    "# Define a function to map months to season\n",
    "\n",
    "def get_season(month):\n",
    "    if month in [12,1,2]:\n",
    "        return 'Winter'\n",
    "    elif month in [3,4,5]:\n",
    "        return 'Spring'\n",
    "    elif month in [6,7,8]:\n",
    "        return 'Summer'\n",
    "    elif month in [9,10,11]:\n",
    "        return 'Autumn'\n",
    "    return 'Unknown'\n",
    "\n",
    "df['season'] = df['travel_month'].apply(get_season)"
   ]
  },
  {
   "cell_type": "code",
   "execution_count": 13,
   "id": "64599749",
   "metadata": {},
   "outputs": [],
   "source": [
    "# Add interest categories based on destinaton\n",
    "\n",
    "# Simple map for destination interests\n",
    "interest_map = {\n",
    "    'London': 'History',\n",
    "    'Phuket': 'Beach',\n",
    "    'Bali': 'Beach',\n",
    "    'New York': 'Shopping',\n",
    "    'Tokyo': 'Culture',\n",
    "    'Paris': 'Romance',\n",
    "    'Sydney': 'Nature',\n",
    "    'Rio de Janeiro': 'Beach',\n",
    "    'Amsterdam': 'Art',\n",
    "    'Dubai': 'Luxury',\n",
    "    'Cancun': 'Beach',\n",
    "    'Barcelona': 'Art',\n",
    "    'Honolulu': 'Beach',\n",
    "    'Berlin': 'History',\n",
    "    'Marrakech': 'Culture',\n",
    "    'Edinburgh': 'History',\n",
    "    'Rome': 'Culture',\n",
    "    'Bangkok': 'Street Life',\n",
    "    'Hawaii': 'Beach',\n",
    "    'Japan': 'Culture',\n",
    "    'Thailand': 'Beach',\n",
    "    'France': 'Romance',\n",
    "    'Australia': 'Nature',\n",
    "    'Brazil': 'Carnival',\n",
    "    'Greece': 'History',\n",
    "    'Egypt': 'History',\n",
    "    'Mexico': 'Culture',\n",
    "    'Italy': 'Art',\n",
    "    'Spain': 'Culture',\n",
    "    'Canada': 'Nature',\n",
    "    'New York City': 'Shopping',\n",
    "    'Vancouver': 'Nature',\n",
    "    'Seoul': 'Tech & Culture',\n",
    "    'Los Angeles': 'Entertainment',\n",
    "    'Cape Town': 'Adventure',\n",
    "    'Santorini': 'Romance',\n",
    "    'Phnom Penh': 'History',\n",
    "    'Athens': 'Ancient History',\n",
    "    'Auckland': 'Nature',\n",
    "    'Cairo': 'History',\n",
    "    'Reykjavik': 'Nature'\n",
    "}\n",
    "\n",
    "\n",
    "# Map to a new column\n",
    "df['interest_category'] = df['destination'].map(lambda x: interest_map.get(str(x).split(',')[0], 'General'))"
   ]
  },
  {
   "cell_type": "code",
   "execution_count": 14,
   "id": "89ee103d",
   "metadata": {},
   "outputs": [
    {
     "data": {
      "text/plain": [
       "array([35., 28., 45., 29., 26., 42., 33., 25., 31., 39., 27., 36., 48.,\n",
       "       32., 30., 40., 24., 34., 20., 37., 38., 55., 41., 23., 43., 46.,\n",
       "       60., 50., 47.])"
      ]
     },
     "execution_count": 14,
     "metadata": {},
     "output_type": "execute_result"
    }
   ],
   "source": [
    "df['traveler_age'].unique()"
   ]
  },
  {
   "cell_type": "code",
   "execution_count": 15,
   "id": "782bb47c",
   "metadata": {},
   "outputs": [],
   "source": [
    "# Add synthetic travelers rows\n",
    "\n",
    "fake = Faker()\n",
    "new_rows = []\n",
    "\n",
    "accommodation_cost_map = {\n",
    "    'Hostel': (100,300),\n",
    "    'Airbnb': (200,1000),\n",
    "    'Hotel': (500,1200),\n",
    "    'Resort': (800, 1500)\n",
    "}\n",
    "\n",
    "transportation_cost_map = {\n",
    "    'Bus': (50,200),\n",
    "    'Train': (100, 400),\n",
    "    'Flight': (300, 1000)\n",
    "}\n",
    "\n",
    "\n",
    "for _ in range(100):\n",
    "    destination = random.choice(list(interest_map.keys()))\n",
    "\n",
    "    acc_type = random.choice(list(accommodation_cost_map.keys()))\n",
    "    trans_type = random.choice(list(transportation_cost_map.keys()))\n",
    "\n",
    "    acc_min, acc_max = accommodation_cost_map[acc_type]\n",
    "    acc_cost = random.randint(acc_min, acc_max)\n",
    "\n",
    "    trans_min, trans_max = transportation_cost_map[trans_type]\n",
    "    trans_cost = random.randint(trans_min, trans_max)\n",
    "\n",
    "    duration = random.choice([int(x) for x in list(df['duration_(days)'].unique()) if not np.isnan(x)])\n",
    "    start_date = fake.date_between(start_date='-1y', end_date='today')\n",
    "    end_date = start_date + pd.to_timedelta(duration, unit='D')\n",
    "\n",
    "    new_rows.append({\n",
    "        'trip_id': df['trip_id'].max() + len(new_rows) + 1,\n",
    "        'destination' : destination,\n",
    "        'start_date': start_date,\n",
    "        'end_date': end_date,\n",
    "        'duration_(days)': duration,\n",
    "        'traveler_name': fake.name(),\n",
    "        'traveler_age': random.randint(18,65),\n",
    "        'traveler_gender': random.choice(['Male', 'Female']),\n",
    "        'traveler_nationality': fake.country(),\n",
    "        'accommodation_type': acc_type,\n",
    "        'accommodation_cost': acc_cost,\n",
    "        'transportation_type': trans_type,\n",
    "        'transportation_cost': trans_cost,\n",
    "        'travel_month': random.randint(1,12),\n",
    "    })\n"
   ]
  },
  {
   "cell_type": "code",
   "execution_count": 16,
   "id": "6acbed30",
   "metadata": {},
   "outputs": [],
   "source": [
    "# Append the new synthetic records\n",
    "df = pd.concat([df, pd.DataFrame(new_rows)], ignore_index=True)"
   ]
  },
  {
   "cell_type": "code",
   "execution_count": 17,
   "id": "d46ad07f",
   "metadata": {},
   "outputs": [
    {
     "name": "stdout",
     "output_type": "stream",
     "text": [
      "<class 'pandas.core.frame.DataFrame'>\n",
      "RangeIndex: 236 entries, 0 to 235\n",
      "Data columns (total 16 columns):\n",
      " #   Column                Non-Null Count  Dtype  \n",
      "---  ------                --------------  -----  \n",
      " 0   trip_id               236 non-null    int64  \n",
      " 1   destination           236 non-null    object \n",
      " 2   start_date            236 non-null    object \n",
      " 3   end_date              236 non-null    object \n",
      " 4   duration_(days)       236 non-null    float64\n",
      " 5   traveler_name         236 non-null    object \n",
      " 6   traveler_age          236 non-null    float64\n",
      " 7   traveler_gender       236 non-null    object \n",
      " 8   traveler_nationality  236 non-null    object \n",
      " 9   accommodation_type    236 non-null    object \n",
      " 10  accommodation_cost    236 non-null    float64\n",
      " 11  transportation_type   236 non-null    object \n",
      " 12  transportation_cost   236 non-null    float64\n",
      " 13  travel_month          236 non-null    int64  \n",
      " 14  season                136 non-null    object \n",
      " 15  interest_category     136 non-null    object \n",
      "dtypes: float64(4), int64(2), object(10)\n",
      "memory usage: 29.6+ KB\n"
     ]
    }
   ],
   "source": [
    "df.info()"
   ]
  },
  {
   "cell_type": "code",
   "execution_count": 18,
   "id": "8e6b7636",
   "metadata": {},
   "outputs": [
    {
     "data": {
      "text/plain": [
       "array(['London, UK', 'Phuket, Thailand', 'Bali, Indonesia',\n",
       "       'New York, USA', 'Tokyo, Japan', 'Paris, France',\n",
       "       'Sydney, Australia', 'Rio de Janeiro, Brazil',\n",
       "       'Amsterdam, Netherlands', 'Dubai, United Arab Emirates',\n",
       "       'Cancun, Mexico', 'Barcelona, Spain', 'Honolulu, Hawaii',\n",
       "       'Berlin, Germany', 'Marrakech, Morocco', 'Edinburgh, Scotland',\n",
       "       'Paris', 'Bali', 'London', 'Tokyo', 'New York', 'Sydney', 'Rome',\n",
       "       'Bangkok', 'Hawaii', 'Barcelona', 'Japan', 'Thailand', 'France',\n",
       "       'Australia', 'Brazil', 'Greece', 'Egypt', 'Mexico', 'Italy',\n",
       "       'Spain', 'Canada', 'New York City, USA', 'Bangkok, Thailand',\n",
       "       'Vancouver, Canada', 'Sydney, AUS', 'Seoul, South Korea',\n",
       "       'Los Angeles, USA', 'Rome, Italy', 'Cape Town', 'Cape Town, SA',\n",
       "       'Sydney, Aus', 'Bangkok, Thai', 'Phuket, Thai', 'Dubai', 'Seoul',\n",
       "       'Rio de Janeiro', 'Amsterdam', 'Phuket', 'Santorini', 'Phnom Penh',\n",
       "       'Athens, Greece', 'Cape Town, South Africa',\n",
       "       'Auckland, New Zealand', 'Vancouver', 'Marrakech', 'Reykjavik',\n",
       "       'New York City', 'Cancun', 'Edinburgh', 'Los Angeles', 'Honolulu',\n",
       "       'Athens', 'Berlin', 'Auckland', 'Cairo'], dtype=object)"
      ]
     },
     "execution_count": 18,
     "metadata": {},
     "output_type": "execute_result"
    }
   ],
   "source": [
    "df.destination.unique()"
   ]
  },
  {
   "cell_type": "code",
   "execution_count": 19,
   "id": "e35bc26d",
   "metadata": {},
   "outputs": [],
   "source": [
    "# Handle remaining missing values\n",
    "df.season = df.travel_month.apply(get_season)\n",
    "df['interest_category'] = df['destination'].map(lambda x: interest_map.get(str(x).split(',')[0], 'General'))"
   ]
  },
  {
   "cell_type": "code",
   "execution_count": 23,
   "id": "6ca15dd1",
   "metadata": {},
   "outputs": [
    {
     "name": "stdout",
     "output_type": "stream",
     "text": [
      "<class 'pandas.core.frame.DataFrame'>\n",
      "RangeIndex: 236 entries, 0 to 235\n",
      "Data columns (total 17 columns):\n",
      " #   Column                Non-Null Count  Dtype  \n",
      "---  ------                --------------  -----  \n",
      " 0   trip_id               236 non-null    int64  \n",
      " 1   destination           236 non-null    object \n",
      " 2   start_date            236 non-null    object \n",
      " 3   end_date              236 non-null    object \n",
      " 4   duration_(days)       236 non-null    float64\n",
      " 5   traveler_name         236 non-null    object \n",
      " 6   traveler_age          236 non-null    float64\n",
      " 7   traveler_gender       236 non-null    object \n",
      " 8   traveler_nationality  236 non-null    object \n",
      " 9   accommodation_type    236 non-null    object \n",
      " 10  accommodation_cost    236 non-null    float64\n",
      " 11  transportation_type   236 non-null    object \n",
      " 12  transportation_cost   236 non-null    float64\n",
      " 13  travel_month          236 non-null    int64  \n",
      " 14  season                236 non-null    object \n",
      " 15  interest_category     236 non-null    object \n",
      " 16  total_cost            236 non-null    float64\n",
      "dtypes: float64(5), int64(2), object(10)\n",
      "memory usage: 31.5+ KB\n"
     ]
    }
   ],
   "source": [
    "df.info()"
   ]
  },
  {
   "cell_type": "code",
   "execution_count": 22,
   "id": "56f23059",
   "metadata": {},
   "outputs": [],
   "source": [
    "# Add a column for total cost of a trip\n",
    "df['total_cost'] = df['accommodation_cost'] + df['transportation_cost']"
   ]
  },
  {
   "cell_type": "code",
   "execution_count": 24,
   "id": "d790301c",
   "metadata": {},
   "outputs": [],
   "source": [
    "df.to_csv('./cleaned_travel_dataset.csv')"
   ]
  },
  {
   "cell_type": "code",
   "execution_count": null,
   "id": "9a83de70",
   "metadata": {},
   "outputs": [],
   "source": []
  },
  {
   "cell_type": "code",
   "execution_count": null,
   "id": "03dcc0e2",
   "metadata": {},
   "outputs": [],
   "source": []
  }
 ],
 "metadata": {
  "kernelspec": {
   "display_name": "py11",
   "language": "python",
   "name": "python3"
  },
  "language_info": {
   "codemirror_mode": {
    "name": "ipython",
    "version": 3
   },
   "file_extension": ".py",
   "mimetype": "text/x-python",
   "name": "python",
   "nbconvert_exporter": "python",
   "pygments_lexer": "ipython3",
   "version": "3.11.10"
  }
 },
 "nbformat": 4,
 "nbformat_minor": 5
}
