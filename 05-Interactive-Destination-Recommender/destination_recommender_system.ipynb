{
 "cells": [
  {
   "cell_type": "markdown",
   "id": "43b3c8fc",
   "metadata": {},
   "source": [
    "Objective:\n",
    "Recommend destinations based on:\n",
    " - User budget\n",
    " - Preferred season\n",
    " - Desired interest Category\n",
    "\n",
    "**Rule-Based Recommender"
   ]
  },
  {
   "cell_type": "code",
   "execution_count": 1,
   "id": "e1516639",
   "metadata": {},
   "outputs": [],
   "source": [
    "import pandas as pd"
   ]
  },
  {
   "cell_type": "code",
   "execution_count": 2,
   "id": "6c5b426b",
   "metadata": {},
   "outputs": [
    {
     "name": "stdout",
     "output_type": "stream",
     "text": [
      "<class 'pandas.core.frame.DataFrame'>\n",
      "RangeIndex: 236 entries, 0 to 235\n",
      "Data columns (total 17 columns):\n",
      " #   Column                Non-Null Count  Dtype  \n",
      "---  ------                --------------  -----  \n",
      " 0   Unnamed: 0            236 non-null    int64  \n",
      " 1   trip_id               236 non-null    int64  \n",
      " 2   destination           236 non-null    object \n",
      " 3   start_date            236 non-null    object \n",
      " 4   end_date              236 non-null    object \n",
      " 5   duration_(days)       236 non-null    float64\n",
      " 6   traveler_name         236 non-null    object \n",
      " 7   traveler_age          236 non-null    float64\n",
      " 8   traveler_gender       236 non-null    object \n",
      " 9   traveler_nationality  236 non-null    object \n",
      " 10  accommodation_type    236 non-null    object \n",
      " 11  accommodation_cost    236 non-null    float64\n",
      " 12  transportation_type   236 non-null    object \n",
      " 13  transportation_cost   236 non-null    float64\n",
      " 14  travel_month          236 non-null    int64  \n",
      " 15  season                236 non-null    object \n",
      " 16  interest_category     236 non-null    object \n",
      "dtypes: float64(4), int64(3), object(10)\n",
      "memory usage: 31.5+ KB\n"
     ]
    }
   ],
   "source": [
    "# Load the cleaned data\n",
    "\n",
    "df = pd.read_csv('./cleaned_travel_dataset.csv')\n",
    "df.info()"
   ]
  },
  {
   "cell_type": "code",
   "execution_count": 3,
   "id": "68509789",
   "metadata": {},
   "outputs": [],
   "source": [
    "# Simulate user input\n",
    "user_budget = 1500\n",
    "preferred_season = 'Summer'\n",
    "preferred_interest = 'Beach'\n",
    "\n"
   ]
  },
  {
   "cell_type": "code",
   "execution_count": 5,
   "id": "bb06434e",
   "metadata": {},
   "outputs": [],
   "source": [
    "# Filter based on user preferences\n",
    "recommended_df = df[\n",
    "    (df['total_cost'] <= user_budget) &\n",
    "    (df['season'] == preferred_season) &\n",
    "    (df['interest_category'] == preferred_interest)\n",
    "]"
   ]
  },
  {
   "cell_type": "code",
   "execution_count": 6,
   "id": "5e1775cd",
   "metadata": {},
   "outputs": [
    {
     "name": "stdout",
     "output_type": "stream",
     "text": [
      " Top recommended destinations:\n",
      "                total_cost interest_category  season\n",
      "destination                                         \n",
      "Thailand             350.0             Beach  Summer\n",
      "Hawaii               356.0             Beach  Summer\n",
      "Honolulu             450.0             Beach  Summer\n",
      "Rio de Janeiro       807.0             Beach  Summer\n",
      "Cancun               951.5             Beach  Summer\n"
     ]
    }
   ],
   "source": [
    "# Group by destination and show average cost\n",
    "recommendations = recommended_df.groupby('destination').agg({\n",
    "    'total_cost': 'mean',\n",
    "    'interest_category': 'first',\n",
    "    'season': 'first'\n",
    "}).sort_values(by='total_cost')\n",
    "\n",
    "# show results\n",
    "print(\" Top recommended destinations:\")\n",
    "print(recommendations.head())"
   ]
  },
  {
   "cell_type": "code",
   "execution_count": null,
   "id": "cf23b601",
   "metadata": {},
   "outputs": [],
   "source": []
  }
 ],
 "metadata": {
  "kernelspec": {
   "display_name": "py11",
   "language": "python",
   "name": "python3"
  },
  "language_info": {
   "codemirror_mode": {
    "name": "ipython",
    "version": 3
   },
   "file_extension": ".py",
   "mimetype": "text/x-python",
   "name": "python",
   "nbconvert_exporter": "python",
   "pygments_lexer": "ipython3",
   "version": "3.11.10"
  }
 },
 "nbformat": 4,
 "nbformat_minor": 5
}
